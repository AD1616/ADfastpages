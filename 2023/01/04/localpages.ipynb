{
 "cells": [
  {
   "attachments": {},
   "cell_type": "markdown",
   "metadata": {},
   "source": [
    "Do not use ruby 3.2.0.\n",
    "\n",
    "Install 2.7.7 with\n",
    "\n",
    "ruby-install 2.7.7\n",
    "\n",
    "Then update zshrc version\n",
    "\n",
    "then change version with \n",
    "\n",
    "chruby 2.7.7\n",
    "\n",
    "now do\n",
    "\n",
    "bundle install\n",
    "bundle exec jekyll serve"
   ]
  },
  {
   "cell_type": "markdown",
   "metadata": {},
   "source": []
  }
 ],
 "metadata": {
  "language_info": {
   "name": "python"
  },
  "orig_nbformat": 4
 },
 "nbformat": 4,
 "nbformat_minor": 2
}
