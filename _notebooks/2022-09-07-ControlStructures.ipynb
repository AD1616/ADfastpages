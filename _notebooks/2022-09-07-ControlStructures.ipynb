{
 "cells": [
  {
   "cell_type": "markdown",
   "metadata": {},
   "source": [
    "# Control Structures\n",
    "> Lesson on control structures in Java\n",
    "\n",
    "- title: Control Structures\n",
    "- toc: true\n",
    "- comments: true\n",
    "- categories: [java]"
   ]
  },
  {
   "cell_type": "markdown",
   "metadata": {},
   "source": [
    "# What are control structures?\n",
    "\n",
    "Control Structures control the flow of a program. They determine what and when segments of code are executed.\n",
    "\n",
    "There are two types of control structures: conditionals and iteratatives. Conditionals consist of if/else statements, which execute a code segment based on if a condition has been met. In iteration, we mainly use for loops and while loops, which repeat the code segment inside of the loop until a certain condition has been met. \n",
    "\n",
    "All control structures make heavy use of booleans and boolean expressions."
   ]
  },
  {
   "cell_type": "markdown",
   "metadata": {},
   "source": []
  }
 ],
 "metadata": {
  "kernelspec": {
   "display_name": "Java",
   "language": "java",
   "name": "java"
  },
  "language_info": {
   "name": "java"
  },
  "orig_nbformat": 4
 },
 "nbformat": 4,
 "nbformat_minor": 2
}
