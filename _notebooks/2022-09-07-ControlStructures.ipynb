{
 "cells": [
  {
   "cell_type": "markdown",
   "metadata": {},
   "source": [
    "# Control Structures\n",
    "> Lesson on control structures in Java\n",
    "\n",
    "- title: Control Structures\n",
    "- toc: true\n",
    "- comments: true\n",
    "- categories: [java]"
   ]
  },
  {
   "cell_type": "markdown",
   "metadata": {},
   "source": [
    "# What are control structures?\n",
    "\n",
    "Control Structures control the flow of a program. They determine what and when segments of code are executed.\n",
    "\n",
    "There are two types of control structures: conditionals and iteratatives. Conditionals consist of if/else statements, which execute a code segment based on if a condition has been met. In iteration, we mainly use for loops and while loops, which repeat the code segment inside of the loop until a certain condition has been met. \n",
    "\n",
    "All control structures make heavy use of booleans and boolean expressions."
   ]
  },
  {
   "cell_type": "markdown",
   "metadata": {},
   "source": [
    "# Using If, Else if, and Else with Boolean Expressions\n",
    "\n",
    "An if statement will execute if a certain condition is true. If the condition is false, then the else if statement is executed. The point of an else if statement is to test out if a new condition is true, if the previous condition was false. An else statement is executed if all of the above the conditions were false."
   ]
  },
  {
   "cell_type": "code",
   "execution_count": 5,
   "metadata": {},
   "outputs": [
    {
     "name": "stdout",
     "output_type": "stream",
     "text": [
      "Your number is too low. \n",
      "Your number is too high. \n",
      "Good job! You guessed the number. \n"
     ]
    }
   ],
   "source": [
    "import java.util.Scanner;\n",
    "\n",
    "public class GuessingGame {\n",
    "\n",
    "    // Constructor for the class, assigining the target number to a value.\n",
    "    public GuessingGame(int chosenTarget) {\n",
    "        this.target = chosenTarget;\n",
    "    }\n",
    "\n",
    "    public int target;\n",
    "\n",
    "    public static void main(String[] args) {\n",
    "        // Creating a new game, where the target is 15.\n",
    "        GuessingGame game = new GuessingGame(15);\n",
    "        // 5 is too low. So when we guess 5, we expect the else if segment to be executed.\n",
    "        game.guess(5);\n",
    "        // 20 is too high. So when we guess 20, we expect the if segment to be executed.\n",
    "        game.guess(20);\n",
    "        // 15 is the right number. So, this should execute the else segment.\n",
    "        game.guess(15);\n",
    "    }\n",
    "\n",
    "    // Method is called to perform a guess.\n",
    "    public boolean guess(int guessedNumber) {\n",
    "        // The statement inside of the parenthesis is called a boolean expression.\n",
    "        // guessNumber > target returns true if guessedNumber is bigger than the target, and false otherwise.\n",
    "        if (guessedNumber > target) {\n",
    "            System.out.println(\"Your number is too high. \");\n",
    "            return false;\n",
    "        }\n",
    "        // If guessedNumber > target was false, then the second condition is executed.\n",
    "        // If guessedNumber is smaller than the target, the else if condition will be true, and the code segment will run.\n",
    "        else if (guessedNumber < target) {\n",
    "            System.out.println(\"Your number is too low. \");\n",
    "            return false;\n",
    "        }\n",
    "        // If both of the above conditions were false, then that means that the guessedNumber and the target are the same.\n",
    "        // We execute the below segment if that happens.\n",
    "        else {\n",
    "            System.out.println(\"Good job! You guessed the number. \");\n",
    "            return true;\n",
    "        }\n",
    "    }\n",
    "}\n",
    "GuessingGame.main(null);"
   ]
  },
  {
   "cell_type": "markdown",
   "metadata": {},
   "source": [
    "# Using Many Conditions and the Switch Case\n",
    "\n",
    "Sometimes, there can be a long string of if/elseif/else statements. In general, these can often be simplified, but sometimes they are needed. One way to make that kind of code more readable is to use a switch case, which selects a code segment to be executed based on a certain input of case. This is useful when you have predefined cases, rather than boolean expressions. "
   ]
  },
  {
   "cell_type": "code",
   "execution_count": 12,
   "metadata": {},
   "outputs": [
    {
     "name": "stdout",
     "output_type": "stream",
     "text": [
      "Added stats assignment. \n",
      "Added stats assignment. \n",
      "Added linalg assignment. \n",
      "Added linalg assignment. \n",
      "Added linalg assignment. \n",
      "Added csa assignment. \n",
      "Added csa assignment. \n",
      "Added enm assignment. \n",
      "Final assignments tally: \n",
      "Stats Assignments: 2\n",
      "Civics Assignments: 0\n",
      "Linear Algebra Assignments: 3\n",
      "CSA Assignments: 2\n",
      "ENM Assignments: 1\n"
     ]
    }
   ],
   "source": [
    "public class HomeworkCategory {\n",
    "\n",
    "    public int statsAssignments = 0;\n",
    "    public int civicsAssignments = 0;\n",
    "    public int linalgAssignments = 0;\n",
    "    public int csaAssignments = 0;\n",
    "    public int enmAssignments = 0;\n",
    "\n",
    "    public void AddAssignment(int assignment) {\n",
    "        // Based on an arbitary choice, each assignment corresponds to a number.\n",
    "        // Based on the chosen number, an assignment is added.\n",
    "        // Note that this could be much better represented with a dictionary, list, or hash map. \n",
    "        // Use case would be in a Database, linking assignment category to ID. \n",
    "        // For instructional purposes, this is largely hardcoded. The goal is to show how if statements work with multiple conditions.\n",
    "        if (assignment == 0) {\n",
    "            System.out.println(\"Added stats assignment. \");\n",
    "            statsAssignments += 1;\n",
    "        }\n",
    "        else if (assignment == 1) {\n",
    "            System.out.println(\"Added civics assignment. \");\n",
    "            civicsAssignments += 1;\n",
    "        }\n",
    "        else if (assignment == 2) {\n",
    "            System.out.println(\"Added linalg assignment. \");\n",
    "            linalgAssignments += 1; \n",
    "        }\n",
    "        else if (assignment == 3) {\n",
    "            System.out.println(\"Added csa assignment. \");\n",
    "            csaAssignments += 1;\n",
    "        }\n",
    "        else {\n",
    "            System.out.println(\"Added enm assignment. \");\n",
    "            enmAssignments += 1;\n",
    "        }\n",
    "    }\n",
    "\n",
    "    public static void main(String[] args) {\n",
    "        HomeworkCategory sahilHw = new HomeworkCategory();\n",
    "        // Adding assignments for different assignment ID's.\n",
    "        sahilHw.AddAssignment(0);\n",
    "        sahilHw.AddAssignment(0);\n",
    "        sahilHw.AddAssignment(2);\n",
    "        sahilHw.AddAssignment(2);\n",
    "        sahilHw.AddAssignment(2);\n",
    "        sahilHw.AddAssignment(3);\n",
    "        sahilHw.AddAssignment(3);\n",
    "        sahilHw.AddAssignment(4);\n",
    "\n",
    "        // Displaying the assignments that I have.\n",
    "\n",
    "        System.out.println(\"Final assignments tally: \");\n",
    "        System.out.println(\"Stats Assignments: \" + sahilHw.statsAssignments);\n",
    "        System.out.println(\"Civics Assignments: \" + sahilHw.civicsAssignments);\n",
    "        System.out.println(\"Linear Algebra Assignments: \" + sahilHw.linalgAssignments);\n",
    "        System.out.println(\"CSA Assignments: \" + sahilHw.csaAssignments);\n",
    "        System.out.println(\"ENM Assignments: \" + sahilHw.enmAssignments);\n",
    "    }\n",
    "}\n",
    "HomeworkCategory.main(null);"
   ]
  },
  {
   "cell_type": "markdown",
   "metadata": {},
   "source": [
    "### The above code definitely looks like it could use a better organizational pattern than a string of if/elseif/else. Below, I demonstrate how this can be refactored into a switch case.\n",
    "\n",
    "Another note is that the switch-case has more value when the cases need to have completely different functionality associated with them. In my example, the switch-case makes the code more readable, but does not take advantage of this key tenet. However, to make the understanding of switch case as understandable as possible, a very simple example is used to show how it works."
   ]
  },
  {
   "cell_type": "code",
   "execution_count": 14,
   "metadata": {},
   "outputs": [
    {
     "name": "stdout",
     "output_type": "stream",
     "text": [
      "Added stats assignment. \n",
      "Added stats assignment. \n",
      "Added linalg assignment. \n",
      "Added linalg assignment. \n",
      "Added linalg assignment. \n",
      "Added csa assignment. \n",
      "Added csa assignment. \n",
      "Added enm assignment. \n",
      "Final assignments tally: \n",
      "Stats Assignments: 2\n",
      "Civics Assignments: 0\n",
      "Linear Algebra Assignments: 3\n",
      "CSA Assignments: 2\n",
      "ENM Assignments: 1\n"
     ]
    }
   ],
   "source": [
    "public class HomeworkCategorySwitch {\n",
    "\n",
    "    public int statsAssignments = 0;\n",
    "    public int civicsAssignments = 0;\n",
    "    public int linalgAssignments = 0;\n",
    "    public int csaAssignments = 0;\n",
    "    public int enmAssignments = 0;\n",
    "\n",
    "    public void AddAssignment(int assignment) {\n",
    "        // The switch statement takes an argument of what case to use.\n",
    "        // Here, we pass in the integer assignment, so the cases will be different integers.\n",
    "        switch(assignment) {\n",
    "            // Based on the values of the integer assignment, different code segments are executed.\n",
    "            case 0:\n",
    "                // For the case the assignment is 0, this code segment is executed.\n",
    "                System.out.println(\"Added stats assignment. \");\n",
    "                statsAssignments += 1;\n",
    "                break;\n",
    "            case 1:\n",
    "                System.out.println(\"Added stats assignment. \");\n",
    "                statsAssignments += 1;\n",
    "                break;\n",
    "            case 2: \n",
    "                System.out.println(\"Added linalg assignment. \");\n",
    "                linalgAssignments += 1; \n",
    "                break;\n",
    "            case 3:\n",
    "                System.out.println(\"Added csa assignment. \");\n",
    "                csaAssignments += 1;\n",
    "                break;\n",
    "            case 4:\n",
    "                System.out.println(\"Added enm assignment. \");\n",
    "                enmAssignments += 1;\n",
    "                break;\n",
    "        }\n",
    "    }\n",
    "\n",
    "    public static void main(String[] args) {\n",
    "        // Note that the output is exactly the same as the code when used without switch cases.\n",
    "        HomeworkCategorySwitch sahilHw = new HomeworkCategorySwitch();\n",
    "        // Adding assignments for different assignment ID's.\n",
    "        sahilHw.AddAssignment(0);\n",
    "        sahilHw.AddAssignment(0);\n",
    "        sahilHw.AddAssignment(2);\n",
    "        sahilHw.AddAssignment(2);\n",
    "        sahilHw.AddAssignment(2);\n",
    "        sahilHw.AddAssignment(3);\n",
    "        sahilHw.AddAssignment(3);\n",
    "        sahilHw.AddAssignment(4);\n",
    "\n",
    "        // Displaying the assignments that I have. \n",
    "\n",
    "        System.out.println(\"Final assignments tally: \");\n",
    "        System.out.println(\"Stats Assignments: \" + sahilHw.statsAssignments);\n",
    "        System.out.println(\"Civics Assignments: \" + sahilHw.civicsAssignments);\n",
    "        System.out.println(\"Linear Algebra Assignments: \" + sahilHw.linalgAssignments);\n",
    "        System.out.println(\"CSA Assignments: \" + sahilHw.csaAssignments);\n",
    "        System.out.println(\"ENM Assignments: \" + sahilHw.enmAssignments);\n",
    "    }\n",
    "}\n",
    "HomeworkCategorySwitch.main(null);"
   ]
  },
  {
   "cell_type": "markdown",
   "metadata": {},
   "source": [
    "# De Morgan's Law\n",
    "\n",
    "De Morgan's Law deals with expressions in boolean algebra. This basically means using a bunch of boolean operators together. This can usually be simplified, and is only truely useful in very complex scenarios that depend on various boolean parameters."
   ]
  },
  {
   "cell_type": "code",
   "execution_count": 34,
   "metadata": {},
   "outputs": [
    {
     "name": "stdout",
     "output_type": "stream",
     "text": [
      "Executed.\n",
      "Not executed. \n"
     ]
    }
   ],
   "source": [
    "public class DeMorganGeneric {\n",
    "    public DeMorganGeneric (boolean bool1, boolean bool2, boolean bool3, boolean bool4) {\n",
    "        this.firstParam = bool1;\n",
    "        this.secondParam = bool2;\n",
    "        this.thirdParam = bool3;\n",
    "        this.fourthParam = bool4;\n",
    "    }\n",
    "    public boolean firstParam;\n",
    "    public boolean secondParam;\n",
    "    public boolean thirdParam;\n",
    "    public boolean fourthParam;\n",
    "\n",
    "    public void DeMorgan(DeMorganGeneric test) {\n",
    "        // Example of De Morgan's Law.\n",
    "        // Logic needs all of the following conditions to be true:\n",
    "        // First and Second must both be different (ie false and true or true and false)\n",
    "        // One of Third and Fourth must be true.\n",
    "        // First must be true.\n",
    "        if (!(test.firstParam && test.secondParam) && (test.thirdParam || test.fourthParam) && test.firstParam == true) {\n",
    "            System.out.println(\"Executed.\");\n",
    "        }\n",
    "        else {\n",
    "            System.out.println(\"Not executed. \");\n",
    "        }\n",
    "    }\n",
    "\n",
    "    public static void main(String[] args) {\n",
    "        DeMorganGeneric testExecSuccess = new DeMorganGeneric(true, false, false, true);\n",
    "        testExecSuccess.DeMorgan(testExecSuccess);\n",
    "\n",
    "        // This breaks the first condition, as First and Second are both true.\n",
    "        DeMorganGeneric testExecFail = new DeMorganGeneric(true, true, false, true);\n",
    "        testExecFail.DeMorgan(testExecFail);\n",
    "\n",
    "        \n",
    "    }\n",
    "\n",
    "}\n",
    "DeMorganGeneric.main(null);"
   ]
  },
  {
   "cell_type": "code",
   "execution_count": null,
   "metadata": {},
   "outputs": [],
   "source": []
  }
 ],
 "metadata": {
  "kernelspec": {
   "display_name": "Java",
   "language": "java",
   "name": "java"
  },
  "language_info": {
   "codemirror_mode": "java",
   "file_extension": ".jshell",
   "mimetype": "text/x-java-source",
   "name": "java",
   "pygments_lexer": "java",
   "version": "18.0.2+9-61"
  },
  "orig_nbformat": 4
 },
 "nbformat": 4,
 "nbformat_minor": 2
}
