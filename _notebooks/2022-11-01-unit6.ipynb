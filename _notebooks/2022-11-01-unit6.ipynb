{
 "cells": [
  {
   "cell_type": "markdown",
   "metadata": {},
   "source": [
    "# Unit 6 Work\n",
    "> Unit 6 CB\n",
    "\n",
    "- title: Unit 6 Work\n",
    "- toc: true\n",
    "- comments: true\n",
    "- categories: [cb]"
   ]
  },
  {
   "cell_type": "markdown",
   "metadata": {},
   "source": [
    "# Key Learnings"
   ]
  },
  {
   "cell_type": "markdown",
   "metadata": {},
   "source": [
    "Arrays have a fixed size, while Arraylists do not.\n",
    "\n",
    "Can make arrays pre-initialized or with constructors.\n",
    "\n",
    "ArrayIndexOutOfBoundsException thrown can happen when using loops to access array elements"
   ]
  },
  {
   "cell_type": "markdown",
   "metadata": {},
   "source": [
    "# Hack 1"
   ]
  },
  {
   "cell_type": "code",
   "execution_count": 1,
   "metadata": {},
   "outputs": [],
   "source": [
    "int[] arrayOne = {1, 3, 5, 7, 9};\n",
    "\n",
    "for (int num : arrayOne) {\n",
    "    if (num % 2 == 0) {\n",
    "        System.out.println(num);\n",
    "    } \n",
    "}"
   ]
  },
  {
   "cell_type": "markdown",
   "metadata": {},
   "source": [
    "# Hack 2"
   ]
  },
  {
   "cell_type": "code",
   "execution_count": 2,
   "metadata": {},
   "outputs": [],
   "source": [
    "// B"
   ]
  },
  {
   "cell_type": "markdown",
   "metadata": {},
   "source": [
    "# Hack 3"
   ]
  },
  {
   "cell_type": "code",
   "execution_count": 3,
   "metadata": {},
   "outputs": [
    {
     "name": "stdout",
     "output_type": "stream",
     "text": [
      "1\n",
      "2\n",
      "3\n",
      "4\n",
      "5\n"
     ]
    }
   ],
   "source": [
    "import java.util.Arrays;\n",
    "\n",
    "public class arraySorter {\n",
    "    public static void main(int[] a) {\n",
    "        Arrays.sort(a);\n",
    "        for (int i : a) {\n",
    "            System.out.println(i);\n",
    "        }\n",
    "    }\n",
    "}\n",
    "\n",
    "int[] myNumbers = new int[] {5, 3, 4, 1, 2};\n",
    "arraySorter.main(myNumbers);"
   ]
  },
  {
   "cell_type": "markdown",
   "metadata": {},
   "source": [
    "# Hack 4"
   ]
  },
  {
   "cell_type": "code",
   "execution_count": 4,
   "metadata": {},
   "outputs": [],
   "source": [
    "// B"
   ]
  },
  {
   "cell_type": "markdown",
   "metadata": {},
   "source": [
    "# Hack 5"
   ]
  },
  {
   "cell_type": "code",
   "execution_count": 5,
   "metadata": {},
   "outputs": [],
   "source": [
    "public class ForEachDemo\n",
    "{\n",
    "   public static void main(String[] args)\n",
    "   {\n",
    "     int[] highScores = { 10, 9, 8, 8};\n",
    "     String[] names = {\"Jamal\", \"Emily\", \"Destiny\", \"Mateo\"};\n",
    "     // for each loop with an int array\n",
    "     for (int value : highScores)\n",
    "     {\n",
    "         System.out.println( value );\n",
    "     }\n",
    "     // for each loop with a String array\n",
    "     for (String value : names)\n",
    "     {\n",
    "         System.out.println(value); // this time it's a name!\n",
    "     }\n",
    "   }\n",
    " }"
   ]
  },
  {
   "cell_type": "markdown",
   "metadata": {},
   "source": [
    "# Hack 6"
   ]
  },
  {
   "cell_type": "code",
   "execution_count": 6,
   "metadata": {},
   "outputs": [],
   "source": [
    "// D"
   ]
  },
  {
   "cell_type": "markdown",
   "metadata": {},
   "source": [
    "# Hack 7"
   ]
  },
  {
   "cell_type": "code",
   "execution_count": 7,
   "metadata": {},
   "outputs": [
    {
     "data": {
      "text/plain": [
       "[9, 4, 7]"
      ]
     },
     "execution_count": 7,
     "metadata": {},
     "output_type": "execute_result"
    }
   ],
   "source": [
    "public class leftShifted {\n",
    "    public static int[] main(int[] a) {\n",
    "        int first = a[0];\n",
    "        for (int i=1; i<a.length; i++) {\n",
    "            a[i-1] = a[i];\n",
    "        }\n",
    "        a[a.length-1] = first;\n",
    "        return a;\n",
    "    }\n",
    "}\n",
    "\n",
    "int[] array = {7,9,4};\n",
    "int[] array_out = leftShifted.main(array);\n",
    "\n",
    "Arrays.toString(array_out)"
   ]
  },
  {
   "cell_type": "markdown",
   "metadata": {},
   "source": [
    "# Hack 8"
   ]
  },
  {
   "cell_type": "code",
   "execution_count": 8,
   "metadata": {},
   "outputs": [
    {
     "data": {
      "text/plain": [
       "2"
      ]
     },
     "execution_count": 8,
     "metadata": {},
     "output_type": "execute_result"
    }
   ],
   "source": [
    "public class findDuplicate {\n",
    "    public static int main(int[] a, int b) {\n",
    "        \n",
    "        int d=0;\n",
    "\n",
    "        for (int number : a) {\n",
    "            if (number==b) {\n",
    "                d++;\n",
    "            }\n",
    "        }\n",
    "        return d;\n",
    "    }\n",
    "}\n",
    "\n",
    "int[] array = {7,7,9,4};\n",
    "findDuplicate.main(array, 7);"
   ]
  },
  {
   "cell_type": "markdown",
   "metadata": {},
   "source": [
    "# Hack 9"
   ]
  },
  {
   "cell_type": "code",
   "execution_count": 9,
   "metadata": {},
   "outputs": [
    {
     "name": "stdout",
     "output_type": "stream",
     "text": [
      "olleh\n"
     ]
    }
   ],
   "source": [
    "public class reverseString {\n",
    "    public static char[] main(char[] s) {\n",
    "        char[] reverse = new char[s.length];\n",
    "        for (int i=s.length-1; i>=0; i--) {\n",
    "            reverse[s.length-i-1] = s[i];\n",
    "        }\n",
    "\n",
    "        return reverse;\n",
    "    }\n",
    "}\n",
    "\n",
    "String s = \"hello\";\n",
    "char[] c = s.toCharArray();\n",
    "char[] reverse = reverseString.main(c);\n",
    "\n",
    "// Arrays.toString(reverse)\n",
    "String reversed = new String(reverse);\n",
    "System.out.println(reversed);"
   ]
  },
  {
   "cell_type": "markdown",
   "metadata": {},
   "source": [
    "# FRQ Part A"
   ]
  },
  {
   "cell_type": "code",
   "execution_count": 10,
   "metadata": {},
   "outputs": [],
   "source": [
    "public void addMembers(String[] names, int gradYear) {\n",
    "    for (String name : names) {\n",
    "        MemberInfo member = new MemberInfo(name, gradYear, true);\n",
    "        memberList.add(member);\n",
    "    }\n",
    "}"
   ]
  },
  {
   "cell_type": "markdown",
   "metadata": {},
   "source": []
  }
 ],
 "metadata": {
  "kernelspec": {
   "display_name": "Java",
   "language": "java",
   "name": "java"
  },
  "language_info": {
   "codemirror_mode": "java",
   "file_extension": ".jshell",
   "mimetype": "text/x-java-source",
   "name": "Java",
   "pygments_lexer": "java",
   "version": "18.0.2+9-61"
  }
 },
 "nbformat": 4,
 "nbformat_minor": 2
}
