{
 "cells": [
  {
   "attachments": {},
   "cell_type": "markdown",
   "id": "f9bfc6ff",
   "metadata": {},
   "source": [
    "# Graphs\n",
    "> Graph Data Structure and Algorithms\n",
    "\n",
    "- title: Graphs\n",
    "- toc: true\n",
    "- comments: true\n",
    "- categories: [tri3]"
   ]
  },
  {
   "attachments": {},
   "cell_type": "markdown",
   "id": "9336612f",
   "metadata": {},
   "source": [
    "## Definitions\n",
    "\n",
    "* **Graph** - A set of vertices connected pairwise by edges.\n",
    "  * A vertex is a point on a graph where multiple edges meet\n",
    "  * There has to be a vertice on either end of the edge\n",
    "* **Loop** - An edge that starts and ends at same vertex\n",
    "\n",
    "![](https://s3-us-west-2.amazonaws.com/courses-images-archive-read-only/wp-content/uploads/sites/282/2016/01/20155118/Fig2_5_7.png)\n",
    "\n",
    "* **Path** - A sequence of vertices connected by edges. Two vertices are called **connected** if there is a path between them.\n",
    "* **Cycle** - A path that starts and ends at the same vertex."
   ]
  },
  {
   "attachments": {},
   "cell_type": "markdown",
   "id": "a951e4bf",
   "metadata": {},
   "source": [
    "### Types of graphs\n",
    "\n",
    "- Undirected graphs are graphs whose edges don’t have direction, and can to both ways\n",
    "- Directed graphs are graphs whose edges have a direction\n",
    "\n",
    "![](data:image/png;base64,iVBORw0KGgoAAAANSUhEUgAAATYAAACjCAMAAAA3vsLfAAAAjVBMVEX///8AAAD8/Pz6+vr39/fz8/Pq6urv7+/j4+Pc3Nz19fXg4ODs7Oyqqqq7u7vJyck7OzvU1NQzMzOkpKSvr6/Nzc3AwMCYmJhkZGRzc3NCQkKPj49fX1+goKAtLS2CgoIkJCRJSUlWVlYWFhZwcHAfHx85OTl9fX2IiIiUlJQQEBBpaWlYWFhBQUETExNpJjyiAAAXh0lEQVR4nN1d16KquhY1CAgiIB2kCCiCbf3/512KBVIwKLg9dzycs8WlDENmzczMbIZCOWVeGDoXcJUw7/4wFJDlDXH+6/denTOTrf7BrLYgZL5+/7fBpS3ixpeJL/REeLywQf7du38ALg5axP++TNxL2q8EoIx9A2EiATp3iEtP4pJsjnIDYUV+Tz51f5UJFqPcswEvJ6DEXhlfhGSAIy7ZeQbA5yqalzc1cZtAHMBPxs3nH9/0DiXbHCV+ZW/jVBztSxssdzDxINeKJKt+7PHjbzd3yVFc8WoeJ1ji1omDrqggOed+KFsfy9b8DOTbP7kzCD/9ui5sHZIK9gLu0D78brZFfI8l7uyRSyCUw22g1wT0oDBMRZXgsaVCkLSUg/1gMg5Q4gzIHgMHdHdbERfe0jhJ0poyNiKPJVwDuXRoLjEMI1iGU+zdJN4BkF2DraFamsgvKW8ug85fKmBU03BAJ8HBVGpNGksrVW6IlwMZr8tHXxFf0T57A7DtlzjiLjqUa5gQuxIkUZW3+/SgR7G+TgPPl1V+teDYHk0vZNBXn90x7YKOPu9Emc3rgbtbBJYviVs18UOcHdapu/dl+xVxCXYmgjPy13sH+VjcZ75XomUr8vZSy/CufJC+Y6pYw1Wk0AUWjGkWUpT4ya7+q66x2qgmbm4vh5r45rKtiGMJ5TBxDiVupvBIsoB2MkuWUgqxu9lVTKIkl03F0h4TOkYcwKCg/GIayAF8RQA3Vap6Lz4rqCVx3702xNO80oJP4gcb/vsEMc0CEKAr5oGGdQsMu+QWqunk+2CzzrI4Ttw8VO0/+ItnZoL7+JvQdvD3y48ZQKkM5hVxqyR+djelEMfxpiKuRIjwyBvksxsoKOH0EzLa1FguJFGzZP+cHECCmA4V9hk+Akx8Ge/eJ16q75K4WRLXwRqRNg2dSSLo3izXZTCGMFkJcvdxh00Daue1l4TAH+F7LaphK80t33klzbR4/fnvE06okMK69jN0iZulttFOSU8YSQkRFVIDo13mWyDflQHnnSqndBH8fepoz2YRYpAvY0yGJ+be3YNmZ0v3r7odl8SfE18jsp5iozUTuPV852T9cBvpAqBu0UBsL9CFcR2QCnfihh9tmu9mtp8HIx5soxeEaI0rvTBdLz3qp8OjgPOHd+fhWHuP+Dofg49KB0KPQUsbK+CV+/EKK9gmuhd8coPXLUGWTak9w4Wr/uHkcF7HKJ+CzzTelBUf6E81zkfr94kvSoOq5cBqXyMSt6LmB7ptmz7ff5SxFLwo7kTEp3Fyhx1ooP6fA8DlOW7s/i0XSj2fL8k6rl3gVr67DOVJw+DfpNkCHTGS309cWWcQWJz7VDT4/MunuAVw5bB1RNN452Zz/549uQhBo9r52u4QtXx0+3XLdXdgJfCeQVd0sK1tiwLi0OIVpeg8v/GgN3yrYessgoig8RrZQQkvpxm1KnCviQuZWYCUmClePFIGRyiKWATDPe+VHGfOne7CcPUIXPP3/fc+CFmjxZrf247tV8Gp0k/SEPOwCOuv2dcKiwvd0kau8x49pTz8Yh7WfoyPS9L13fuYRXLHWV6Yu7eSnBSw100AZzfTpP0TG+I2oH5eXBHpQSWhDz0lnvqdGf/5TFLEI1VBTu83CFsQI0RxPvY4yG/ErZtS6txaKcXWAzqL+yACIa+Ia+1Rmx1B/+pnK8GmRMjMWKx3bfEWzW3u21hNZQXgbKGXizHzRR3c55dVuZ3lFO8qYv5aJcm395eakueFgtVUJfF9TRzsn6MmnADoiwbZ9hIfFB9X4LbP6a+t46Q4epvsAg8cq24yDzua+48DDgIW9wSbBWRuhxLX6inYDJSlRyXxfLM7I8TtzZ/X6Cbh0pqbefnZrGfl0Ny1XuRI9m9WGfRGdkuFcazvOheDrKMs5/IGHPH3YJPRF6xvUO4SqJb+xt6F3mWUqB62KjYpnQvnRjzt5upZ+Qr8+0hyrVyXWH8YIzx3bNtCpKHZxepqY9Dj+PlIzZbgs6UNMkgrM6us594fIb8Tr2IfEUC+knd3w+QZo6+f8Y/ZisQ4B2QGPnLyEOvcxfLaGf4EK1KsWw58sW4bB/4uumIONj0GS6BOsg8Em7XvOkeIz828dvkzYbtpGwb+bjpEDyQk4uLN8yXeXeg+JuOE/atSPrdQBkP+qzSCVsYDat86vgh63vwEq25MY8SYP7G9QxkqQcSNuCTOiMHfxSIRZ9zonIIYZMS7K923SFmScnLDodY6r43niwyXGfW//zbkXeclZn2pvqzmSNI32c7sC/B6In5W5WamvjLIC/znbfe1R3BWpBhOBKgnHfgv0xoFzsiMgTOkeLwt/u94pJLGAgca4vtSVEhDO9chy60BvIeIeq3CbktRZROQ1epHWOiQXlIJStRBiEtUVXyYlfcntBg2nYQMj4umtFOaTGqfufgE2g6eL4Q4MMAQp/CJmF7HCV28dPDmI0DHCEMIARehfugoMJDFyyPeqb+g0/1CMWwrWAw7SJHQR8LrVheNkRKK2SbGY68g3G+OJAOlHVaBY4jTzDaxL0SYYWxFitWt5hW+ItAsE1mjLo4+weCIY2e/vIavSDTEtbjnTeuE/ip7h8t5iIgStA8U6QV7ovyHihj2KumB+0sJMRU2jU+k6D1vGnAoN6sWsnBanElg86PTpDYImvJjhBjiC2xSlUWIRzQLtn6f44R1DwrsDBGh7Ih/oCnyhd3CMWCU6vKKWy4osKuUIhSR+1eaJNylZ1LMsepfwFeLh1FbLiy6Ell9ggUrE5hLpFKqAiqPNRy9/ccqHfFDj9nQsNqASfArP0krW0RbpzL6UvysToLrQJaPKEsdTzx95pwZpyet0UYfcR/v6piEXLJxi0BZ9RDTuWPsBIvK9/QEZmqZGzxxGXi1oLJ2FNPlsYQ+/yPFixDOutfg99nuEiQgKig3L2inz2uAEHCYpYP7O4RB4c+7rCKu+3SLCzM1Ij9vISMMzx6tu79hkW5yR6QeC+VKW1g+BPWoYRfzzsQlvkWQ5KFI7UQqPRUreNVWwsJ4RTcQM3tYhMTx/wRVuhvvRqsZcWDSQcTlntIhpJjqgQMpbprrg3Lc0yxbJcQ0P7MmWe7+GBPBvoe4TjSyIclHlobFmJcpSj9mASDa8bGIH8jrbT3WQiAZBatHVaJgsknSRj44kDQPT3IctJjSGDTArHzWsJ3jmWQRZti8QfMxtNi8B1P4H4pzTHpqyDB5wRpqX4yJApus5TwQeaHjAtKglr40/ro8KMZcjL3+siqJ56G3wbofNVRCdtofRFzCfYsdpVLlGDALE3h4Z4IhPND9oBiTNPjvwo6SijjLcTKJ+IwwoO6gXeFKjDqmMnAeqkFKI/ztfUyKYYbZyNYLA0nSfYSw1QJBSwiVTATim0HBcYjmP6CMQIDPkEh4tdS3vo9iO2r+Q+zaqQt+fDR0R0SF0yBDWiAakt10fwtHWLpYY43CMB1/HnPv7fLQZUQifsXF6vxu0AZ6dJ+tA4utkmHFVNExcSdSatGLcctmnB10wcQ7Q2aMudgT92AAl+OWSJBndMKa0xUuyYEpgOsBP+qyFUocn4bhMUVbpeM0JDheId4fnyFCvsfHvx4mq4RLopMh7UbMf0gRShxvHT1MPGkO2p7CIx6AekCCXRW/hVQE6APyqWNMXpIYaUz/Q9WRyEBBFqVqiABVL/TGqSSOyXGoaCqHMGzsBo3LXDr/Q3Au+iFKLsM8836oqDMj4okz6Da52YaWeFoRTxDimNlGeGizEAmkcIQwMIAuaytJyUEwXnEbbrYRHouBJsvotvQY4FAT94ALEV+ggSjJgZ4j8TxL0weHTx67dzh3YIF+D4QIJU5QGRxKk6Y4kdd398FdBvA4o+srRBcWGc8lhbLiknblsEm/NeAVUlhnsMT61hQmviJEqm1w63NrbE0oXDczaOBlvN82qxLqkEAT08Et+HFHQsLdWD2TDFjTh8RCCTuG3rEpWPjdAsnjX+clc+kmqnliFgTVCMbrMgAL+joGefJvI+06Sjw50GPhXSVh8nJTCrJ+uukGWKvOphguBRtiuOZARqF4vYkJKbzhR2tttuooSi7pIX6EzC6F45TAfwKvsisgf1xQ9YTziGZG2nWJUWzNQNPCdNaXBibYPlSUuj5w5C2vEmQU9i/9DwZNC/9B366tbz1h+AL48yqTRErNd9sCMK8LwzTURz5+ug279e3XqJE+fguKeTcF1kV3EYO9viSO6PHnnq4nQgCu3vkEkuahCGCD3/DZrX1avY4xlQvqXSWDsvj9cABIPBeASzM3JHDF2zOI+Ot8l5kiRkNBo0tmZRS+/fg93Bk/35cd/0F6nX3BLMuOOmwzhi+Jq0/ie7yHw3QGin/tf9ANGwIDODgbXbTNrojf69GGhvqV/nhCikOIF9S8TZwiOFbRLDcqpBho7X36rRu2LtKUIaKadYparTYsbAinthOqJkVwjBI/UQVkSxenAbJWaXFvheENF9hNI1TLjQg2wK3qxjc3a1Eqli0FccRzoiZuYHoxyK3aJ5ci+yJCSUK0eHV8MAZGUM1bgkI6mazrzBjxRVRqn5TOMDEb6lyTDc7wl6/+nlMQTRWjUEHUDa4wWbvxoZwCeGoIt4h1mYD1zi0uOp4Hw7KcZvi5uwHddZIQk7UjYQFvh5vNgqdifF2Yrm6AcXVb95PHC+V7wSdI1uOeiMjRDgQtmI/uqfH63MlBDFqjc+DeI08HVkDz6V2oB+Azs9Uz6SKk4zfbJuEIE7du5tNodjGT5s6trwPI+NWzSIJPdgOJq7tzZ74/9+m+KJvRElA0RlzeJaEkCPb+5E5QTEmCvXM7Q8PeTPir/dvNfDtVkhQ2xBXvLxhMXEi6NU2PLXJK0iPt0hk8WwwIxrVqOJpPtN+KRGGjdwT12JR9MPVkI35KdFslrUJYEY/fI150cyT3YnaTvGwleADqeTCfqnN9H/KGuNJMrcWNeFVFSFIvkgdypXz/6Vuy7xNXQFs73ju/EtbXykHbw4P2r6DUzXbM27am2yasMo4lPPCSeMDPmN1YnbvF9nxX4sYrwTSkrrDyQTpV94XBkNZraXa+7T1Qmr5uCsAXgPAFCCqNNs9Qd/VNzL3WvK0EX1AUvFr1wfq7Kqwf83LMSgVfP/RllWmWFAdfVX4Et4QOO+YGaxN4d7/VT4pST0YxQKqduBAkvzRoFeRKwzcrqMW1qNowAoAUQrDOVMSlQ3RTWCEIbHY+nwthV4exBkD7hv5rSHUb+6ZbnQFcdTlnLMnpEueMv81kDuWyaVfItORVSJ+LbIx5yMxvRE5DsCjuTn/pfJ5PD1UvpM9dQ4wc7ZTxziBBYVQ9DMJOrHa8Z/zseJLGiR+CsYz1revfzOlkVf17uxUlmvx4JzHeKFBWJqhrd5T489a8U4E196dy3ArIWQvqxKW9+wZxJoBbjC9Ku6olu2LqLNpH4FRvDRNflcTVa3b8il6xkGSxszlTNG3551BPcErkeN2D7ZeIozXTNsh/IyToxxFH/GtPO0I1wQjHb30B6G47Fq1ZmgyYNCNaDfqLiNGHO2x34kfA5BlfZSt/A5jd3dH3hu2MpD0kbFeEnwNKfLLGQRgoG9ifHneVfTKgpbXKZB2AUUhIKxe0KdNPQsjgUH097vEg/XCy7uQypurROTYcqILBOH0zgF5mnepLuPXN72LZ7WoPB4nTgnUPu/wZKCi7aQthxgMbJLtn+WMpJOMefPQC6wMvJJHapAyWHoimatE5NtLrUlzfC/KW+ekPFF8zZfNNHZKGIMtlOUzBWuBOP5v5aINN6lMBHBBtZdlJQCKcATh8SUy5681mM/b2kp6NymFT/wuxFa9f79m1bVoSl26HUXzFCWA3rbOKmPs/Jzh5aWzw1/QpkDfiTUP7YHpXfdG++RPsL2Z1O2CjAH2yy1M9bkNrOwaD3xG8avurpnw4uBi3msw0RQt6MO1KmxQRO2cU8aR3/hAawdjXR+RM/cD5mOygcdEPx1diRqhcsADIsS0tR8Tir6+FmPa7YiqQz/wBe9qOmu9CexEMFNGPZkHEnkNpq8POJiWuvjx3ET7D90egZT11ypXjzl4n6Gh7vzl4+d3wGb7/HHVaxjpREJ8qFaHRONNwWuYfQ6jsgEZzbHTxN423rtKFIOmnB7+OigIsSuJUdvI6SQ5HoQzchO8Vgb8GnwFHpaxSgA83HwWUc61ESNxj/334zYlWdHDgbgGfwx5QWJL8TurtWdJGg3RQyyECJFF85DnMIZLHj9fk4y2Ij4OBjNuOjCPdNPqcuFYk0VVfe407YQ/7PnlQW7JxYW1L4tG13kHANcf1nQKV0pf9lHgBAkVcSOoe7LmBc61CMMZsfwsFcG/EPbap1gX5gMXj5BPiVvYo5+AvQA0H28bFWAX9A1ESv8eWJXFlA0DkDFrNW31AfBEXLc/PBG/0FlaQIrJvgI/boV0519LBpbjm+xUZbtcSbtdvRLneuL1O6XDuEk/iNxwKXFM/KtjQgLNUR8tA4P5BhlyBietvEH9Xv8yRrnbWOxuNraqwmLG3lVLeK1+pc4jhH0zTsQqB2iJ+Vqh/+QLZQc8d3ok68oQVrpGnrBba9t4UZlJwyNNdnt7JauyTmZjEnr1aWCVx2m/AHKblvVOSw0YuuJ35XB1Qc5xyn0QNTINY751dU5zuPjpsz4911yIK+Ggvev+tpMax7bcI09eIYNp6hW+VYBXtmF6kOn2z2n+GXnrnCBIoEzJ9YqRAWdIPm/p0uaBMiPBHpWBsjJA6s+EpvAR6+PL4+YUuMEJ6piaebOS7SoeJhxSNGCvNChfpcwc9veT51vcNWbY0uljFgsM7BukhOTKWSF0iB9Y34rIsa1qfB26XAX+zF0U9wb+fcCpaF/ME1qM2UGXZcJyt667j+N7nIdLP+1w2ZNO0VVUQ4BgYbfxkEPrRjgZkF3VJ3LwRPzyIx1G0vxFXVZUXmkkm1Yemu2pJHNFlmL6zGFjQVq5F/KTDMMy8gqBaZhgW2/y8DzZJlEUA/IGTrqeB6x9DS7U0tNM3DyYurbEh4jyeuPwkHlfET2BXEm8qQcBBRs8Pkuj81n23pcirSqIlu+J5SRJF0Tbkreel6SbS1+gmBUy7wpHhdgMj70UF+JLl78Rl//ToMoN6anRVydzJaw2U89avXWRISEw8ym40LHb7FnF4A2QvtNtmU1vDfIqymJtPH6udmj7s+Io7WFRIV1MLadXhpUV80E6qFADdrz2NCBFSnja4ZAywccrJK19A/uYif4FoVhnfIH1chCAJK+Lp65XwNtTEF28/FO1pL9PXO0phctr9rf231ZGNeDvYE3ZHh1ARPx2OwxTC4qnNbeTEDHdQHdWS/2gjcgSthJtTHEmKBfsZ8T+IuPLVlRGpG6Os6Do6/gCgw6SFv++uwzm7linnNz9V49ALv23y+eTLxJni2RlSAUizwx9G8TxuTEHbS04ODcSOyvOakfyjlax3oe1ixyqJy8mXekF2wcr7MhTcuc5/aKrVYM1zVBEPJ7EGz/k7J7l3K+Ff9LkjgG05YK9c2OmI289Seyv5D0yopc5XQX39bzb5Vzv7O33CDfQAoF8Dc1BmW3DfGiZ+zY/sYtVNcwfT1QyPhDojIj8WU43pY2Qc/G4DdukflhlRoTmP81mtwPyTJlbcofaerSI4NuNFU1f8L+HX7epNYPhFIyYFZuPa5BBrGdXKR+Y26gJ3suAvYV0bMBMEmpTo7OyjMpn30cx59Woytzbbsv7brRmaI3vqsdLqChW42OUrEJubmnmqNzGcDJ+99WNoTturh02Iq1VN698MW5UoqDq0W8Cq5DVET8n5Kei1qW+GDVSraHCF0lcg1botzrjSktvVYTCH39xu9UBSV2nUBbVyrVb+jXi4VaWArSfuNojO5BPnfwZKfRafGbhu0BxvFfyT56zUaW9WLWW10hryb222QtGUz3PzmdUUfIj/aPPrpe1x9Bw4+CtQOmEBA9d6fA2tfoVLpATiBxG2183zf7ZXZ/GMTsQfV2wN5KcN4OTftvv/1/gf/plnkYDfiYIAAAAASUVORK5CYII=)"
   ]
  },
  {
   "attachments": {},
   "cell_type": "markdown",
   "id": "87955f04",
   "metadata": {},
   "source": [
    "### Graph API\n",
    "\n",
    "We will explore how to actually model a graph using Java."
   ]
  },
  {
   "attachments": {},
   "cell_type": "markdown",
   "id": "b09d492f",
   "metadata": {},
   "source": [
    "#### Bag\n",
    "\n",
    "First, we must define a Bag class. This is a simple data structure where items can be added and you can iterate through the items. The syntax is not as important as the concept."
   ]
  },
  {
   "cell_type": "code",
   "execution_count": 2,
   "id": "893d9da4",
   "metadata": {
    "vscode": {
     "languageId": "java"
    }
   },
   "outputs": [],
   "source": [
    "// from https://algs4.cs.princeton.edu/13stacks/Bag.java.html\n",
    "\n",
    "import java.util.Iterator;\n",
    "import java.util.NoSuchElementException;\n",
    "\n",
    "\n",
    "public class Bag<Item> implements Iterable<Item> {\n",
    "    private Node<Item> first;    \n",
    "    private int n;              \n",
    "\n",
    "    private static class Node<Item> {\n",
    "        private Item item;\n",
    "        private Node<Item> next;\n",
    "    }\n",
    "\n",
    "    public Bag() {\n",
    "        first = null;\n",
    "        n = 0;\n",
    "    }\n",
    "\n",
    "    public boolean isEmpty() {\n",
    "        return first == null;\n",
    "    }\n",
    "\n",
    "\n",
    "    public int size() {\n",
    "        return n;\n",
    "    }\n",
    "\n",
    "\n",
    "    public void add(Item item) {\n",
    "        Node<Item> oldfirst = first;\n",
    "        first = new Node<Item>();\n",
    "        first.item = item;\n",
    "        first.next = oldfirst;\n",
    "        n++;\n",
    "    }\n",
    "\n",
    "\n",
    "\n",
    "    public Iterator<Item> iterator()  {\n",
    "        return new LinkedIterator(first);\n",
    "    }\n",
    "\n",
    "    private class LinkedIterator implements Iterator<Item> {\n",
    "        private Node<Item> current;\n",
    "\n",
    "        public LinkedIterator(Node<Item> first) {\n",
    "            current = first;\n",
    "        }\n",
    "\n",
    "        public boolean hasNext()  {\n",
    "            return current != null;\n",
    "        }\n",
    "\n",
    "        public Item next() {\n",
    "            if (!hasNext()) throw new NoSuchElementException();\n",
    "            Item item = current.item;\n",
    "            current = current.next;\n",
    "            return item;\n",
    "        }\n",
    "    }\n",
    "}"
   ]
  },
  {
   "attachments": {},
   "cell_type": "markdown",
   "id": "e9673617",
   "metadata": {},
   "source": [
    "#### Graph\n",
    "\n",
    "This is the class containing the necessary properties and methods to implement a graph.\n",
    "\n",
    "How can you represent a graph using code? Instead of purely trying to visualize it, it's easier to think of what a graph is at its core: a collection of vertices and edges. Furthermore, an edge can be defined by the 2 vertices that it connects.\n",
    "\n",
    "There are a few ways to represent a graph. We will be using the **adjacency list** representation. First, we create a simple list of length V, where V is the number of vertices in the graph. This list represents all of the vertices in the graph: the index of 0 represents vertex 0, for example. \n",
    "\n",
    "How do we account for edges? The way we do this in this representation is that each index of the list of vertices contains a bag of integers. This bag contains all of the vertices that the vertex at that index is connected to. \n",
    "\n",
    "\n",
    "![override](https://github.com/AD1616/ADfastpages/assets/64157584/3219c760-cc53-4d60-8555-eae9f8bff2d3)"
   ]
  },
  {
   "cell_type": "code",
   "execution_count": 3,
   "id": "8d29a4d0",
   "metadata": {
    "scrolled": true,
    "vscode": {
     "languageId": "java"
    }
   },
   "outputs": [
    {
     "name": "stdout",
     "output_type": "stream",
     "text": [
      "7 vertices, 8 edges \n",
      "0: 5 6 2 1 \n",
      "1: 0 \n",
      "2: 0 \n",
      "3: 5 4 \n",
      "4: 5 3 6 \n",
      "5: 3 4 0 \n",
      "6: 4 0 \n",
      "\n"
     ]
    }
   ],
   "source": [
    "import java.util.NoSuchElementException;\n",
    "\n",
    "\n",
    "public class Graph {\n",
    "    private static final String NEWLINE = System.getProperty(\"line.separator\");\n",
    "    \n",
    "    // The total number of vertices\n",
    "    private final int V;\n",
    "    // The total number of edges\n",
    "    private int E;\n",
    "    // declaring an array of bags\n",
    "    private Bag<Integer>[] adj;\n",
    "\n",
    "    // Graph constructor must include number of vertices\n",
    "    public Graph(int V) {\n",
    "        if (V < 0) throw new IllegalArgumentException(\"Number of vertices must be non-negative\");\n",
    "        this.V = V;\n",
    "        // must add all edges after the vertices are initialized\n",
    "        this.E = 0;\n",
    "        // casting is required here. We initialize the array of bags.\n",
    "        adj = (Bag<Integer>[]) new Bag[V];\n",
    "        // next, we initialize the bag at each index of the array\n",
    "        for (int v = 0; v < V; v++) {\n",
    "            adj[v] = new Bag<Integer>();\n",
    "        }\n",
    "    }\n",
    "\n",
    "\n",
    "    // get # of vertices\n",
    "    public int V() {\n",
    "        return V;\n",
    "    }\n",
    "\n",
    "    // get # of edges\n",
    "    public int E() {\n",
    "        return E;\n",
    "    }\n",
    "\n",
    "    // error checking method\n",
    "    private void validateVertex(int v) {\n",
    "        if (v < 0 || v >= V)\n",
    "            throw new IllegalArgumentException(\"vertex \" + v + \" is not between 0 and \" + (V-1));\n",
    "    }\n",
    "\n",
    "\n",
    "    // method to add an edge.\n",
    "    // To define an edge we need two vertices.\n",
    "    // To implement it, we need to make sure v and w both know they are connected.\n",
    "    // Index v of the adjacency list represents vertex v. The bag at this index contains\n",
    "    // all of the vertices that index v shares an edge with. Therefore, we just have to add\n",
    "    // vertex w to this bag. We must also do the same for vertex w; meaning, we add v to\n",
    "    // the bag at vertex w\n",
    "    public void addEdge(int v, int w) {\n",
    "        validateVertex(v);\n",
    "        validateVertex(w);\n",
    "        E++;\n",
    "        adj[v].add(w);\n",
    "        adj[w].add(v);\n",
    "    }\n",
    "\n",
    "\n",
    "    public Iterable<Integer> adj(int v) {\n",
    "        validateVertex(v);\n",
    "        return adj[v];\n",
    "    }\n",
    "\n",
    "\n",
    "    public int degree(int v) {\n",
    "        validateVertex(v);\n",
    "        return adj[v].size();\n",
    "    }\n",
    "\n",
    "\n",
    "    public String toString() {\n",
    "        StringBuilder s = new StringBuilder();\n",
    "        s.append(V + \" vertices, \" + E + \" edges \" + NEWLINE);\n",
    "        for (int v = 0; v < V; v++) {\n",
    "            s.append(v + \": \");\n",
    "            for (int w : adj[v]) {\n",
    "                s.append(w + \" \");\n",
    "            }\n",
    "            s.append(NEWLINE);\n",
    "        }\n",
    "        return s.toString();\n",
    "    }\n",
    "\n",
    "\n",
    "    public static void main(String[] args) {\n",
    "        // Example of how to initialize a graph.\n",
    "        Graph G = new Graph(7);\n",
    "        G.addEdge(0, 1);\n",
    "        G.addEdge(0, 2);\n",
    "        G.addEdge(0, 6);\n",
    "        G.addEdge(0, 5);\n",
    "        G.addEdge(6, 4);\n",
    "        G.addEdge(4, 3);\n",
    "        G.addEdge(4, 5);\n",
    "        G.addEdge(3, 5);\n",
    "        System.out.println(G);\n",
    "    }\n",
    "\n",
    "}\n",
    "Graph.main(null);"
   ]
  },
  {
   "attachments": {},
   "cell_type": "markdown",
   "id": "5c01c5e0",
   "metadata": {},
   "source": [
    "Note that the output from the above tester method initializes the graph pictured above the class. "
   ]
  },
  {
   "attachments": {},
   "cell_type": "markdown",
   "id": "fa8cbf65",
   "metadata": {},
   "source": [
    "### Depth First Search\n",
    "\n",
    "One method to search all of the vertices and edges in a connected graph. Start at a random vertex and mark it. Then, go to any vertex connected to the starting vertex and mark it. Continue to do this until you have explored all vertices along this path. Then, retrace back one step, and see if you can explore any other vertices. Continue to do this until you get back to the root. Then do the same thing again. It is called depth first search because you fully explore the entire root of a node first, before moving on."
   ]
  },
  {
   "cell_type": "code",
   "execution_count": 26,
   "id": "3a5d4800",
   "metadata": {
    "vscode": {
     "languageId": "java"
    }
   },
   "outputs": [
    {
     "name": "stdout",
     "output_type": "stream",
     "text": [
      "0 1 2 3 4 5 6 \n",
      "connected\n"
     ]
    }
   ],
   "source": [
    "public class DepthFirstSearch {\n",
    "    private boolean[] marked;    \n",
    "    private int count;           \n",
    "\n",
    "    public DepthFirstSearch(Graph G, int s) {\n",
    "        marked = new boolean[G.V()];\n",
    "        validateVertex(s);\n",
    "        dfs(G, s);\n",
    "    }\n",
    "\n",
    "    private void dfs(Graph G, int v) {\n",
    "        count++;\n",
    "        marked[v] = true;\n",
    "        for (int w : G.adj(v)) {\n",
    "            if (!marked[w]) {\n",
    "                dfs(G, w);\n",
    "            }\n",
    "        }\n",
    "    }\n",
    "\n",
    "\n",
    "    public boolean marked(int v) {\n",
    "        validateVertex(v);\n",
    "        return marked[v];\n",
    "    }\n",
    "\n",
    "\n",
    "    public int count() {\n",
    "        return count;\n",
    "    }\n",
    "\n",
    "    private void validateVertex(int v) {\n",
    "        int V = marked.length;\n",
    "        if (v < 0 || v >= V)\n",
    "            throw new IllegalArgumentException(\"vertex \" + v + \" is not between 0 and \" + (V-1));\n",
    "    }\n",
    "\n",
    "    public static void main(String[] args) {\n",
    "        Graph G = new Graph(7);\n",
    "        G.addEdge(0, 1);\n",
    "        G.addEdge(0, 2);\n",
    "        G.addEdge(0, 6);\n",
    "        G.addEdge(0, 5);\n",
    "        G.addEdge(6, 4);\n",
    "        G.addEdge(4, 3);\n",
    "        G.addEdge(4, 5);\n",
    "        G.addEdge(3, 5);\n",
    "        int s = 0;\n",
    "        DepthFirstSearch search = new DepthFirstSearch(G, s);\n",
    "        for (int v = 0; v < G.V(); v++) {\n",
    "            if (search.marked(v))\n",
    "                System.out.print(v + \" \");\n",
    "        }\n",
    "\n",
    "        System.out.println();\n",
    "        if (search.count() != G.V()) {\n",
    "            System.out.println(\"NOT connected\");\n",
    "        }\n",
    "        else {\n",
    "            System.out.println(\"connected\");\n",
    "        }\n",
    "    }\n",
    "\n",
    "}\n",
    "DepthFirstSearch.main(null);"
   ]
  },
  {
   "attachments": {},
   "cell_type": "markdown",
   "id": "5a7d46c4",
   "metadata": {},
   "source": [
    "### Breadth First Search"
   ]
  },
  {
   "attachments": {},
   "cell_type": "markdown",
   "id": "829cfddd",
   "metadata": {},
   "source": [
    "### Databases using graphs"
   ]
  },
  {
   "attachments": {},
   "cell_type": "markdown",
   "id": "8e1cf60e",
   "metadata": {},
   "source": [
    "One popular database that utilizes graphs is called Neo4j. I used this while working at the San Diego Supercomputer Center for various kinds of data that could be represented well using graphs. \n",
    "\n",
    "Here's an example of how this could be used in relation to something simple like forming CSA groups:\n",
    "\n",
    "![override](https://github.com/AD1616/ADfastpages/assets/64157584/2cbbdb8c-79ed-4a63-a184-b410ad8c5d3e)\n",
    "\n",
    "As you can see, we have a great visualization of nodes and edges(relationships) using this. Also, we can store as many properties as we want within each node and edge. Additionally, we can give nodes and edges labels, which we can then query against using the Cypher query language. The simplest cypher query is pictured, where MATCH(n) RETURN n returns all nodes and edges in the database."
   ]
  },
  {
   "cell_type": "code",
   "execution_count": null,
   "id": "125886ab",
   "metadata": {
    "vscode": {
     "languageId": "java"
    }
   },
   "outputs": [],
   "source": []
  }
 ],
 "metadata": {
  "kernelspec": {
   "display_name": "Java",
   "language": "java",
   "name": "java"
  },
  "language_info": {
   "codemirror_mode": "java",
   "file_extension": ".jshell",
   "mimetype": "text/x-java-source",
   "name": "Java",
   "pygments_lexer": "java",
   "version": "18.0.2+9-61"
  }
 },
 "nbformat": 4,
 "nbformat_minor": 5
}
