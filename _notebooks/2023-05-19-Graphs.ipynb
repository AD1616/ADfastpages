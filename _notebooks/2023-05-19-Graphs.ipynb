{
 "cells": [
  {
   "attachments": {},
   "cell_type": "markdown",
   "id": "f9bfc6ff",
   "metadata": {},
   "source": [
    "# Graphs\n",
    "> Graph Data Structure and Algorithms\n",
    "\n",
    "- title: Graphs\n",
    "- toc: true\n",
    "- comments: true\n",
    "- categories: [tri3]"
   ]
  },
  {
   "attachments": {},
   "cell_type": "markdown",
   "id": "9336612f",
   "metadata": {},
   "source": [
    "## Definitions\n",
    "\n",
    "* **Graph** - A set of vertices connected pairwise by edges.\n",
    "  * A vertex is a point on a graph where multiple edges meet\n",
    "  * There has to be a vertice on either end of the edge\n",
    "* **Loop** - An edge that starts and ends at same vertex\n",
    "\n",
    "![](https://s3-us-west-2.amazonaws.com/courses-images-archive-read-only/wp-content/uploads/sites/282/2016/01/20155118/Fig2_5_7.png)\n",
    "\n",
    "* **Path** - A sequence of vertices connected by edges. Two vertices are called **connected** if there is a path between them.\n",
    "* **Cycle** - A path that starts and ends at the same vertex."
   ]
  },
  {
   "attachments": {},
   "cell_type": "markdown",
   "id": "a951e4bf",
   "metadata": {},
   "source": [
    "### Types of graphs\n",
    "\n",
    "Undirected graphs are graphs whose edges don’t have direction, and can to both ways. Directed graphs are graphs whose edges have a direction\n",
    "\n"
   ]
  },
  {
   "attachments": {},
   "cell_type": "markdown",
   "id": "87955f04",
   "metadata": {},
   "source": [
    "### Graph API\n",
    "\n",
    "We will explore how to actually model a graph using Java."
   ]
  },
  {
   "attachments": {},
   "cell_type": "markdown",
   "id": "b09d492f",
   "metadata": {},
   "source": [
    "#### Bag\n",
    "\n",
    "First, we must define a Bag class. This is a simple data structure where items can be added and you can iterate through the items. The syntax is not as important as the concept."
   ]
  },
  {
   "cell_type": "code",
   "execution_count": 2,
   "id": "893d9da4",
   "metadata": {
    "vscode": {
     "languageId": "java"
    }
   },
   "outputs": [],
   "source": [
    "// from https://algs4.cs.princeton.edu/13stacks/Bag.java.html\n",
    "\n",
    "import java.util.Iterator;\n",
    "import java.util.NoSuchElementException;\n",
    "\n",
    "\n",
    "public class Bag<Item> implements Iterable<Item> {\n",
    "    private Node<Item> first;    \n",
    "    private int n;              \n",
    "\n",
    "    private static class Node<Item> {\n",
    "        private Item item;\n",
    "        private Node<Item> next;\n",
    "    }\n",
    "\n",
    "    public Bag() {\n",
    "        first = null;\n",
    "        n = 0;\n",
    "    }\n",
    "\n",
    "    public boolean isEmpty() {\n",
    "        return first == null;\n",
    "    }\n",
    "\n",
    "\n",
    "    public int size() {\n",
    "        return n;\n",
    "    }\n",
    "\n",
    "\n",
    "    public void add(Item item) {\n",
    "        Node<Item> oldfirst = first;\n",
    "        first = new Node<Item>();\n",
    "        first.item = item;\n",
    "        first.next = oldfirst;\n",
    "        n++;\n",
    "    }\n",
    "\n",
    "\n",
    "\n",
    "    public Iterator<Item> iterator()  {\n",
    "        return new LinkedIterator(first);\n",
    "    }\n",
    "\n",
    "    private class LinkedIterator implements Iterator<Item> {\n",
    "        private Node<Item> current;\n",
    "\n",
    "        public LinkedIterator(Node<Item> first) {\n",
    "            current = first;\n",
    "        }\n",
    "\n",
    "        public boolean hasNext()  {\n",
    "            return current != null;\n",
    "        }\n",
    "\n",
    "        public Item next() {\n",
    "            if (!hasNext()) throw new NoSuchElementException();\n",
    "            Item item = current.item;\n",
    "            current = current.next;\n",
    "            return item;\n",
    "        }\n",
    "    }\n",
    "}"
   ]
  },
  {
   "attachments": {},
   "cell_type": "markdown",
   "id": "e9673617",
   "metadata": {},
   "source": [
    "#### Graph\n",
    "\n",
    "This is the class containing the necessary properties and methods to implement a graph.\n",
    "\n",
    "How can you represent a graph using code? Instead of purely trying to visualize it, it's easier to think of what a graph is at its core: a collection of vertices and edges. Furthermore, an edge can be defined by the 2 vertices that it connects.\n",
    "\n",
    "There are a few ways to represent a graph. We will be using the **adjacency list** representation. First, we create a simple list of length V, where V is the number of vertices in the graph. This list represents all of the vertices in the graph: the index of 0 represents vertex 0, for example. \n",
    "\n",
    "How do we account for edges? The way we do this in this representation is that each index of the list of vertices contains a bag of integers. This bag contains all of the vertices that the vertex at that index is connected to. \n",
    "\n",
    "\n",
    "![override](https://github.com/AD1616/ADfastpages/assets/64157584/3219c760-cc53-4d60-8555-eae9f8bff2d3)"
   ]
  },
  {
   "cell_type": "code",
   "execution_count": 3,
   "id": "8d29a4d0",
   "metadata": {
    "scrolled": true,
    "vscode": {
     "languageId": "java"
    }
   },
   "outputs": [
    {
     "name": "stdout",
     "output_type": "stream",
     "text": [
      "7 vertices, 8 edges \n",
      "0: 5 6 2 1 \n",
      "1: 0 \n",
      "2: 0 \n",
      "3: 5 4 \n",
      "4: 5 3 6 \n",
      "5: 3 4 0 \n",
      "6: 4 0 \n",
      "\n"
     ]
    }
   ],
   "source": [
    "import java.util.NoSuchElementException;\n",
    "\n",
    "\n",
    "public class Graph {\n",
    "    private static final String NEWLINE = System.getProperty(\"line.separator\");\n",
    "    \n",
    "    // The total number of vertices\n",
    "    private final int V;\n",
    "    // The total number of edges\n",
    "    private int E;\n",
    "    // declaring an array of bags\n",
    "    private Bag<Integer>[] adj;\n",
    "\n",
    "    // Graph constructor must include number of vertices\n",
    "    public Graph(int V) {\n",
    "        if (V < 0) throw new IllegalArgumentException(\"Number of vertices must be non-negative\");\n",
    "        this.V = V;\n",
    "        // must add all edges after the vertices are initialized\n",
    "        this.E = 0;\n",
    "        // casting is required here. We initialize the array of bags.\n",
    "        adj = (Bag<Integer>[]) new Bag[V];\n",
    "        // next, we initialize the bag at each index of the array\n",
    "        for (int v = 0; v < V; v++) {\n",
    "            adj[v] = new Bag<Integer>();\n",
    "        }\n",
    "    }\n",
    "\n",
    "\n",
    "    // get # of vertices\n",
    "    public int V() {\n",
    "        return V;\n",
    "    }\n",
    "\n",
    "    // get # of edges\n",
    "    public int E() {\n",
    "        return E;\n",
    "    }\n",
    "\n",
    "    // error checking method\n",
    "    private void validateVertex(int v) {\n",
    "        if (v < 0 || v >= V)\n",
    "            throw new IllegalArgumentException(\"vertex \" + v + \" is not between 0 and \" + (V-1));\n",
    "    }\n",
    "\n",
    "\n",
    "    // method to add an edge.\n",
    "    // To define an edge we need two vertices.\n",
    "    // To implement it, we need to make sure v and w both know they are connected.\n",
    "    // Index v of the adjacency list represents vertex v. The bag at this index contains\n",
    "    // all of the vertices that index v shares an edge with. Therefore, we just have to add\n",
    "    // vertex w to this bag. We must also do the same for vertex w; meaning, we add v to\n",
    "    // the bag at vertex w\n",
    "    public void addEdge(int v, int w) {\n",
    "        validateVertex(v);\n",
    "        validateVertex(w);\n",
    "        E++;\n",
    "        adj[v].add(w);\n",
    "        adj[w].add(v);\n",
    "    }\n",
    "\n",
    "\n",
    "    public Iterable<Integer> adj(int v) {\n",
    "        validateVertex(v);\n",
    "        return adj[v];\n",
    "    }\n",
    "\n",
    "\n",
    "    public int degree(int v) {\n",
    "        validateVertex(v);\n",
    "        return adj[v].size();\n",
    "    }\n",
    "\n",
    "\n",
    "    public String toString() {\n",
    "        StringBuilder s = new StringBuilder();\n",
    "        s.append(V + \" vertices, \" + E + \" edges \" + NEWLINE);\n",
    "        for (int v = 0; v < V; v++) {\n",
    "            s.append(v + \": \");\n",
    "            for (int w : adj[v]) {\n",
    "                s.append(w + \" \");\n",
    "            }\n",
    "            s.append(NEWLINE);\n",
    "        }\n",
    "        return s.toString();\n",
    "    }\n",
    "\n",
    "\n",
    "    public static void main(String[] args) {\n",
    "        // Example of how to initialize a graph.\n",
    "        Graph G = new Graph(7);\n",
    "        G.addEdge(0, 1);\n",
    "        G.addEdge(0, 2);\n",
    "        G.addEdge(0, 6);\n",
    "        G.addEdge(0, 5);\n",
    "        G.addEdge(6, 4);\n",
    "        G.addEdge(4, 3);\n",
    "        G.addEdge(4, 5);\n",
    "        G.addEdge(3, 5);\n",
    "        System.out.println(G);\n",
    "    }\n",
    "\n",
    "}\n",
    "Graph.main(null);"
   ]
  },
  {
   "attachments": {},
   "cell_type": "markdown",
   "id": "5c01c5e0",
   "metadata": {},
   "source": [
    "Note that the output from the above tester method initializes the graph pictured above the class. "
   ]
  },
  {
   "attachments": {},
   "cell_type": "markdown",
   "id": "fa8cbf65",
   "metadata": {},
   "source": [
    "### Depth First Search\n",
    "\n",
    "One method to search all of the vertices and edges in a connected graph. Start at a random vertex and mark it. Then, go to any vertex connected to the starting vertex and mark it. Continue to do this until you have explored all vertices along this path. Then, retrace back one step, and see if you can explore any other vertices. Continue to do this until you get back to the root. Then do the same thing again. It is called depth first search because you fully explore the entire root of a node first, before moving on."
   ]
  },
  {
   "cell_type": "code",
   "execution_count": 26,
   "id": "3a5d4800",
   "metadata": {
    "vscode": {
     "languageId": "java"
    }
   },
   "outputs": [
    {
     "name": "stdout",
     "output_type": "stream",
     "text": [
      "0 1 2 3 4 5 6 \n",
      "connected\n"
     ]
    }
   ],
   "source": [
    "public class DepthFirstSearch {\n",
    "    private boolean[] marked;    \n",
    "    private int count;           \n",
    "\n",
    "    public DepthFirstSearch(Graph G, int s) {\n",
    "        marked = new boolean[G.V()];\n",
    "        validateVertex(s);\n",
    "        dfs(G, s);\n",
    "    }\n",
    "\n",
    "    private void dfs(Graph G, int v) {\n",
    "        count++;\n",
    "        marked[v] = true;\n",
    "        for (int w : G.adj(v)) {\n",
    "            if (!marked[w]) {\n",
    "                dfs(G, w);\n",
    "            }\n",
    "        }\n",
    "    }\n",
    "\n",
    "\n",
    "    public boolean marked(int v) {\n",
    "        validateVertex(v);\n",
    "        return marked[v];\n",
    "    }\n",
    "\n",
    "\n",
    "    public int count() {\n",
    "        return count;\n",
    "    }\n",
    "\n",
    "    private void validateVertex(int v) {\n",
    "        int V = marked.length;\n",
    "        if (v < 0 || v >= V)\n",
    "            throw new IllegalArgumentException(\"vertex \" + v + \" is not between 0 and \" + (V-1));\n",
    "    }\n",
    "\n",
    "    public static void main(String[] args) {\n",
    "        Graph G = new Graph(7);\n",
    "        G.addEdge(0, 1);\n",
    "        G.addEdge(0, 2);\n",
    "        G.addEdge(0, 6);\n",
    "        G.addEdge(0, 5);\n",
    "        G.addEdge(6, 4);\n",
    "        G.addEdge(4, 3);\n",
    "        G.addEdge(4, 5);\n",
    "        G.addEdge(3, 5);\n",
    "        int s = 0;\n",
    "        DepthFirstSearch search = new DepthFirstSearch(G, s);\n",
    "        for (int v = 0; v < G.V(); v++) {\n",
    "            if (search.marked(v))\n",
    "                System.out.print(v + \" \");\n",
    "        }\n",
    "\n",
    "        System.out.println();\n",
    "        if (search.count() != G.V()) {\n",
    "            System.out.println(\"NOT connected\");\n",
    "        }\n",
    "        else {\n",
    "            System.out.println(\"connected\");\n",
    "        }\n",
    "    }\n",
    "\n",
    "}\n",
    "DepthFirstSearch.main(null);"
   ]
  },
  {
   "attachments": {},
   "cell_type": "markdown",
   "id": "5a7d46c4",
   "metadata": {},
   "source": [
    "### Breadth First Search"
   ]
  },
  {
   "attachments": {},
   "cell_type": "markdown",
   "id": "829cfddd",
   "metadata": {},
   "source": [
    "### Databases using graphs"
   ]
  },
  {
   "attachments": {},
   "cell_type": "markdown",
   "id": "8e1cf60e",
   "metadata": {},
   "source": [
    "One popular database that utilizes graphs is called Neo4j. I used this while working at the San Diego Supercomputer Center for various kinds of data that could be represented well using graphs. \n",
    "\n",
    "Here's an example of how this could be used in relation to something simple like forming CSA groups:\n",
    "\n",
    "![override](https://github.com/AD1616/ADfastpages/assets/64157584/2cbbdb8c-79ed-4a63-a184-b410ad8c5d3e)\n",
    "\n",
    "As you can see, we have a great visualization of nodes and edges(relationships) using this. Also, we can store as many properties as we want within each node and edge. Additionally, we can give nodes and edges labels, which we can then query against using the Cypher query language. The simplest cypher query is pictured, where MATCH(n) RETURN n returns all nodes and edges in the database."
   ]
  },
  {
   "cell_type": "code",
   "execution_count": null,
   "id": "125886ab",
   "metadata": {
    "vscode": {
     "languageId": "java"
    }
   },
   "outputs": [],
   "source": []
  }
 ],
 "metadata": {
  "kernelspec": {
   "display_name": "Java",
   "language": "java",
   "name": "java"
  },
  "language_info": {
   "codemirror_mode": "java",
   "file_extension": ".jshell",
   "mimetype": "text/x-java-source",
   "name": "Java",
   "pygments_lexer": "java",
   "version": "18.0.2+9-61"
  }
 },
 "nbformat": 4,
 "nbformat_minor": 5
}
