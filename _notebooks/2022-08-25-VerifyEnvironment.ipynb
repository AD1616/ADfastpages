{
 "cells": [
  {
   "cell_type": "markdown",
   "id": "685512b9",
   "metadata": {},
   "source": [
    "# Verify Environment\n",
    "> Bash program that verifies the environment is proper for work.\n",
    "\n",
    "- title: Verify Environment\n",
    "- toc: true\n",
    "- comments: true\n",
    "- categories: [bash]"
   ]
  },
  {
   "cell_type": "code",
   "execution_count": 1,
   "id": "fcd75980",
   "metadata": {},
   "outputs": [
    {
     "name": "stdout",
     "output_type": "stream",
     "text": [
      "Available kernels:\n",
      "  bash          /Users/sahilsamar/Library/Jupyter/kernels/bash\n",
      "  java          /Users/sahilsamar/Library/Jupyter/kernels/java\n",
      "  javascript    /Users/sahilsamar/Library/Jupyter/kernels/javascript\n",
      "  python3       /Users/sahilsamar/opt/anaconda3/envs/myenv/share/jupyter/kernels/python3\n"
     ]
    }
   ],
   "source": [
    "# Verifying that the proper jupyter kernels are installed\n",
    "jupyter kernelspec list"
   ]
  },
  {
   "cell_type": "code",
   "execution_count": 2,
   "id": "c4aac8ad",
   "metadata": {},
   "outputs": [
    {
     "name": "stdout",
     "output_type": "stream",
     "text": [
      "Python 3.10.5\n",
      "Python 2.7.18\n",
      "java 18.0.2 2022-07-19\n",
      "Java(TM) SE Runtime Environment (build 18.0.2+9-61)\n",
      "Java HotSpot(TM) 64-Bit Server VM (build 18.0.2+9-61, mixed mode, sharing)\n",
      "conda 4.13.0\n"
     ]
    }
   ],
   "source": [
    "# Displaying python versions for the system, as well as java and conda version.\n",
    "python --version\n",
    "python2 --version\n",
    "java --version\n",
    "conda --version"
   ]
  },
  {
   "cell_type": "code",
   "execution_count": null,
   "id": "9b62d1a9",
   "metadata": {},
   "outputs": [],
   "source": [
    "# This takes user input (run this from terminal, as jupyter can't accept bash input).\n",
    "# cd ~/GithubRepositories/ADfastpages\n",
    "# bash searchConda.sh"
   ]
  },
  {
   "cell_type": "code",
   "execution_count": null,
   "id": "b8fab0b9",
   "metadata": {},
   "outputs": [],
   "source": []
  },
  {
   "cell_type": "code",
   "execution_count": null,
   "id": "8652d906",
   "metadata": {
    "vscode": {
     "languageId": "shellscript"
    }
   },
   "outputs": [],
   "source": []
  }
 ],
 "metadata": {
  "kernelspec": {
   "display_name": "Bash",
   "language": "bash",
   "name": "bash"
  },
  "language_info": {
   "codemirror_mode": "shell",
   "file_extension": ".sh",
   "mimetype": "text/x-sh",
   "name": "bash"
  }
 },
 "nbformat": 4,
 "nbformat_minor": 5
}
