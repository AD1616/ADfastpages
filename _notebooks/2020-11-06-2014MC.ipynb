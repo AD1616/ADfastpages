{
 "cells": [
  {
   "cell_type": "markdown",
   "id": "83696ad7",
   "metadata": {},
   "source": [
    "# 2014 Practice Exam MCQ\n",
    "> First full AP style practice exam.\n",
    "\n",
    "- title: 2014 Practice Exam MCQ\n",
    "- toc: true\n",
    "- comments: true\n",
    "- categories: [java]"
   ]
  },
  {
   "cell_type": "markdown",
   "id": "0e2a7a57",
   "metadata": {},
   "source": [
    "# Final Score\n",
    "\n",
    "I scored a 39/40. My only mistake was due to a gap in knowledge of data types."
   ]
  },
  {
   "cell_type": "markdown",
   "id": "1f63700b",
   "metadata": {},
   "source": [
    "# Corrections"
   ]
  },
  {
   "cell_type": "markdown",
   "id": "5ada3674",
   "metadata": {},
   "source": [
    "Question 4: What is printed as a result of executing the code segment?"
   ]
  },
  {
   "cell_type": "code",
   "execution_count": 2,
   "id": "09597b18",
   "metadata": {},
   "outputs": [
    {
     "name": "stdout",
     "output_type": "stream",
     "text": [
      "Value is: 2\n"
     ]
    }
   ],
   "source": [
    "int x = 7;\n",
    "int y = 3;\n",
    "\n",
    "if ((x < 10) && (y < 0))\n",
    "    System.out.println(\"Value is: \" + x * y);\n",
    "else\n",
    "    System.out.println(\"Value is: \" + x / y);"
   ]
  },
  {
   "cell_type": "markdown",
   "id": "8a48e1c6",
   "metadata": {},
   "source": [
    "The answer that I put was 2.3333333...\n",
    "\n",
    "Since 7/3's true value is that. However, since 7 and 3 are both integers, floating point divison does not occur. Instead, integer division occurs, which means that the number is rounded to 2. The output in the above cell confirms this.\n",
    "\n",
    "Thus, the output is not\n",
    "\n",
    "Value is: 2.3333333\n",
    "\n",
    "But is instead:\n",
    "\n",
    "Value is: 2"
   ]
  },
  {
   "cell_type": "code",
   "execution_count": null,
   "id": "4f57f6a7",
   "metadata": {},
   "outputs": [],
   "source": []
  }
 ],
 "metadata": {
  "kernelspec": {
   "display_name": "Java",
   "language": "java",
   "name": "java"
  },
  "language_info": {
   "codemirror_mode": "java",
   "file_extension": ".jshell",
   "mimetype": "text/x-java-source",
   "name": "Java",
   "pygments_lexer": "java",
   "version": "18.0.2+9-61"
  }
 },
 "nbformat": 4,
 "nbformat_minor": 5
}
