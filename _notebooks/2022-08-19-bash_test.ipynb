{
 "cells": [
  {
   "cell_type": "markdown",
   "metadata": {},
   "source": [
    "# Hello Bash Jupyter Kernel\n",
    "> Testing the bash jupyter kernel\n",
    "\n",
    "- title: Hello Bash Jupyter Kernel\n",
    "- toc: true\n",
    "- comments: true\n",
    "- categories: [bash]"
   ]
  },
  {
   "cell_type": "code",
   "execution_count": 1,
   "metadata": {
    "vscode": {
     "languageId": "shellscript"
    }
   },
   "outputs": [
    {
     "name": "stdout",
     "output_type": "stream",
     "text": [
      "2020-02-20-test.ipynb\t\tREADME.md\n",
      "2022-07-21-neo4j_intro.ipynb\tghtop_images\n",
      "2022-07-28-java_test.ipynb\tmy_icons\n",
      "2022-08-19-bash_test.ipynb\n"
     ]
    }
   ],
   "source": [
    "ls"
   ]
  },
  {
   "cell_type": "code",
   "execution_count": 2,
   "metadata": {
    "vscode": {
     "languageId": "shellscript"
    }
   },
   "outputs": [],
   "source": [
    "cd ~"
   ]
  },
  {
   "cell_type": "code",
   "execution_count": 3,
   "metadata": {
    "vscode": {
     "languageId": "shellscript"
    }
   },
   "outputs": [
    {
     "name": "stdout",
     "output_type": "stream",
     "text": [
      "Applications\t\tJupyterNotebooks\tUnityProjects\n",
      "CustomApps\t\tLibrary\t\t\tminiforge3\n",
      "Desktop\t\t\tMovies\t\t\topt\n",
      "Documents\t\tMusic\t\t\ttensorflow-env\n",
      "Downloads\t\tPictures\n",
      "GithubRepositories\tPublic\n"
     ]
    }
   ],
   "source": [
    "ls"
   ]
  }
 ],
 "metadata": {
  "kernelspec": {
   "display_name": "Bash",
   "language": "bash",
   "name": "bash"
  },
  "language_info": {
   "codemirror_mode": "shell",
   "file_extension": ".sh",
   "mimetype": "text/x-sh",
   "name": "bash"
  },
  "orig_nbformat": 4
 },
 "nbformat": 4,
 "nbformat_minor": 2
}
