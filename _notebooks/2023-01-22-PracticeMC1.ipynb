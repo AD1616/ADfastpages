{
 "cells": [
  {
   "attachments": {},
   "cell_type": "markdown",
   "id": "62289509",
   "metadata": {},
   "source": [
    "# 66 Question Practice MC\n",
    "> First full AP style practice exam.\n",
    "\n",
    "- title: 66 Question Practice MC\n",
    "- toc: true\n",
    "- comments: true\n",
    "- categories: [cb]"
   ]
  },
  {
   "attachments": {},
   "cell_type": "markdown",
   "id": "1639cb48",
   "metadata": {},
   "source": [
    "# Final Score\n",
    "\n",
    "I scored a 58/66. "
   ]
  },
  {
   "cell_type": "markdown",
   "id": "e8e939e3",
   "metadata": {},
   "source": [
    "# Corrections"
   ]
  },
  {
   "attachments": {},
   "cell_type": "markdown",
   "id": "373ef6b2",
   "metadata": {},
   "source": [
    "### Q8: Compare A and B to not A and not B\n",
    "\n",
    "This question asked to explain the relationship between A && B and !A && !B. These expressions would have the same value if A and B are different values, since both expressions would always be false. I didn't think this through."
   ]
  },
  {
   "attachments": {},
   "cell_type": "markdown",
   "id": "efb277ee",
   "metadata": {},
   "source": [
    "### Q24 Error in findZero Method\n",
    "\n",
    "I got this wrong because I got confused on what <= vs < did. In arrays, it should ALWAYS be < arr.length to avoid out of bounds error. <= arr.length -1 also works. In this case, if an array did not have 0, then it would try to index at arr.length which results in error."
   ]
  },
  {
   "attachments": {},
   "cell_type": "markdown",
   "id": "da02e611",
   "metadata": {},
   "source": [
    "### Q36 GridWorld getDirection and getMoveLocation calls\n",
    "\n",
    "What even is this? Not sure what it's referencing."
   ]
  },
  {
   "attachments": {},
   "cell_type": "markdown",
   "id": "c81ef194",
   "metadata": {},
   "source": [
    "### Q40 maxHelper with int array instance variable fix\n",
    "\n",
    "Base case should be called before another recursive call."
   ]
  },
  {
   "attachments": {},
   "cell_type": "markdown",
   "id": "1bd1a493",
   "metadata": {},
   "source": [
    "### Q50\n",
    "\n",
    "Didn't understand the question. First number is how many times loop is called. Second number is what it has to be divisible by. For 0 and 10, only way is for us to be looking for even number also divisible by 5, and have enough iterations to get to 10. So we take 20 and 5. "
   ]
  },
  {
   "attachments": {},
   "cell_type": "markdown",
   "id": "5aff9001",
   "metadata": {},
   "source": [
    "### Q54\n",
    "\n",
    "Should be in descending order, not ascending."
   ]
  },
  {
   "attachments": {},
   "cell_type": "markdown",
   "id": "194dcdfc",
   "metadata": {},
   "source": [
    "### Q59\n",
    "\n",
    "Key word is which case ALWAYS results in an error. I did not think in this way."
   ]
  },
  {
   "attachments": {},
   "cell_type": "markdown",
   "id": "1338a8cd",
   "metadata": {},
   "source": [
    "### Q63\n",
    "\n",
    "Didn't get this one because the right answer leaves an extra curly brace."
   ]
  },
  {
   "cell_type": "markdown",
   "id": "27b195d8",
   "metadata": {},
   "source": []
  }
 ],
 "metadata": {
  "kernelspec": {
   "display_name": "Java",
   "language": "java",
   "name": "java"
  },
  "language_info": {
   "codemirror_mode": "java",
   "file_extension": ".jshell",
   "mimetype": "text/x-java-source",
   "name": "java",
   "pygments_lexer": "java",
   "version": "18.0.2+9-61"
  }
 },
 "nbformat": 4,
 "nbformat_minor": 5
}
