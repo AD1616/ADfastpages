{
 "cells": [
  {
   "cell_type": "markdown",
   "metadata": {},
   "source": [
    "# ArrayList\n",
    "> ArrayList implementation of List interface documentation in java.\n",
    "\n",
    "- title: ArrayList\n",
    "- toc: true\n",
    "- comments: true\n",
    "- categories: [java]"
   ]
  },
  {
   "cell_type": "code",
   "execution_count": 14,
   "metadata": {},
   "outputs": [
    {
     "name": "stdout",
     "output_type": "stream",
     "text": [
      "Using the .add method 3 times.\n",
      "[Honda, Toyota, Tesla]\n",
      "\n",
      "Using the .addAll method to add 3 brands.\n",
      "[Honda, Toyota, Tesla, BMW, Porsche, Nissan]\n"
     ]
    }
   ],
   "source": [
    "import java.util.*;\n",
    " \n",
    "public class ArrayListDocumentation {\n",
    "   \n",
    "    // Main driver method\n",
    "    public static void main(String[] args)\n",
    "    {\n",
    "        // Implementing the list interface as an arraylist\n",
    "        // Note: You can't instantiate an object of the List class.\n",
    "        // The List interface describes a collection and supports things like iteration, or adding/deleting\n",
    "        // ArrayList implements the List\n",
    "        List<String> brands = new ArrayList<String>();\n",
    "       \n",
    "        // Adding elements to ArrayList\n",
    "        brands.add(\"Honda\");\n",
    "        brands.add(\"Toyota\");\n",
    "        brands.add(\"Tesla\");\n",
    "\n",
    "        System.out.println(\"Using the .add method 3 times.\");\n",
    "        System.out.println(brands);\n",
    "        System.out.println();\n",
    "\n",
    "        // Using addAll method to add multiple elements to the ArrayList at once\n",
    "        List<String> newBrands = new ArrayList<String>();\n",
    "        newBrands.add(\"BMW\");\n",
    "        newBrands.add(\"Porsche\");\n",
    "        newBrands.add(\"Nissan\");\n",
    "        brands.addAll(newBrands);\n",
    "        System.out.println(\"Using the .addAll method to add 3 brands.\");\n",
    "        System.out.println(brands);\n",
    "\n",
    "\n",
    "    }\n",
    "}\n",
    "ArrayListDocumentation.main(null);"
   ]
  },
  {
   "cell_type": "code",
   "execution_count": null,
   "metadata": {},
   "outputs": [],
   "source": []
  }
 ],
 "metadata": {
  "kernelspec": {
   "display_name": "Java",
   "language": "java",
   "name": "java"
  },
  "language_info": {
   "codemirror_mode": "java",
   "file_extension": ".jshell",
   "mimetype": "text/x-java-source",
   "name": "java",
   "pygments_lexer": "java",
   "version": "18.0.2+9-61"
  },
  "orig_nbformat": 4
 },
 "nbformat": 4,
 "nbformat_minor": 2
}
