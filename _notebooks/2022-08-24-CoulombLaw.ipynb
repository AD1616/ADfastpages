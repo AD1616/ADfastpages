{
 "cells": [
  {
   "cell_type": "markdown",
   "metadata": {},
   "source": [
    "# Coulomb Calculator\n",
    "> Java program that calculates force between charges.\n",
    "\n",
    "- title: Coulomb Calculator\n",
    "- toc: true\n",
    "- comments: true\n",
    "- categories: [java]"
   ]
  },
  {
   "attachments": {
    "coulomb_law.png": {
     "image/png": "[encoded data removed]"
    }
   },
   "cell_type": "markdown",
   "metadata": {},
   "source": [
    "![coulomb_law.png](attachment:coulomb_law.png)"
   ]
  },
  {
   "cell_type": "markdown",
   "metadata": {},
   "source": [
    "## Introduction\n",
    "\n",
    "I used this notebook to make a Coulomb Law calculator using Java. The main goal of this was to gain an understanding of primitives. \n",
    "\n",
    "I used integers, doubles, floats, and booleans, all of which were primitive data types. I also used strings, which are not primitive data types, and used one of the methods to demonstrate that the string was an object of the nonprimitive String class. "
   ]
  },
  {
   "cell_type": "code",
   "execution_count": 17,
   "metadata": {},
   "outputs": [
    {
     "name": "stdout",
     "output_type": "stream",
     "text": [
      "Import Successful\n"
     ]
    }
   ],
   "source": [
    "import java.util.Scanner;\n",
    "import java.lang.Math;\n",
    "System.out.println(\"Import Successful\");"
   ]
  },
  {
   "cell_type": "code",
   "execution_count": 18,
   "metadata": {},
   "outputs": [
    {
     "name": "stdout",
     "output_type": "stream",
     "text": [
      "Enter the first charge: 5\n",
      "Enter the second charge: 10\n",
      "Enter the distance between the charges: 15\n",
      "The force between the two charges, by Coulomb's Law, is 2.0E9 Coulombs\n",
      "Do you wish to continue? Type Yes to continue, or anything else to exit. Yes\n",
      "Enter the first charge: 20\n",
      "Enter the second charge: 25\n",
      "Enter the distance between the charges: 30\n",
      "The force between the two charges, by Coulomb's Law, is 5.0E9 Coulombs\n",
      "Do you wish to continue? Type Yes to continue, or anything else to exit. no\n",
      "Exited.\n"
     ]
    }
   ],
   "source": [
    "public class Coulomb {\n",
    "    \n",
    "    // Constructor with the enterValues method. \n",
    "    public Coulomb () {\n",
    "        this.enterValues();\n",
    "    }\n",
    "    \n",
    "    // Generally, charge values can be integers, since charge is quantized.\n",
    "    // The distance can be a float, since it is often a decimal. \n",
    "    // The force is a double due to the size of k.\n",
    "    private double force;\n",
    "    private int q1;\n",
    "    private int q2;\n",
    "    private float r;\n",
    "    private static double k = 9 * Math.pow(10, 9);\n",
    "    \n",
    "    public static void main(String[] args) {\n",
    "        // Creating an object of the Coulomb class. The constructor calls the enterValues method.\n",
    "        Coulomb calc = new Coulomb();\n",
    "    }\n",
    "    \n",
    "    private void enterValues() {\n",
    "        Scanner input;\n",
    "        \n",
    "        // 3 while loops with try-catch statements to make sure the correct datatype is inputted.\n",
    "        while (true) {\n",
    "            input = new Scanner(System.in);\n",
    "            System.out.print(\"Enter the first charge: \");\n",
    "            try {\n",
    "                q1 = input.nextInt();\n",
    "                break;\n",
    "            } catch (Exception e) {  // if not a number\n",
    "                System.out.println(\"Not an int\" + e);\n",
    "            }\n",
    "            input.close();\n",
    "        }\n",
    "\n",
    "        while (true) {\n",
    "            input = new Scanner(System.in);\n",
    "            System.out.print(\"Enter the second charge: \");\n",
    "            try {\n",
    "                q2 = input.nextInt();\n",
    "                break;\n",
    "            } catch (Exception e) {  // if not a number\n",
    "                System.out.println(\"Not an int\" + e);\n",
    "            }\n",
    "            input.close();  \n",
    "        }\n",
    "\n",
    "        while (true) {\n",
    "            input = new Scanner(System.in);\n",
    "            System.out.print(\"Enter the distance between the charges: \");\n",
    "            try {\n",
    "                r = input.nextFloat();\n",
    "                break;\n",
    "            } catch (Exception e) {  // if not a number\n",
    "                System.out.println(\"Not a float\" + e);\n",
    "            }\n",
    "            input.close(); \n",
    "        }\n",
    "\n",
    "        \n",
    "        CalculateCoulomb();\n",
    "        System.out.println(\"The force between the two charges, by Coulomb's Law, is \" + force + \" Coulombs\");\n",
    "        \n",
    "        // If the user wishes to continue, they can enter new values. If not, the program exits.\n",
    "        if (moreCalc()) {\n",
    "            enterValues();\n",
    "        }\n",
    "        else {\n",
    "            System.out.println(\"Exited.\");\n",
    "            return;\n",
    "        }\n",
    "    }\n",
    "    \n",
    "    // The actual calculator. A simple formula called Coulomb's Law is employed.\n",
    "    // The method itself is of type double, and outputs the force which is of double datatype. \n",
    "    public double CalculateCoulomb() {\n",
    "        force = (k * q1 * q2 / (Math.pow(r, 2)));\n",
    "        return force;\n",
    "    }\n",
    "    \n",
    "    // This method checks if the user wishes to do a new calculation.\n",
    "    // The method is of type boolean, and outputs true if the user wants to enter new values, and false otherwise.\n",
    "    public boolean moreCalc() {\n",
    "        Scanner input;\n",
    "        input = new Scanner(System.in);\n",
    "        System.out.print(\"Do you wish to continue? Type Yes to continue, or anything else to exit. \");\n",
    "        String chosen = input.nextLine();\n",
    "        // String is a class. Therefore, the object of the String class, chosen, has methods.\n",
    "        // The .equals method is used to check if two strings are equivalent.\n",
    "        if (chosen.equals(\"Yes\")) {\n",
    "            return true;\n",
    "        }\n",
    "        else {\n",
    "            return false;\n",
    "        }\n",
    "\n",
    "    }\n",
    "}\n",
    "\n",
    "Coulomb.main(null);\n"
   ]
  },
  {
   "cell_type": "code",
   "execution_count": null,
   "metadata": {},
   "outputs": [],
   "source": []
  }
 ],
 "metadata": {
  "kernelspec": {
   "display_name": "Java",
   "language": "java",
   "name": "java"
  },
  "language_info": {
   "codemirror_mode": "java",
   "file_extension": ".jshell",
   "mimetype": "text/x-java-source",
   "name": "Java",
   "pygments_lexer": "java",
   "version": "18.0.2+9-61"
  }
 },
 "nbformat": 4,
 "nbformat_minor": 2
}
