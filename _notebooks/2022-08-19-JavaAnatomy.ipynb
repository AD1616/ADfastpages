{
 "cells": [
  {
   "cell_type": "markdown",
   "metadata": {},
   "source": [
    "# Java Anatomy\n",
    "> Java Anatomy\n",
    "\n",
    "- title: Java Anatomy\n",
    "- toc: true\n",
    "- comments: true\n",
    "- categories: [java]"
   ]
  },
  {
   "cell_type": "markdown",
   "metadata": {},
   "source": [
    "# How does it work?\n",
    "\n",
    "First, you need to create a class. The name of the class is sometimes called the definition or the header. The keyword at the start determines its access level. Inside of the class, you can create methods, which are like functions. A static method ensures that there is only one of them. The public keyword determines the access level of the method. Void just means that the method doesn't return anything.\n",
    "\n",
    "We can then call this method without first instantiating the object, because the method was static. "
   ]
  },
  {
   "cell_type": "code",
   "execution_count": 1,
   "metadata": {},
   "outputs": [
    {
     "name": "stdout",
     "output_type": "stream",
     "text": [
      "Hello World!\n"
     ]
    }
   ],
   "source": [
    "// Define Static Method within a Class\n",
    "public class HelloStatic {\n",
    "    // Java standard runtime entry point\n",
    "    public static void main(String[] args) {    \n",
    "        System.out.println(\"Hello World!\");\n",
    "    }\n",
    "}\n",
    "// A method call allows us to execute code that is wrapped in Class\n",
    "HelloStatic.main(null);   // Class prefix allows reference of Static Method"
   ]
  },
  {
   "cell_type": "markdown",
   "metadata": {},
   "source": [
    "# Constructors\n",
    "\n",
    "A class can have a constructor. This is basically created with the syntax of excluding the \"class\" keyword. Inside the constructor, you can define and assign variables. Make sure that the variable is defined with an access level and a datatype before it is included in the constructor. \n",
    "\n",
    "A getter is basically so that you can access variables with the private keyword from outside of the class. It is simply a public method that returns the value of a particular private variable. Note that this is not static, so an object of the class must be created to call this method."
   ]
  },
  {
   "cell_type": "code",
   "execution_count": 2,
   "metadata": {},
   "outputs": [
    {
     "name": "stdout",
     "output_type": "stream",
     "text": [
      "Hello, World!\n"
     ]
    }
   ],
   "source": [
    "// Define Class with Constructor returning Object\n",
    "public class HelloObject {\n",
    "    private String hello;   // instance attribute or variable\n",
    "    public HelloObject() {  // constructor\n",
    "        hello = \"Hello, World!\";\n",
    "    }\n",
    "    public String getHello() {  // getter, returns value from inside the object\n",
    "        return this.hello;  // return String from object\n",
    "    }\n",
    "    public static void main(String[] args) {    \n",
    "        HelloObject ho = new HelloObject(); // Instance of Class (ho) is an Object via \"new HelloObject()\"\n",
    "        System.out.println(ho.getHello()); // Object allows reference to public methods and data\n",
    "    }\n",
    "}\n",
    "// IJava activation\n",
    "HelloObject.main(null);"
   ]
  },
  {
   "cell_type": "markdown",
   "metadata": {},
   "source": [
    "# Multiple Objects and Constructors\n",
    "\n",
    "The below class has two constructors. When a class object is created with no parameters, the first constructor is called. When a class object is created with a parameter, the second constructor is called. This allows for a user to access different functionalities of the program based not only on what the values are of the parameters they type but also on what parameters they actually choose to type.\n",
    "\n",
    "This method also has a getter and a setter for the private hello string."
   ]
  },
  {
   "cell_type": "code",
   "execution_count": 3,
   "metadata": {},
   "outputs": [
    {
     "name": "stdout",
     "output_type": "stream",
     "text": [
      "Hello, World!\n",
      "Hello, Nighthawk Coding Society!\n"
     ]
    }
   ],
   "source": [
    "// Define Class\n",
    "public class HelloDynamic { // name the first letter of class as capitalized, note camel case\n",
    "    // instance variable have access modifier (private is most common), data type, and name\n",
    "    private String hello;\n",
    "    // constructor signature 1, public and zero arguments, constructors do not have return type\n",
    "    public HelloDynamic() {  // 0 argument constructor\n",
    "        this.setHello(\"Hello, World!\");  // using setter with static string\n",
    "    }\n",
    "    // constructor signature, public and one argument\n",
    "    public HelloDynamic(String hello) { // 1 argument constructor\n",
    "        this.setHello(hello);   // using setter with local variable passed into constructor\n",
    "    }\n",
    "    // setter/mutator, setter have void return type and a parameter\n",
    "    public void setHello(String hello) { // setter\n",
    "        this.hello = hello;     // instance variable on the left, local variable on the right\n",
    "    }\n",
    "    // getter/accessor, getter used to return private instance variable (encapsulated), return type is String\n",
    "    public String getHello() {  // getter\n",
    "        return this.hello;\n",
    "    }\n",
    "    // public static void main(String[] args) is signature for main/drivers/tester method\n",
    "    // a driver/tester method is singular or called a class method, it is never part of an object\n",
    "    public static void main(String[] args) {  \n",
    "        HelloDynamic hd1 = new HelloDynamic(); // no argument constructor\n",
    "        HelloDynamic hd2 = new HelloDynamic(\"Hello, Nighthawk Coding Society!\"); // one argument constructor\n",
    "        System.out.println(hd1.getHello()); // accessing getter\n",
    "        System.out.println(hd2.getHello()); \n",
    "    }\n",
    "}\n",
    "// IJava activation\n",
    "HelloDynamic.main(null);"
   ]
  },
  {
   "cell_type": "code",
   "execution_count": null,
   "metadata": {},
   "outputs": [],
   "source": []
  }
 ],
 "metadata": {
  "kernelspec": {
   "display_name": "Java",
   "language": "java",
   "name": "java"
  },
  "language_info": {
   "codemirror_mode": "java",
   "file_extension": ".jshell",
   "mimetype": "text/x-java-source",
   "name": "java",
   "pygments_lexer": "java",
   "version": "18.0.2+9-61"
  },
  "orig_nbformat": 4,
  "vscode": {
   "interpreter": {
    "hash": "aee8b7b246df8f9039afb4144a1f6fd8d2ca17a180786b69acc140d282b71a49"
   }
  }
 },
 "nbformat": 4,
 "nbformat_minor": 2
}
