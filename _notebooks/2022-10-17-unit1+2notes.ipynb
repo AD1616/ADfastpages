{
 "cells": [
  {
   "cell_type": "markdown",
   "metadata": {},
   "source": [
    "# Unit 1 and Unit 2 Notes\n",
    "> Notes on CB Unit 1 and 2.\n",
    "\n",
    "- title: Unit 1 and Unit 2 Notes\n",
    "- toc: true\n",
    "- comments: true\n",
    "- categories: [markdown]"
   ]
  },
  {
   "cell_type": "markdown",
   "metadata": {},
   "source": [
    "## Unit 1 Primitive Types\n",
    "* String literal - an exact sequence of characters enclosed between two quotation marks\n",
    "* Different Errors\n",
    "    * Syntax/compiler error: program won't compile due to typos\n",
    "    * Exception\n",
    "    * Logic error: actual output differs from anticipated output\n",
    "### Data Types\n",
    "* Determine what type of value is stored ### Variables\n",
    "* variable: name for memory location holding a certain type of value\n",
    "    * no spaces\n",
    "    * can't start with #\n",
    "    * no special characters (anything besides letters/digits)\n",
    "    * no Java reserved keywords\n",
    "    * use camelCase conventions #### Declaring\n",
    "    * assignment operator (=) is used to initialize variable or change its associated value ### Primitive\n",
    "* Examples:\n",
    "    * boolean (1 bit)\n",
    "    * int (32 bits)\n",
    "        * if the integer result of an expression is beyond the range there will be an overflow error\n",
    "    * double (64 bits) ### Reference\n",
    "### Arthmetic Operators\n",
    "* INCLUDES: +, -, *, /, %\n",
    "* operations with only int ==> output int\n",
    "* operations with only double ==> output double\n",
    "* operations with both int and double ==> * output double\n",
    "* division by zero ==> ArithmeticException\n",
    "### Compound Assignment Operators and Incrememt/Decrement Operators\n",
    "* +=, -=, *=, /=, %=\n",
    "* Using these will change the value of the variable to the result of the operation\n",
    "* Increment/Decrement:\n",
    "    * ++: adds 1\n",
    "    * --: subtracts 1"
   ]
  },
  {
   "cell_type": "markdown",
   "metadata": {},
   "source": [
    "# Unit 2 Using Objects"
   ]
  },
  {
   "cell_type": "markdown",
   "metadata": {},
   "source": [
    "### Constructors\n",
    "* Used to initialize attributes for an object"
   ]
  },
  {
   "cell_type": "code",
   "execution_count": null,
   "metadata": {},
   "outputs": [],
   "source": [
    "// Syntax example\n",
    "public Turtle{\n",
    "    public Turtle(String nm, int ag, boolean it){ // signature with formal parameters\n",
    "        this.name = nm;\n",
    "        this.age = ag;\n",
    "        this.isTortoise = it;\n",
    "    }\n",
    "    public String name; \n",
    "    public int age;\n",
    "    public boolean isTortoise;\n",
    "    \n",
    "}\n",
    "// call by value: pass actual parameters to constructor\n",
    "Turtle Shellbert = new Turtle(\"Shellbert\", 4, true); // creating an object with \"new\" keyword calls constructor"
   ]
  },
  {
   "cell_type": "markdown",
   "metadata": {},
   "source": [
    "### Vocab\n",
    "* signature: constructor name and parameter list\n",
    "* parameter list: lists type of values passed and their variable names (formal parameters)\n",
    "    * parameter: value passed into a constructor (actual parameters), must match types specified in parameter list\n",
    "    * call by value: initializes formal parameters with copies of the actual parameters\n",
    "* overloaded constructors: there are multiple constructors with same name, differing signatures\n",
    "* no argument constructor: constructor with no parameters, sets attributes (instance variables) of object to default values\n",
    "    * String: null\n",
    "    * boolean: false\n",
    "* null: variable reference doesn't actually contain an object"
   ]
  },
  {
   "cell_type": "markdown",
   "metadata": {},
   "source": []
  }
 ],
 "metadata": {
  "kernelspec": {
   "display_name": "Java",
   "language": "java",
   "name": "java"
  },
  "language_info": {
   "codemirror_mode": "java",
   "file_extension": ".jshell",
   "mimetype": "text/x-java-source",
   "name": "java",
   "pygments_lexer": "java",
   "version": "18.0.2+9-61"
  },
  "orig_nbformat": 4
 },
 "nbformat": 4,
 "nbformat_minor": 2
}
