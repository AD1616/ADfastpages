{
 "cells": [
  {
   "cell_type": "markdown",
   "id": "db838000",
   "metadata": {},
   "source": [
    "# Vector Fields\n",
    "> Using 2D Arrays to create a Vector Field Representation in Java.\n",
    "\n",
    "- title: Vector Fields\n",
    "- toc: true\n",
    "- comments: true\n",
    "- categories: [java]"
   ]
  },
  {
   "cell_type": "code",
   "execution_count": 14,
   "id": "00da4241",
   "metadata": {
    "vscode": {
     "languageId": "java"
    }
   },
   "outputs": [],
   "source": [
    "import java.lang.Math;\n",
    "public class VC {\n",
    "    public VC (float x, float y, float z) {\n",
    "        this.i = x;\n",
    "        this.j = y;\n",
    "        this.k = z;\n",
    "    }\n",
    "    \n",
    "    public VC (float x, float y) {\n",
    "        this.i = x;\n",
    "        this.j = y;\n",
    "        this.k = 0f;\n",
    "    }\n",
    "    \n",
    "    public float i;\n",
    "    public float j;\n",
    "    public float k;\n",
    "    \n",
    "    public double Magnitude() {\n",
    "        return Math.pow(this.i, 2) + Math.pow(this.j, 2) + Math.pow(this.k, 2);\n",
    "    }\n",
    "    \n",
    "    public void print() {\n",
    "        System.out.println(\"Vector Components: \");\n",
    "        System.out.print(this.i + \"  \");\n",
    "        System.out.print(this.j + \"  \");\n",
    "        System.out.print(this.k + \"  \");\n",
    "    }\n",
    "\n",
    "}"
   ]
  },
  {
   "cell_type": "code",
   "execution_count": 17,
   "id": "e1d09989",
   "metadata": {
    "vscode": {
     "languageId": "java"
    }
   },
   "outputs": [
    {
     "name": "stdout",
     "output_type": "stream",
     "text": [
      "The Magnitude of the vector at (0, 0) is: 0.0\n",
      "Vector Components: \n",
      "0.0  0.0  0.0  The Magnitude of the vector at (0, 1) is: 1.0\n",
      "Vector Components: \n",
      "0.0  1.0  0.0  The Magnitude of the vector at (0, 2) is: 4.0\n",
      "Vector Components: \n",
      "0.0  2.0  0.0  The Magnitude of the vector at (1, 0) is: 1.0\n",
      "Vector Components: \n",
      "1.0  0.0  0.0  The Magnitude of the vector at (1, 1) is: 2.0\n",
      "Vector Components: \n",
      "1.0  1.0  0.0  The Magnitude of the vector at (1, 2) is: 5.0\n",
      "Vector Components: \n",
      "1.0  2.0  0.0  The Magnitude of the vector at (2, 0) is: 4.0\n",
      "Vector Components: \n",
      "2.0  0.0  0.0  The Magnitude of the vector at (2, 1) is: 5.0\n",
      "Vector Components: \n",
      "2.0  1.0  0.0  The Magnitude of the vector at (2, 2) is: 8.0\n",
      "Vector Components: \n",
      "2.0  2.0  0.0  "
     ]
    }
   ],
   "source": [
    "public class VectorField {\n",
    "    VC[][] Cartesian2D;\n",
    "    \n",
    "    public static void main(String[] args) {\n",
    "        VectorField field1 = new VectorField();\n",
    "        field1.print(field1.CreateField());\n",
    "    }\n",
    "    public VC[][] CreateField() {\n",
    "        // Outside dimension is columns, or x. \n",
    "        // Inside dimension is rows, or y\n",
    "        return Cartesian2D = new VC[][] \n",
    "        {\n",
    "            {new VC(0,0), new VC(0,1), new VC(0,2)}, \n",
    "            {new VC(1,0), new VC(1,1), new VC(1,2)}, \n",
    "            {new VC(2,0), new VC(2,1), new VC(2,2)}\n",
    "        };\n",
    "    }\n",
    "    public void print(VC[][] field) {\n",
    "        for (int row = 0; row < field.length; row ++) {\n",
    "            for (int col = 0; col < field[row].length; col++) {\n",
    "                    System.out.println(\"The Magnitude of the vector at \"\n",
    "                     + \"(\" + row + \", \" + col + \") is: \" + field[row][col].Magnitude());\n",
    "                     field[row][col].print();\n",
    "                     System.out.println();\n",
    "                     System.out.println();\n",
    "            }\n",
    "        }\n",
    "    }\n",
    "    \n",
    "}\n",
    "VectorField.main(null);"
   ]
  },
  {
   "cell_type": "code",
   "execution_count": null,
   "id": "11536f19",
   "metadata": {
    "vscode": {
     "languageId": "java"
    }
   },
   "outputs": [],
   "source": []
  }
 ],
 "metadata": {
  "kernelspec": {
   "display_name": "Java",
   "language": "java",
   "name": "java"
  },
  "language_info": {
   "codemirror_mode": "java",
   "file_extension": ".jshell",
   "mimetype": "text/x-java-source",
   "name": "Java",
   "pygments_lexer": "java",
   "version": "18.0.2+9-61"
  }
 },
 "nbformat": 4,
 "nbformat_minor": 5
}
