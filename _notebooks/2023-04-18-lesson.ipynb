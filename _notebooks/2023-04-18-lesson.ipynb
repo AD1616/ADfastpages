{
 "cells": [
  {
   "cell_type": "markdown",
   "metadata": {},
   "source": [
    "# Arrays, 2D Arrays, and ArrayLists\n",
    "> CB Units 6, 7, 8\n",
    "\n",
    "- toc: true \n",
    "- badges: true\n",
    "- comments: true\n",
    "- categories: [jupyter]"
   ]
  },
  {
   "cell_type": "markdown",
   "metadata": {},
   "source": [
    "If you'd like, you can follow along with the lessons at this link. \n",
    "- [2D arrays and Arrays](https://github.com/CalrethonOfMirkwood/tri3_arraygrouplesson/blob/master/arrayslesson.ipynb)\n",
    "- [ArrayLists](https://saathvika-ajith.github.io/APCSA-Fastpages/fastpages/jupyter/2023/03/14/arraylistlesson.html)\n",
    "\n",
    "Clone this repo (``git clone https://github.com/Rebecca-123/rmr-tri3``) and work on the hacks below. You can transfer these hacks to your personal fastpages once you're finished. "
   ]
  },
  {
   "cell_type": "markdown",
   "metadata": {},
   "source": [
    "# ArrayList Hacks"
   ]
  },
  {
   "cell_type": "markdown",
   "metadata": {},
   "source": [
    "## Hack 1"
   ]
  },
  {
   "cell_type": "code",
   "execution_count": 7,
   "metadata": {
    "vscode": {
     "languageId": "java"
    }
   },
   "outputs": [
    {
     "name": "stdout",
     "output_type": "stream",
     "text": [
      "[xdd, xdd, xdd, xdd, xdd, xdd, xdd, xdd, xdd, xdd]\n"
     ]
    }
   ],
   "source": [
    "public class Turtle {\n",
    "    private String name;\n",
    "    \n",
    "    public Turtle(String name) {\n",
    "        this.name = name;\n",
    "        \n",
    "    }\n",
    "    \n",
    "    public static void main(String[] args) {\n",
    "        ArrayList<Boolean> boolArr = new ArrayList<Boolean>();\n",
    "\n",
    "        ArrayList<Turtle> turtles = new ArrayList<Turtle>();\n",
    "\n",
    "        ArrayList<String> strings = new ArrayList<String>();\n",
    "\n",
    "        for (int i = 0; i<10; i++) {\n",
    "            strings.add(\"xdd\");\n",
    "        }\n",
    "\n",
    "        System.out.println(strings.toString());\n",
    "    }\n",
    "}\n",
    "Turtle.main(null);"
   ]
  },
  {
   "cell_type": "markdown",
   "metadata": {},
   "source": [
    "## Hack 2\n",
    "Choose 3 different methods from above to change around this sample ArrayList:"
   ]
  },
  {
   "cell_type": "code",
   "execution_count": 18,
   "metadata": {
    "vscode": {
     "languageId": "java"
    }
   },
   "outputs": [
    {
     "name": "stdout",
     "output_type": "stream",
     "text": [
      "ArrayList: [1, 4, 7, 12, 23]\n",
      "ArrayList: [7, 7, 12, 23, 10]\n"
     ]
    }
   ],
   "source": [
    "import java.util.ArrayList;\n",
    "\n",
    "public class Hack2 {\n",
    "    public static void main(Integer[] args) {\n",
    "        ArrayList<Integer> randomNumbers = new ArrayList<Integer>();\n",
    "        randomNumbers.add(1);\n",
    "        randomNumbers.add(4);\n",
    "        randomNumbers.add(7);\n",
    "        randomNumbers.add(12);\n",
    "        randomNumbers.add(23);\n",
    "        System.out.println(\"ArrayList: \" + randomNumbers);\n",
    "\n",
    "        randomNumbers.remove(0);\n",
    "        randomNumbers.add(10);\n",
    "        randomNumbers.set(0, 7);\n",
    "\n",
    "        System.out.println(\"ArrayList: \" + randomNumbers);\n",
    "    }\n",
    "}\n",
    "Hack2.main(null);"
   ]
  },
  {
   "cell_type": "markdown",
   "metadata": {},
   "source": [
    "## Hack 3\n",
    "Here is some sample code for the total sum of integers. Finish the loop!"
   ]
  },
  {
   "cell_type": "code",
   "execution_count": 10,
   "metadata": {
    "vscode": {
     "languageId": "java"
    }
   },
   "outputs": [
    {
     "name": "stdout",
     "output_type": "stream",
     "text": [
      "ArrayList: [1, 4, 7, 12, 23]\n",
      "total: 47\n"
     ]
    }
   ],
   "source": [
    "public class Hack3 {\n",
    "    public static void main(String[] args) {\n",
    "        ArrayList<Integer> values = new ArrayList<Integer>();\n",
    "        values.add(1);\n",
    "        values.add(4);\n",
    "        values.add(7);\n",
    "        values.add(12);\n",
    "        values.add(23);\n",
    "        System.out.println(\"ArrayList: \" + values);\n",
    "        \n",
    "        int total = 0;\n",
    "\n",
    "        for (int i=0; i < values.size(); i++) {\n",
    "            total += values.get(i);\n",
    "        }\n",
    "\n",
    "        System.out.println(\"total: \" + total);\n",
    "    }\n",
    "}\n",
    "Hack3.main(null);"
   ]
  },
  {
   "cell_type": "markdown",
   "metadata": {},
   "source": [
    "## Hack 4\n",
    "Complete the Selection sort sample code by writing code for a swap of elements."
   ]
  },
  {
   "cell_type": "code",
   "execution_count": 16,
   "metadata": {
    "vscode": {
     "languageId": "java"
    }
   },
   "outputs": [
    {
     "name": "stdout",
     "output_type": "stream",
     "text": [
      "1 2 3 4 5 "
     ]
    }
   ],
   "source": [
    "int[] arr = {1, 5, 3, 4, 2};\n",
    "\n",
    "for (int i = 0; i < arr.length; i++) {\n",
    " \n",
    "    // nested loop 1 index ahead\n",
    "    for (int j = i + 1; j < arr.length; j++) {\n",
    "\n",
    "        // comparing elements\n",
    "        int temp = 0;\n",
    "        if (arr[j] < arr[i]) {\n",
    "            temp = arr[j];\n",
    "            arr[j] = arr[i];\n",
    "            arr[i] = temp;\n",
    "        }\n",
    "    }\n",
    "\n",
    "    // Printing sorted array \n",
    "    System.out.print(arr[i] + \" \");\n",
    "}"
   ]
  },
  {
   "cell_type": "markdown",
   "metadata": {},
   "source": [
    "# Array and 2D Array Hacks"
   ]
  },
  {
   "cell_type": "markdown",
   "metadata": {},
   "source": [
    "## Hack 5\n",
    "Make an array and iterate through it to only print the elements with even indexes (this includes 0). Then iterate through it again to only print the odd indexes."
   ]
  },
  {
   "cell_type": "code",
   "execution_count": 24,
   "metadata": {
    "vscode": {
     "languageId": "java"
    }
   },
   "outputs": [
    {
     "name": "stdout",
     "output_type": "stream",
     "text": [
      "1 3 5 \n",
      "2 4 "
     ]
    }
   ],
   "source": [
    "int[] arr = {1, 2, 3, 4, 5};\n",
    "\n",
    "for (int i = 0; i < arr.length; i++) {\n",
    "    if (i % 2 == 0) {\n",
    "        System.out.print(arr[i] + \" \");\n",
    "    }\n",
    "}\n",
    "System.out.println();\n",
    "for (int i = 0; i < arr.length; i++) {\n",
    "    if (i % 2 != 0) {\n",
    "        System.out.print(arr[i] + \" \");\n",
    "    }\n",
    "}"
   ]
  },
  {
   "cell_type": "markdown",
   "metadata": {},
   "source": [
    "## Hack 6\n",
    "Create a 2D array and iterate through it to print all of its elements."
   ]
  },
  {
   "cell_type": "code",
   "execution_count": 21,
   "metadata": {
    "vscode": {
     "languageId": "java"
    }
   },
   "outputs": [
    {
     "name": "stdout",
     "output_type": "stream",
     "text": [
      "1 2 3 \n",
      "4 5 6 \n"
     ]
    }
   ],
   "source": [
    "int[][] arr = {{1, 2, 3}, {4, 5, 6}};\n",
    "\n",
    "for (int row = 0; row < arr.length; row++) {\n",
    "    for (int col = 0; col < arr[0].length; col++) {\n",
    "        System.out.print(arr[row][col] + \" \");\n",
    "    }\n",
    "    System.out.println();\n",
    "}"
   ]
  },
  {
   "cell_type": "markdown",
   "metadata": {},
   "source": [
    "# Homework!\n",
    "\n",
    "Write a seating chart program for your group. Meet the following requirements:\n",
    "- A 2D array, array, or ArrayList\n",
    "- A minimum of 3 methods to manipulate the seating chart (ex. alphabetize, shuffle seats, add/replace/delete people)\n",
    "- Print results\n",
    "\n",
    "\n",
    "You will be graded on:\n",
    "- Completion of at least 5 of the above hacks (you can complete these during the in-class activity)\n",
    "- Completion of the homework\n",
    "- Extra credit if you complete a College Board FRQ involving arrays/ArrayLists\n",
    "\n",
    "Complete the hacks/homework on your personal fastpages. "
   ]
  },
  {
   "cell_type": "code",
   "execution_count": 14,
   "metadata": {
    "vscode": {
     "languageId": "java"
    }
   },
   "outputs": [
    {
     "name": "stdout",
     "output_type": "stream",
     "text": [
      "Sahil \n",
      "Samuel \n",
      "Everitt \n",
      "\n",
      "Nathan \n",
      "Samuel \n",
      "Everitt \n",
      "\n",
      "Everitt \n",
      "Nathan \n",
      "Samuel \n"
     ]
    }
   ],
   "source": [
    "import java.util.ArrayList;\n",
    "\n",
    "public class Seating {\n",
    "    public ArrayList<String> chart;\n",
    "\n",
    "    public Seating() {\n",
    "        chart  = new ArrayList<String>();\n",
    "    }\n",
    "\n",
    "    public void add (String name) {\n",
    "        chart.add(name);\n",
    "    }\n",
    "\n",
    "    public void replace (int index, String newName) {\n",
    "        chart.set(index, newName);\n",
    "    }\n",
    "\n",
    "    public void alphabetize() {\n",
    "        int length = chart.size();\n",
    "        for (int i = 0; i<length - 1; i++) {\n",
    "            for (int j = i + 1; j < length; j++) {\n",
    "                if (chart.get(i).compareTo(chart.get(j)) > 0) {\n",
    "                    String temp = chart.get(j);\n",
    "                    chart.set(j, chart.get(i));\n",
    "                    chart.set(i, temp);\n",
    "                }\n",
    "            }\n",
    "        }\n",
    "    }\n",
    "\n",
    "    public void print() {\n",
    "        int length = chart.size();\n",
    "        for (int i = 0; i < length; i++) {\n",
    "            System.out.println(chart.get(i) + \" \");\n",
    "        }\n",
    "    }\n",
    "\n",
    "    public static void main (String[] args) {\n",
    "        Seating seating = new Seating();\n",
    "        seating.add(\"Sahil\");\n",
    "        seating.add(\"Samuel\");\n",
    "        seating.add(\"Everitt\");\n",
    "        seating.print();\n",
    "        seating.replace(0, \"Nathan\");\n",
    "        System.out.println();\n",
    "        seating.print();\n",
    "        seating.alphabetize();\n",
    "        System.out.println();\n",
    "        seating.print();\n",
    "    }\n",
    "}\n",
    "Seating.main(null);"
   ]
  },
  {
   "cell_type": "code",
   "execution_count": null,
   "metadata": {
    "vscode": {
     "languageId": "java"
    }
   },
   "outputs": [],
   "source": []
  }
 ],
 "metadata": {
  "kernelspec": {
   "display_name": "Java",
   "language": "java",
   "name": "java"
  },
  "language_info": {
   "codemirror_mode": "java",
   "file_extension": ".jshell",
   "mimetype": "text/x-java-source",
   "name": "Java",
   "pygments_lexer": "java",
   "version": "18.0.2+9-61"
  }
 },
 "nbformat": 4,
 "nbformat_minor": 2
}
