{
 "cells": [
  {
   "cell_type": "code",
   "execution_count": 8,
   "metadata": {
    "vscode": {
     "languageId": "java"
    }
   },
   "outputs": [
    {
     "name": "stdout",
     "output_type": "stream",
     "text": [
      "House 1 bedrooms: 0\n",
      "House 2 bedrooms: 4\n"
     ]
    }
   ],
   "source": [
    "// Definition of class\n",
    "public class house { \n",
    "    private int bedrooms;\n",
    "    private int bathrooms;\n",
    "    private int sqft;\n",
    "    private float age;\n",
    "    private String location;\n",
    "\n",
    "    // Constructor called with no parameters. Different from class definition because it's missing the \"class\" keyword.\n",
    "    public house() {\n",
    "        // Constructor uses a non static setter method to assign the variable values of the class.\n",
    "        this.setHouse(0, 0, 0, 0, \"-1\");\n",
    "    }\n",
    "\n",
    "    // Constructor called when parameters are given in creation of the object.\n",
    "    public house(int bedrooms, int bathrooms, int sqft, float age, String location) {\n",
    "        this.setHouse(bedrooms, bathrooms, sqft, age, location);\n",
    "    }\n",
    "\n",
    "    // Non static setter method sets the values of the variables in the object.\n",
    "    public void setHouse(int bedrooms, int bathrooms, int sqft, float age, String location) {\n",
    "        this.bedrooms = bedrooms;\n",
    "        this.bathrooms = bathrooms;\n",
    "        this.sqft = sqft;\n",
    "        this.age = age;\n",
    "        this.location = location;\n",
    "    }\n",
    "\n",
    "    // Non static getter method returns the number of bedrooms in the house object.\n",
    "    public int getter() {\n",
    "        return this.bedrooms;\n",
    "    }\n",
    "\n",
    "    public static void main(String[] args) {\n",
    "        // Creating two instances of the house class. \n",
    "        house house1 = new house();\n",
    "        house house2 = new house(4, 4, 3000, 5, \"Zimbabwe\");\n",
    "        System.out.println(\"House 1 bedrooms: \" + house1.getter());\n",
    "        System.out.println(\"House 2 bedrooms: \" + house2.getter());\n",
    "    }\n",
    "}\n",
    "\n",
    "house.main(null);"
   ]
  },
  {
   "cell_type": "code",
   "execution_count": null,
   "metadata": {
    "vscode": {
     "languageId": "java"
    }
   },
   "outputs": [],
   "source": []
  }
 ],
 "metadata": {
  "kernelspec": {
   "display_name": "Java",
   "language": "java",
   "name": "java"
  },
  "language_info": {
   "codemirror_mode": "java",
   "file_extension": ".jshell",
   "mimetype": "text/x-java-source",
   "name": "Java",
   "pygments_lexer": "java",
   "version": "18.0.2+9-61"
  },
  "orig_nbformat": 4
 },
 "nbformat": 4,
 "nbformat_minor": 2
}
