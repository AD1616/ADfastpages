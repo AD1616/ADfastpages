{
 "cells": [
  {
   "cell_type": "markdown",
   "metadata": {},
   "source": [
    "# Unit 1 Video Hacks\n",
    "> Java hacks from Unit 1 Video\n",
    "\n",
    "- title: Unit 1 Video Hacks\n",
    "- toc: true\n",
    "- comments: true\n",
    "- categories: [cb]"
   ]
  },
  {
   "cell_type": "markdown",
   "metadata": {},
   "source": [
    "### Hack 1.1"
   ]
  },
  {
   "cell_type": "code",
   "execution_count": 2,
   "metadata": {
    "vscode": {
     "languageId": "java"
    }
   },
   "outputs": [
    {
     "name": "stdout",
     "output_type": "stream",
     "text": [
      "Sahil\n",
      "Nathan\n",
      "Kurtis\n",
      "Rohit\n"
     ]
    }
   ],
   "source": [
    "public class Printing {\n",
    "    public static void main (String[] args) {\n",
    "        System.out.println(\"Sahil\");\n",
    "        System.out.println(\"Nathan\");\n",
    "        System.out.println(\"Kurtis\");\n",
    "        System.out.println(\"Rohit\");\n",
    "    }\n",
    "}\n",
    "\n",
    "Printing.main(null);"
   ]
  },
  {
   "cell_type": "markdown",
   "metadata": {},
   "source": [
    "### Hack 1.2"
   ]
  },
  {
   "cell_type": "code",
   "execution_count": 4,
   "metadata": {
    "vscode": {
     "languageId": "java"
    }
   },
   "outputs": [
    {
     "name": "stdout",
     "output_type": "stream",
     "text": [
      "Sahil\n",
      "17\n",
      "false\n",
      "6.0\n"
     ]
    }
   ],
   "source": [
    "public class Biodata {\n",
    "    public static void main(String[] args) {\n",
    "        String name = \"Sahil\";\n",
    "        int age = 17;\n",
    "        boolean underclassmen = false;\n",
    "        float height = 6;\n",
    "\n",
    "        System.out.println(name);\n",
    "        System.out.println(age);\n",
    "        System.out.println(underclassmen);\n",
    "        System.out.println(height);\n",
    "    }\n",
    "}\n",
    "\n",
    "Biodata.main(null);"
   ]
  },
  {
   "cell_type": "markdown",
   "metadata": {},
   "source": [
    "### Hack 1.3"
   ]
  },
  {
   "cell_type": "code",
   "execution_count": 5,
   "metadata": {
    "vscode": {
     "languageId": "java"
    }
   },
   "outputs": [
    {
     "name": "stdout",
     "output_type": "stream",
     "text": [
      "-7993.57\n"
     ]
    }
   ],
   "source": [
    "public class Num {\n",
    "\n",
    "    public static void main(String[] args) {\n",
    "        double num = (6 * 1234124 / 11345 - 890809 + 90800) % 980098;\n",
    "        num = num / 100;\n",
    "        System.out.println(num);\n",
    "    }\n",
    "}\n",
    "\n",
    "Num.main(null);"
   ]
  },
  {
   "cell_type": "markdown",
   "metadata": {},
   "source": [
    "### Hack 1.4"
   ]
  },
  {
   "cell_type": "code",
   "execution_count": 7,
   "metadata": {
    "vscode": {
     "languageId": "java"
    }
   },
   "outputs": [
    {
     "name": "stdout",
     "output_type": "stream",
     "text": [
      "0\n"
     ]
    }
   ],
   "source": [
    "\n",
    "public class Operators {\n",
    "\n",
    "    public static void main(String[] args) {\n",
    "        int x = 0;\n",
    "        x += 5;\n",
    "        x -= 4;\n",
    "        x *= 20;\n",
    "        x /= 5;\n",
    "        x /= 2; \n",
    "        x %= 2;\n",
    "        x ++;\n",
    "        x --;\n",
    "        System.out.println(x);\n",
    "    }\n",
    "}\n",
    "\n",
    "Operators.main(null);"
   ]
  },
  {
   "cell_type": "markdown",
   "metadata": {},
   "source": [
    "### Hack 1.5"
   ]
  },
  {
   "cell_type": "code",
   "execution_count": 11,
   "metadata": {
    "vscode": {
     "languageId": "java"
    }
   },
   "outputs": [
    {
     "ename": "CompilationException",
     "evalue": "",
     "output_type": "error",
     "traceback": [
      "\u001b[1m\u001b[30m|   \u001b[1m\u001b[30m        int num2 = (int) \u001b[0m\u001b[1m\u001b[30m\u001b[41m\u001b[0m\u001b[1m\u001b[30m678901234567890;\u001b[0m",
      "\u001b[1m\u001b[31minteger number too large\u001b[0m",
      ""
     ]
    }
   ],
   "source": [
    "public class CastActivity {\n",
    "\n",
    "    public static void main(String[] args) {\n",
    "        int num1 = (int) 123456.123456;\n",
    "        System.out.println(num1);\n",
    "        \n",
    "        int num2 = (int) 678901234567890;\n",
    "        System.out.println(num2);\n",
    "\n",
    "    }\n",
    "}\n",
    "\n",
    "CastActivity.main(null);"
   ]
  },
  {
   "cell_type": "code",
   "execution_count": null,
   "metadata": {
    "vscode": {
     "languageId": "java"
    }
   },
   "outputs": [],
   "source": []
  }
 ],
 "metadata": {
  "kernelspec": {
   "display_name": "Java",
   "language": "java",
   "name": "java"
  },
  "language_info": {
   "codemirror_mode": "java",
   "file_extension": ".jshell",
   "mimetype": "text/x-java-source",
   "name": "Java",
   "pygments_lexer": "java",
   "version": "18.0.2+9-61"
  },
  "orig_nbformat": 4,
  "vscode": {
   "interpreter": {
    "hash": "aee8b7b246df8f9039afb4144a1f6fd8d2ca17a180786b69acc140d282b71a49"
   }
  }
 },
 "nbformat": 4,
 "nbformat_minor": 2
}
