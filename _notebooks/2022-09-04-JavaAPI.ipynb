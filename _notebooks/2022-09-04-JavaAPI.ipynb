{
 "cells": [
  {
   "cell_type": "markdown",
   "metadata": {},
   "source": [
    "# Java API\n",
    "> Primitive Java API work.\n",
    "\n",
    "- title: Java API\n",
    "- toc: true\n",
    "- comments: true\n",
    "- categories: [java]"
   ]
  },
  {
   "cell_type": "code",
   "execution_count": 2,
   "metadata": {
    "vscode": {
     "languageId": "java"
    }
   },
   "outputs": [
    {
     "name": "stdout",
     "output_type": "stream",
     "text": [
      "{\"status\":\"success\",\"message\":\"Data fetched successfully\",\"data\":[{\"Profile\":\"https://dbkpop.com/idol/jungkook-bts/\",\"Stage Name\":\"Jungkook\",\"Full Name\":\"Jeon Jungkook\",\"Korean Name\":\"전정국\",\"K. Stage Name\":\"정국\",\"Date of Birth\":\"1997-09-01\",\"Group\":\"BTS\",\"Country\":\"South Korea\",\"Second Country\":null,\"Height\":\"178\",\"Weight\":\"66\",\"Birthplace\":\"Busan\",\"Other Group\":null,\"Former Group\":null,\"Gender\":\"M\",\"Position\":null,\"Instagram\":null,\"Twitter\":null}],\"count\":1}\n"
     ]
    }
   ],
   "source": [
    "import java.net.URI;\n",
    "import java.net.http.HttpClient;\n",
    "import java.net.http.HttpRequest;\n",
    "import java.net.http.HttpResponse;\n",
    "\n",
    "HttpRequest request = HttpRequest.newBuilder()\n",
    "\t\t.uri(URI.create(\"https://k-pop.p.rapidapi.com/idols?q=Jungkook&by=Stage%20Name\"))\n",
    "\t\t.header(\"X-RapidAPI-Key\", \"df17610e35msh51d75ac58fb44f9p14c5f0jsn7d95a150e08b\")\n",
    "\t\t.header(\"X-RapidAPI-Host\", \"k-pop.p.rapidapi.com\")\n",
    "\t\t.method(\"GET\", HttpRequest.BodyPublishers.noBody())\n",
    "\t\t.build();\n",
    "HttpResponse<String> response = HttpClient.newHttpClient().send(request, HttpResponse.BodyHandlers.ofString());\n",
    "System.out.println(response.body());"
   ]
  },
  {
   "cell_type": "code",
   "execution_count": null,
   "metadata": {
    "vscode": {
     "languageId": "java"
    }
   },
   "outputs": [],
   "source": []
  }
 ],
 "metadata": {
  "kernelspec": {
   "display_name": "Java",
   "language": "java",
   "name": "java"
  },
  "language_info": {
   "codemirror_mode": "java",
   "file_extension": ".jshell",
   "mimetype": "text/x-java-source",
   "name": "Java",
   "pygments_lexer": "java",
   "version": "18.0.2+9-61"
  },
  "orig_nbformat": 4
 },
 "nbformat": 4,
 "nbformat_minor": 2
}
