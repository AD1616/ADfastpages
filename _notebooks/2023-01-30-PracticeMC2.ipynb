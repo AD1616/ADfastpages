{
 "cells": [
  {
   "cell_type": "markdown",
   "id": "62289509",
   "metadata": {},
   "source": [
    "# 52 Question Practice MC\n",
    "> Second full AP style practice exam.\n",
    "\n",
    "- title: 52 Question Practice MC\n",
    "- toc: true\n",
    "- comments: true\n",
    "- categories: [cb]"
   ]
  },
  {
   "cell_type": "markdown",
   "id": "1639cb48",
   "metadata": {},
   "source": [
    "# Final Score\n",
    "\n",
    "I scored a 40/52. "
   ]
  },
  {
   "cell_type": "markdown",
   "id": "e8e939e3",
   "metadata": {},
   "source": [
    "# Corrections"
   ]
  },
  {
   "cell_type": "markdown",
   "id": "373ef6b2",
   "metadata": {},
   "source": [
    "### Q1 2D array bounds error\n",
    "\n",
    "Should be after 8, since it would try to access 10 elements of the first column when there are only 8."
   ]
  },
  {
   "cell_type": "markdown",
   "id": "efb277ee",
   "metadata": {},
   "source": [
    "### Q3 2D array with multi-way selection\n",
    "\n",
    "I picked the wrong answer choice."
   ]
  },
  {
   "cell_type": "markdown",
   "id": "da02e611",
   "metadata": {},
   "source": [
    "### Q7 combine method\n",
    "\n",
    "Too hasty. Last number should have been 0."
   ]
  },
  {
   "cell_type": "markdown",
   "id": "c81ef194",
   "metadata": {},
   "source": [
    "### Q11 concat one two zee\n",
    "\n",
    "Integers can concatenate with strings, but if it is int + int + str, then the integers actually get added before being concatenated with the string. "
   ]
  },
  {
   "cell_type": "markdown",
   "id": "1bd1a493",
   "metadata": {},
   "source": [
    "### Q23 listOfWords List and wordsWithCommas method\n",
    "\n",
    "For a list, don't subtract one from the size."
   ]
  },
  {
   "cell_type": "markdown",
   "id": "5aff9001",
   "metadata": {},
   "source": [
    "### Q29 Olympics concat\n",
    "\n",
    "Didn't know that the word \"true\" doesn't need quotes around it. String literals will be concatenated. "
   ]
  },
  {
   "cell_type": "markdown",
   "id": "194dcdfc",
   "metadata": {},
   "source": [
    "### Q32 print values from ArrayList data\n",
    "\n",
    "Not sure why I got this one wrong. Makes sense now."
   ]
  },
  {
   "cell_type": "markdown",
   "id": "1338a8cd",
   "metadata": {},
   "source": [
    "### Q33 Print values in 2D int array\n",
    "\n",
    "Row and column length was flipped on the answer I picked."
   ]
  },
  {
   "cell_type": "markdown",
   "id": "27b195d8",
   "metadata": {},
   "source": []
  },
  {
   "cell_type": "markdown",
   "id": "0464e570",
   "metadata": {},
   "source": [
    "### Q35 print values while traversing ArrayList numbers\n",
    "\n",
    "It's printing the index! Not the value!"
   ]
  },
  {
   "cell_type": "markdown",
   "id": "47889b58",
   "metadata": {},
   "source": [
    "### Q40 Remove names from a List\n",
    "\n",
    "II does not work; it would miss the last element."
   ]
  },
  {
   "cell_type": "markdown",
   "id": "b549926d",
   "metadata": {},
   "source": [
    "### Q45 strArrMethod - last day of the school year\n",
    "\n",
    "Updates for \"day\", \"of\", \"of\", \"year\", respectfully. I just counted the iterations."
   ]
  },
  {
   "cell_type": "markdown",
   "id": "6776bf76",
   "metadata": {},
   "source": [
    "### Q49 sum some 2D array elements\n",
    "\n",
    "Didn't notice that the last column wasn't added."
   ]
  },
  {
   "cell_type": "code",
   "execution_count": null,
   "id": "21ae2397",
   "metadata": {},
   "outputs": [],
   "source": []
  }
 ],
 "metadata": {
  "kernelspec": {
   "display_name": "Java",
   "language": "java",
   "name": "java"
  },
  "language_info": {
   "codemirror_mode": "java",
   "file_extension": ".jshell",
   "mimetype": "text/x-java-source",
   "name": "Java",
   "pygments_lexer": "java",
   "version": "18.0.2+9-61"
  }
 },
 "nbformat": 4,
 "nbformat_minor": 5
}
