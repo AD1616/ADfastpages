{
 "cells": [
  {
   "cell_type": "markdown",
   "metadata": {},
   "source": [
    "# Unit 3 Work\n",
    "> Unit 3 CB\n",
    "\n",
    "- title: Unit 3 Work\n",
    "- toc: true\n",
    "- comments: true\n",
    "- categories: [java]"
   ]
  },
  {
   "cell_type": "markdown",
   "metadata": {},
   "source": [
    "# Hack 1"
   ]
  },
  {
   "cell_type": "code",
   "execution_count": 4,
   "metadata": {
    "vscode": {
     "languageId": "java"
    }
   },
   "outputs": [
    {
     "name": "stdout",
     "output_type": "stream",
     "text": [
      "5.0\n"
     ]
    }
   ],
   "source": [
    "public class WhileLoops {\n",
    "    public double money = 0;\n",
    "    public double profit = 5450000;\n",
    "    public double goal = 30000000;\n",
    "    public double years = 0;\n",
    "\n",
    "    public void Calc() {\n",
    "        while (this.money < this.goal) {\n",
    "            this.money = this.money + this.profit;\n",
    "            this.profit = this.profit * 1.05;\n",
    "            this.years = this.years + 1;\n",
    "        }\n",
    "        System.out.println(this.years);\n",
    "    }\n",
    "\n",
    "    public static void main(String[] args) {\n",
    "        WhileLoops obj = new WhileLoops();\n",
    "        obj.Calc();\n",
    "    }\n",
    "}\n",
    "\n",
    "WhileLoops.main(null);"
   ]
  },
  {
   "cell_type": "markdown",
   "metadata": {},
   "source": [
    "# Hack 2"
   ]
  },
  {
   "cell_type": "code",
   "execution_count": 16,
   "metadata": {
    "vscode": {
     "languageId": "java"
    }
   },
   "outputs": [
    {
     "name": "stdout",
     "output_type": "stream",
     "text": [
      "Numbers 10-15\n",
      "10\n",
      "11\n",
      "12\n",
      "13\n",
      "14\n",
      "15\n",
      "Convert temperature\n",
      "0c -> 273.15k\n",
      "10c -> 283.15k\n",
      "20c -> 293.15k\n",
      "30c -> 303.15k\n",
      "40c -> 313.15k\n",
      "50c -> 323.15k\n",
      "60c -> 333.15k\n",
      "70c -> 343.15k\n",
      "80c -> 353.15k\n",
      "90c -> 363.15k\n",
      "100c -> 373.15k\n"
     ]
    }
   ],
   "source": [
    "public class ForLoops {\n",
    "    public double temp = 0;\n",
    "    public void Calc() {\n",
    "        System.out.println(\"Numbers 10-15\");\n",
    "        for (int x = 10; x <= 15; x++) {\n",
    "            System.out.println(x);\n",
    "        }\n",
    "        \n",
    "        System.out.println(\"Convert temperature\");\n",
    "        for (int x = 0; x<=100; x+=10) {\n",
    "            temp = 0;\n",
    "            temp = x + 273.15;\n",
    "            System.out.println(x + \"c -> \" + temp + \"k\");\n",
    "        }\n",
    "    }\n",
    "\n",
    "    public static void main(String[] args) {\n",
    "        ForLoops obj = new ForLoops();\n",
    "        obj.Calc();\n",
    "\n",
    "    }\n",
    "}\n",
    "\n",
    "ForLoops.main(null);"
   ]
  },
  {
   "cell_type": "code",
   "execution_count": null,
   "metadata": {
    "vscode": {
     "languageId": "java"
    }
   },
   "outputs": [],
   "source": []
  }
 ],
 "metadata": {
  "kernelspec": {
   "display_name": "Java",
   "language": "java",
   "name": "java"
  },
  "language_info": {
   "codemirror_mode": "java",
   "file_extension": ".jshell",
   "mimetype": "text/x-java-source",
   "name": "Java",
   "pygments_lexer": "java",
   "version": "18.0.2+9-61"
  },
  "orig_nbformat": 4
 },
 "nbformat": 4,
 "nbformat_minor": 2
}
