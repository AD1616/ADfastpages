{
 "cells": [
  {
   "cell_type": "markdown",
   "id": "40905c84",
   "metadata": {},
   "source": [
    "# CB Sorts\n",
    "> Sorts for Collegeboard\n",
    "\n",
    "- title: CB Sorts\n",
    "- toc: true\n",
    "- comments: true\n",
    "- categories: [tri3]"
   ]
  },
  {
   "cell_type": "markdown",
   "id": "36f5ee28",
   "metadata": {},
   "source": [
    "## Selection Sort"
   ]
  },
  {
   "cell_type": "code",
   "execution_count": 12,
   "id": "59187205",
   "metadata": {
    "scrolled": true
   },
   "outputs": [
    {
     "name": "stdout",
     "output_type": "stream",
     "text": [
      "**** Original Array ****\n",
      "5 1 4 3 7 2 \n",
      "\n",
      "**** Sorted Array ****\n",
      "1 2 3 4 5 7 "
     ]
    }
   ],
   "source": [
    "public class SelectionSort {\n",
    "    public static void sort(int[] nums) {\n",
    "        for(int i=0; i<nums.length; i++) {\n",
    "            int min = nums[i];\n",
    "            int minIndex = i;\n",
    "            for (int j=i+1; j<nums.length; j++) {\n",
    "                if (nums[j] < min) {\n",
    "                    min = nums[j];\n",
    "                    minIndex = j;\n",
    "                }\n",
    "            }\n",
    "            int temp = nums[i];\n",
    "            nums[i] = min;\n",
    "            nums[minIndex] = temp;\n",
    "        }\n",
    "    }\n",
    "    public static void main(String[] args) {\n",
    "        int[] test = new int[] { 5, 1, 4, 3, 7, 2};\n",
    "        \n",
    "        System.out.println(\"**** Original Array ****\");\n",
    "        \n",
    "        for (int i=0; i<test.length; i++) {\n",
    "            System.out.print(test[i] + \" \");\n",
    "        }\n",
    "        \n",
    "        System.out.println();\n",
    "        System.out.println();\n",
    "        \n",
    "        sort(test);\n",
    "        \n",
    "        System.out.println(\"**** Sorted Array ****\");\n",
    "        \n",
    "        for (int i=0; i<test.length; i++) {\n",
    "            System.out.print(test[i] + \" \");\n",
    "        }\n",
    "        \n",
    "        \n",
    "        \n",
    "    }\n",
    "}\n",
    "SelectionSort.main(null);"
   ]
  },
  {
   "cell_type": "markdown",
   "id": "b918f7e6",
   "metadata": {},
   "source": [
    "## Insertion Sort"
   ]
  },
  {
   "cell_type": "code",
   "execution_count": 20,
   "id": "922fdbdc",
   "metadata": {},
   "outputs": [
    {
     "name": "stdout",
     "output_type": "stream",
     "text": [
      "**** Original Array ****\n",
      "5 1 4 3 7 2 \n",
      "\n",
      "**** Sorted Array ****\n",
      "1 2 3 4 5 7 "
     ]
    }
   ],
   "source": [
    "public class InsertionSort {\n",
    "    public static void sort(int[] nums) {\n",
    "        for(int i=0; i<nums.length-1; i++) {\n",
    "            for (int j=i+1; j>0; j--) {\n",
    "                if (nums[j] < nums[j-1]) {\n",
    "                    int temp = nums[j-1];\n",
    "                    nums[j-1] = nums[j];\n",
    "                    nums[j] = temp;\n",
    "                }\n",
    "            }\n",
    "\n",
    "        }\n",
    "    }\n",
    "    \n",
    "    public static void main(String[] args) {\n",
    "        int[] test = new int[] { 5, 1, 4, 3, 7, 2};\n",
    "        \n",
    "        System.out.println(\"**** Original Array ****\");\n",
    "        \n",
    "        for (int i=0; i<test.length; i++) {\n",
    "            System.out.print(test[i] + \" \");\n",
    "        }\n",
    "        \n",
    "        System.out.println();\n",
    "        System.out.println();\n",
    "        \n",
    "        sort(test);\n",
    "        \n",
    "        System.out.println(\"**** Sorted Array ****\");\n",
    "        \n",
    "        for (int i=0; i<test.length; i++) {\n",
    "            System.out.print(test[i] + \" \");\n",
    "        }\n",
    "        \n",
    "        \n",
    "        \n",
    "    }\n",
    "}\n",
    "InsertionSort.main(null);"
   ]
  },
  {
   "cell_type": "markdown",
   "id": "aea6e7e4",
   "metadata": {},
   "source": [
    "## Merge Sort"
   ]
  },
  {
   "cell_type": "markdown",
   "id": "0dd451dc",
   "metadata": {},
   "source": [
    "Illustrated this week with Queues in the Generics and Collections notebook. In the future, I'll add a simple Java implementation."
   ]
  },
  {
   "cell_type": "code",
   "execution_count": null,
   "id": "17b813db",
   "metadata": {},
   "outputs": [],
   "source": []
  }
 ],
 "metadata": {
  "kernelspec": {
   "display_name": "Java",
   "language": "java",
   "name": "java"
  },
  "language_info": {
   "codemirror_mode": "java",
   "file_extension": ".jshell",
   "mimetype": "text/x-java-source",
   "name": "Java",
   "pygments_lexer": "java",
   "version": "18.0.2+9-61"
  }
 },
 "nbformat": 4,
 "nbformat_minor": 5
}
