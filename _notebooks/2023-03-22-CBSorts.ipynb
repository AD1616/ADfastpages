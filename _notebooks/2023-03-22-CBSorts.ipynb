{
 "cells": [
  {
   "cell_type": "markdown",
   "id": "40905c84",
   "metadata": {},
   "source": [
    "# CB Sorts\n",
    "> Sorts for Collegeboard\n",
    "\n",
    "- title: CB Sorts\n",
    "- toc: true\n",
    "- comments: true\n",
    "- categories: [tri3]"
   ]
  },
  {
   "cell_type": "markdown",
   "id": "36f5ee28",
   "metadata": {},
   "source": [
    "## Selection Sort"
   ]
  },
  {
   "cell_type": "code",
   "execution_count": 31,
   "id": "59187205",
   "metadata": {
    "scrolled": true
   },
   "outputs": [
    {
     "name": "stdout",
     "output_type": "stream",
     "text": [
      "**** Original Array ****\n",
      "5 1 4 3 7 2 \n",
      "\n",
      "**** Sorted Array ****\n",
      "1 2 3 4 5 7 "
     ]
    }
   ],
   "source": [
    "public class SelectionSort {\n",
    "    public int countCompare = 0;\n",
    "    public int countSwap = 0;\n",
    "    \n",
    "    public void sort(int[] nums) {\n",
    "        for(int i=0; i<nums.length; i++) {\n",
    "            int min = nums[i];\n",
    "            int minIndex = i;\n",
    "            for (int j=i+1; j<nums.length; j++) {\n",
    "                countCompare = countCompare + 1;\n",
    "                if (nums[j] < min) {\n",
    "                    min = nums[j];\n",
    "                    minIndex = j;\n",
    "                }\n",
    "            }\n",
    "            countSwap = countSwap + 1;\n",
    "            int temp = nums[i];\n",
    "            nums[i] = min;\n",
    "            nums[minIndex] = temp;\n",
    "        }\n",
    "    }\n",
    "    \n",
    "    public int getCountCompares() {\n",
    "        return this.countCompare;\n",
    "    }\n",
    "    \n",
    "    public int getCountSwaps() {\n",
    "        return this.countSwap;\n",
    "    }\n",
    "    \n",
    "    public void setCountCompare(int count) {\n",
    "        this.countCompare = count;\n",
    "    }\n",
    "    \n",
    "    public void setCountSwap(int count) {\n",
    "        this.countSwap = count;\n",
    "    }\n",
    "    \n",
    "    public static void main(String[] args) {\n",
    "        int[] test = new int[] { 5, 1, 4, 3, 7, 2};\n",
    "        \n",
    "        System.out.println(\"**** Original Array ****\");\n",
    "        \n",
    "        for (int i=0; i<test.length; i++) {\n",
    "            System.out.print(test[i] + \" \");\n",
    "        }\n",
    "        \n",
    "        System.out.println();\n",
    "        System.out.println();\n",
    "        \n",
    "        SelectionSort ss = new SelectionSort();\n",
    "        \n",
    "        ss.sort(test);\n",
    "        \n",
    "        System.out.println(\"**** Sorted Array ****\");\n",
    "        \n",
    "        for (int i=0; i<test.length; i++) {\n",
    "            System.out.print(test[i] + \" \");\n",
    "        }\n",
    "        \n",
    "        \n",
    "        \n",
    "    }\n",
    "}\n",
    "SelectionSort.main(null);"
   ]
  },
  {
   "cell_type": "markdown",
   "id": "b918f7e6",
   "metadata": {},
   "source": [
    "## Insertion Sort"
   ]
  },
  {
   "cell_type": "code",
   "execution_count": 32,
   "id": "922fdbdc",
   "metadata": {},
   "outputs": [
    {
     "name": "stdout",
     "output_type": "stream",
     "text": [
      "**** Original Array ****\n",
      "5 1 4 3 7 2 \n",
      "\n",
      "**** Sorted Array ****\n",
      "1 2 3 4 5 7 "
     ]
    }
   ],
   "source": [
    "public class InsertionSort {\n",
    "    public int countCompare = 0;\n",
    "    public int countSwap = 0;\n",
    "    \n",
    "    public void sort(int[] nums) {\n",
    "        for(int i=0; i<nums.length-1; i++) {\n",
    "            for (int j=i+1; j>0; j--) {\n",
    "                countCompare = countCompare + 1;\n",
    "\n",
    "                if (nums[j] < nums[j-1]) {\n",
    "                    countSwap = countSwap + 1;\n",
    "                    int temp = nums[j-1];\n",
    "                    nums[j-1] = nums[j];\n",
    "                    nums[j] = temp;\n",
    "                }\n",
    "            }\n",
    "\n",
    "        }\n",
    "    }\n",
    "    \n",
    "    public int getCountCompares() {\n",
    "        return this.countCompare;\n",
    "    }\n",
    "    \n",
    "    public int getCountSwaps() {\n",
    "        return this.countSwap;\n",
    "    }\n",
    "    \n",
    "    public void setCountCompare(int count) {\n",
    "        this.countCompare = count;\n",
    "    }\n",
    "    \n",
    "    public void setCountSwap(int count) {\n",
    "        this.countSwap = count;\n",
    "    }\n",
    "\n",
    "    \n",
    "    \n",
    "    public static void main(String[] args) {\n",
    "        int[] test = new int[] { 5, 1, 4, 3, 7, 2};\n",
    "        \n",
    "        System.out.println(\"**** Original Array ****\");\n",
    "        \n",
    "        for (int i=0; i<test.length; i++) {\n",
    "            System.out.print(test[i] + \" \");\n",
    "        }\n",
    "        \n",
    "        System.out.println();\n",
    "        System.out.println();\n",
    "        \n",
    "        InsertionSort is = new InsertionSort();\n",
    "        \n",
    "        is.sort(test);\n",
    "        \n",
    "        System.out.println(\"**** Sorted Array ****\");\n",
    "        \n",
    "        for (int i=0; i<test.length; i++) {\n",
    "            System.out.print(test[i] + \" \");\n",
    "        }\n",
    "        \n",
    "        \n",
    "        \n",
    "    }\n",
    "}\n",
    "InsertionSort.main(null);"
   ]
  },
  {
   "cell_type": "markdown",
   "id": "05ffd441",
   "metadata": {},
   "source": [
    "### Testing"
   ]
  },
  {
   "cell_type": "code",
   "execution_count": 33,
   "id": "c41b0e2f",
   "metadata": {},
   "outputs": [],
   "source": [
    "public class Stats {\n",
    "    public int compares;\n",
    "    public int swaps;\n",
    "    \n",
    "    public Stats(int compare, int swap) {\n",
    "        this.compares = compare; \n",
    "        this.swaps = swap;\n",
    "    }\n",
    "    \n",
    "    public int getCompares() {\n",
    "        return this.compares;\n",
    "    }\n",
    "    \n",
    "    public int getSwaps() {\n",
    "        return this.swaps;\n",
    "    }\n",
    "\n",
    "    \n",
    "}"
   ]
  },
  {
   "cell_type": "code",
   "execution_count": 39,
   "id": "9b611c68",
   "metadata": {},
   "outputs": [
    {
     "name": "stdout",
     "output_type": "stream",
     "text": [
      "Insertion Sort\n",
      "0 has 12497500 compares and 6285958 swaps.\n",
      "1 has 12497500 compares and 6307070 swaps.\n",
      "2 has 12497500 compares and 6261667 swaps.\n",
      "3 has 12497500 compares and 6187305 swaps.\n",
      "4 has 12497500 compares and 6246220 swaps.\n",
      "5 has 12497500 compares and 6169827 swaps.\n",
      "6 has 12497500 compares and 6212452 swaps.\n",
      "7 has 12497500 compares and 6187577 swaps.\n",
      "8 has 12497500 compares and 6217424 swaps.\n",
      "9 has 12497500 compares and 6205099 swaps.\n",
      "10 has 12497500 compares and 6275931 swaps.\n",
      "11 has 12497500 compares and 6222418 swaps.\n",
      "Average Compares: 12497500\n",
      "Average Swaps: 6231579\n",
      "***************************************\n",
      "Selection Sort\n",
      "0 has 12497500 compares and 5000 swaps.\n",
      "1 has 12497500 compares and 5000 swaps.\n",
      "2 has 12497500 compares and 5000 swaps.\n",
      "3 has 12497500 compares and 5000 swaps.\n",
      "4 has 12497500 compares and 5000 swaps.\n",
      "5 has 12497500 compares and 5000 swaps.\n",
      "6 has 12497500 compares and 5000 swaps.\n",
      "7 has 12497500 compares and 5000 swaps.\n",
      "8 has 12497500 compares and 5000 swaps.\n",
      "9 has 12497500 compares and 5000 swaps.\n",
      "10 has 12497500 compares and 5000 swaps.\n",
      "11 has 12497500 compares and 5000 swaps.\n",
      "Average Compares: 12497500\n",
      "Average Swaps: 5000\n"
     ]
    }
   ],
   "source": [
    "import java.util.Random;\n",
    "import java.util.HashMap;\n",
    "\n",
    "public class TestSorts {\n",
    "    \n",
    "    public void print(HashMap<Integer, Stats> map, int averageCompares, int averageSwaps) {\n",
    "        for (int index: map.keySet()) {\n",
    "            Stats stat = map.get(index);\n",
    "            System.out.println(index + \" has \" + stat.getCompares() + \" compares and \" + stat.getSwaps() + \" swaps.\");\n",
    "        }\n",
    "        \n",
    "        System.out.println(\"Average Compares: \" + averageCompares);\n",
    "        System.out.println(\"Average Swaps: \" + averageSwaps);\n",
    "    }\n",
    "    \n",
    "    \n",
    "    public static void main(String[] args) {\n",
    "        HashMap<Integer, Stats> statsInsertion = new HashMap<>();\n",
    "        HashMap<Integer, Stats> statsSelection = new HashMap<>();\n",
    "        InsertionSort is = new InsertionSort();\n",
    "        SelectionSort ss = new SelectionSort();\n",
    "        TestSorts ts = new TestSorts();\n",
    "\n",
    "\n",
    "        Random rd = new Random(); \n",
    "        int[] arr = new int[5000];\n",
    "\n",
    "        int averageComparesInsertion = 0;\n",
    "        int averageSwapsInsertion = 0;\n",
    "        \n",
    "        for (int j = 0; j < 12; j++) {\n",
    "            for (int i = 0; i < arr.length; i++) {\n",
    "                arr[i] = rd.nextInt(); \n",
    "            }\n",
    "            \n",
    "            is.sort(arr);\n",
    "            \n",
    "            Stats stats = new Stats(is.getCountCompares(), is.getCountSwaps());\n",
    "            averageComparesInsertion += is.getCountCompares();\n",
    "            averageSwapsInsertion += is.getCountSwaps();\n",
    "            is.setCountCompare(0);\n",
    "            is.setCountSwap(0);\n",
    "            \n",
    "            statsInsertion.put(j, stats);\n",
    "            \n",
    "        }\n",
    "        \n",
    "        averageComparesInsertion = averageComparesInsertion / 12;\n",
    "        averageSwapsInsertion = averageSwapsInsertion / 12;\n",
    "                \n",
    "        \n",
    "        \n",
    "        System.out.println(\"Insertion Sort\");\n",
    "        \n",
    "        ts.print(statsInsertion, averageComparesInsertion, averageSwapsInsertion);\n",
    "        \n",
    "        System.out.println(\"***************************************\");\n",
    "        \n",
    "        int averageComparesSelection = 0;\n",
    "        int averageSwapsSelection = 0;\n",
    "        \n",
    "        for (int j = 0; j < 12; j++) {\n",
    "            for (int i = 0; i < arr.length; i++) {\n",
    "                arr[i] = rd.nextInt(); \n",
    "            }\n",
    "            \n",
    "            ss.sort(arr);\n",
    "            \n",
    "            Stats stats = new Stats(ss.getCountCompares(), ss.getCountSwaps());\n",
    "            averageComparesSelection += ss.getCountCompares();\n",
    "            averageSwapsSelection += ss.getCountSwaps();\n",
    "            ss.setCountCompare(0);\n",
    "            ss.setCountSwap(0);\n",
    "            \n",
    "            statsSelection.put(j, stats);\n",
    "            \n",
    "        }\n",
    "        \n",
    "        averageComparesSelection = averageComparesSelection / 12;\n",
    "        averageSwapsSelection = averageSwapsSelection / 12;\n",
    "        \n",
    "        System.out.println(\"Selection Sort\");\n",
    "\n",
    "        ts.print(statsSelection, averageComparesSelection, averageSwapsSelection);\n",
    "\n",
    "        \n",
    "\n",
    "        \n",
    "\n",
    "        \n",
    "    \n",
    "        \n",
    "\n",
    "\n",
    "    }\n",
    "}\n",
    "TestSorts.main(null);"
   ]
  },
  {
   "cell_type": "markdown",
   "id": "28951fa0",
   "metadata": {},
   "source": [
    "### Big O"
   ]
  },
  {
   "cell_type": "markdown",
   "id": "13094dae",
   "metadata": {},
   "source": [
    "For the two sorts above, we will analyze the worst case scenarios for Big O."
   ]
  },
  {
   "cell_type": "markdown",
   "id": "12b0267a",
   "metadata": {},
   "source": [
    "#### Selection Sort"
   ]
  },
  {
   "cell_type": "markdown",
   "id": "0ec9007c",
   "metadata": {},
   "source": [
    "In Selection Sort, the worst case scenario is when the entire unsorted sub array has to be iterated through every time. This means that for n elements, we first iterate through n, then n-1, then n-2, and so on. Since each iteration has only constant time operations, we can simply add these up to get n^2/2 + n/2. In Big O terms, this is O(n^2)."
   ]
  },
  {
   "cell_type": "markdown",
   "id": "9f566f92",
   "metadata": {},
   "source": [
    "#### Insertion Sort"
   ]
  },
  {
   "cell_type": "markdown",
   "id": "9f9d9c90",
   "metadata": {},
   "source": [
    "For Insertion Sort, it is a very similar scenario, except the worst case involved iterating through the sorted subarray. In other words, we first iterate through 1, then 2, then 3 terms, up to n. This yields the same sum of n^2/2 + n/2, and again this is O(n^2)."
   ]
  },
  {
   "cell_type": "markdown",
   "id": "ab151d49",
   "metadata": {},
   "source": [
    "### Overall"
   ]
  },
  {
   "cell_type": "markdown",
   "id": "a9c2872e",
   "metadata": {},
   "source": [
    "Based on Big O notation and number of compares and swaps, both of these sorting methods are similar in performance. More swaps have to be done with Insertion sort however. "
   ]
  },
  {
   "cell_type": "code",
   "execution_count": null,
   "id": "4d6e8c13",
   "metadata": {},
   "outputs": [],
   "source": []
  }
 ],
 "metadata": {
  "kernelspec": {
   "display_name": "Java",
   "language": "java",
   "name": "java"
  },
  "language_info": {
   "codemirror_mode": "java",
   "file_extension": ".jshell",
   "mimetype": "text/x-java-source",
   "name": "Java",
   "pygments_lexer": "java",
   "version": "18.0.2+9-61"
  }
 },
 "nbformat": 4,
 "nbformat_minor": 5
}
