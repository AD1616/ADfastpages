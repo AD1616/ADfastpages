{
 "cells": [
  {
   "cell_type": "markdown",
   "id": "cba87cf6",
   "metadata": {},
   "source": [
    "# Python Verify Environment\n",
    "> Python program that verifies the environment is proper for work.\n",
    "\n",
    "- title: Python Verify Environment\n",
    "- toc: true\n",
    "- comments: true\n",
    "- categories: [python]"
   ]
  },
  {
   "cell_type": "code",
   "execution_count": 1,
   "id": "f8a424bc",
   "metadata": {},
   "outputs": [],
   "source": [
    "import os"
   ]
  },
  {
   "cell_type": "code",
   "execution_count": 4,
   "id": "c637fe73",
   "metadata": {},
   "outputs": [
    {
     "name": "stdout",
     "output_type": "stream",
     "text": [
      "Enter conda package: jupyter\n",
      "# packages in environment at /Users/sahilsamar/opt/anaconda3/envs/myenv:\n",
      "#\n",
      "# Name                    Version                   Build  Channel\n",
      "jupyter                   1.0.0           py310hca03da5_8  \n",
      "jupyter_client            7.2.2           py310hca03da5_0  \n",
      "jupyter_console           6.4.3              pyhd3eb1b0_0  \n",
      "jupyter_core              4.10.0          py310hca03da5_0  \n",
      "jupyter_server            1.18.1          py310hca03da5_0  \n",
      "jupyterlab                3.4.4           py310hca03da5_0  \n",
      "jupyterlab_pygments       0.1.2                      py_0  \n",
      "jupyterlab_server         2.12.0          py310hca03da5_0  \n",
      "jupyterlab_widgets        1.0.0              pyhd3eb1b0_1  \n",
      "neo4jupyter               0.2.0                    pypi_0    pypi\n"
     ]
    },
    {
     "data": {
      "text/plain": [
       "0"
      ]
     },
     "execution_count": 4,
     "metadata": {},
     "output_type": "execute_result"
    }
   ],
   "source": [
    "package = input(\"Enter conda package: \")\n",
    "command = \"conda list \" + str(package)\n",
    "\n",
    "os.system(command)"
   ]
  },
  {
   "cell_type": "code",
   "execution_count": null,
   "id": "7a92e701",
   "metadata": {},
   "outputs": [],
   "source": []
  },
  {
   "cell_type": "code",
   "execution_count": null,
   "id": "e313b858",
   "metadata": {},
   "outputs": [],
   "source": []
  },
  {
   "cell_type": "code",
   "execution_count": null,
   "id": "1c71f23a",
   "metadata": {},
   "outputs": [],
   "source": []
  }
 ],
 "metadata": {
  "kernelspec": {
   "display_name": "Python 3 (ipykernel)",
   "language": "python",
   "name": "python3"
  },
  "language_info": {
   "codemirror_mode": {
    "name": "ipython",
    "version": 3
   },
   "file_extension": ".py",
   "mimetype": "text/x-python",
   "name": "python",
   "nbconvert_exporter": "python",
   "pygments_lexer": "ipython3",
   "version": "3.10.5"
  }
 },
 "nbformat": 4,
 "nbformat_minor": 5
}
