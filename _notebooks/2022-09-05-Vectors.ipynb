{
 "cells": [
  {
   "cell_type": "markdown",
   "metadata": {},
   "source": [
    "# Java Vectors\n",
    "> Implementing Vector Ops in Java\n",
    "\n",
    "- title: Java Vectors\n",
    "- toc: true\n",
    "- comments: true\n",
    "- categories: [java]"
   ]
  },
  {
   "cell_type": "code",
   "execution_count": 37,
   "metadata": {},
   "outputs": [
    {
     "name": "stdout",
     "output_type": "stream",
     "text": [
      "Vector 1: \n",
      "1\n",
      "2\n",
      "3\n",
      "Vector 2: \n",
      "4\n",
      "5\n",
      "6\n",
      "Dot Product: \n",
      "32\n"
     ]
    }
   ],
   "source": [
    "import java.util.ArrayList;\n",
    "public class Vectors {\n",
    "    public Vectors() {\n",
    "    }\n",
    "\n",
    "    ArrayList<Integer> vector1 = new ArrayList<Integer>();\n",
    "    ArrayList<Integer> vector2 = new ArrayList<Integer>();\n",
    "\n",
    "    public ArrayList default1() {\n",
    "        vector1.add(1);\n",
    "        vector1.add(2);\n",
    "        vector1.add(3);\n",
    "        return vector1;\n",
    "    }\n",
    "\n",
    "    public ArrayList default2() {\n",
    "        vector2.add(4);\n",
    "        vector2.add(5);\n",
    "        vector2.add(6);\n",
    "        return vector2;\n",
    "    }\n",
    "\n",
    "    public void printVectorContent(ArrayList<Integer> v1) {\n",
    "        for (int i : v1) {\n",
    "            System.out.println(i);\n",
    "        }\n",
    "    }\n",
    "\n",
    "    public int dot(ArrayList<Integer> v1, ArrayList<Integer> v2) {\n",
    "        int product = 0;\n",
    "        for (int i = 0; i < v1.size(); i++) {\n",
    "            product += v1.get(i) * v2.get(i);\n",
    "        }\n",
    "        return product;\n",
    "    }\n",
    "\n",
    "    public static void main(String[] args) {\n",
    "        Vectors test = new Vectors();\n",
    "        System.out.println(\"Vector 1: \");\n",
    "        test.printVectorContent(test.default1());\n",
    "        System.out.println(\"Vector 2: \");\n",
    "        test.printVectorContent(test.default2());\n",
    "        System.out.println(\"Dot Product: \");\n",
    "        System.out.println(test.dot(test.vector1, test.vector2));\n",
    "\n",
    "    }\n",
    "    \n",
    "}\n",
    "Vectors.main(null);"
   ]
  },
  {
   "cell_type": "code",
   "execution_count": null,
   "metadata": {},
   "outputs": [],
   "source": []
  }
 ],
 "metadata": {
  "kernelspec": {
   "display_name": "Java",
   "language": "java",
   "name": "java"
  },
  "language_info": {
   "codemirror_mode": "java",
   "file_extension": ".jshell",
   "mimetype": "text/x-java-source",
   "name": "java",
   "pygments_lexer": "java",
   "version": "18.0.2+9-61"
  },
  "orig_nbformat": 4,
  "vscode": {
   "interpreter": {
    "hash": "aee8b7b246df8f9039afb4144a1f6fd8d2ca17a180786b69acc140d282b71a49"
   }
  }
 },
 "nbformat": 4,
 "nbformat_minor": 2
}
