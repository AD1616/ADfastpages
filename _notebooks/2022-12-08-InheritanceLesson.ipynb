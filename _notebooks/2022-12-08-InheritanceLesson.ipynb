{
 "cells": [
  {
   "cell_type": "markdown",
   "metadata": {},
   "source": [
    "# Unit 9 - Inheritance\n",
    "> Unit 9 Lesson\n",
    "\n",
    "- toc: true \n",
    "- comments: true\n",
    "- categories: [cb]\n",
    "- title: Unit 9 - Inheritance"
   ]
  },
  {
   "cell_type": "markdown",
   "metadata": {},
   "source": [
    "# What is Inheritance, and why is it useful?\n",
    "\n",
    "Imagine you wanted to create a racing game. You would need a bunch of different cars-bugattis, lamborghinis, rolls royce. Each of these cars would have different features; they would have different fuel types, tires, and engines. A car like an Aston Martin would have a spoiler inside the car for aerodynamics. Lambos have cools doors for when you pull up to a race. But all of these cars would also have a lot in common; all cars have gear shifts, gas, breaks, and steering. \n",
    "\n",
    "We could model each car with its own class, with attributes and methods specific to each car. But we would find that we're repeating a lot of the same code over and over - it doesn't really make sense to redefine the methods for gas and breaks for every single car, when it will do the same thing.\n",
    "\n",
    "This is a great use case for inheritance. We can define a base \"Car Class\" that has the methods and attributes common to every car - steering methods, gas and break methods, and attributes like speed and miles per gallon. \n",
    "\n",
    "Each car will \"extend\" from this base class. This means that it \"inherits\" the methods and attributes in the base Car Class (this is why it's called **Inheritance**). But each of the new car classes, for example a Bugatti Class, will have its own special methods and attributes."
   ]
  },
  {
   "cell_type": "markdown",
   "metadata": {},
   "source": []
  },
  {
   "cell_type": "markdown",
   "metadata": {},
   "source": [
    "# SuperClasses and Subclasses with Cars"
   ]
  },
  {
   "cell_type": "markdown",
   "metadata": {},
   "source": [
    "### Let's first look at the base \"Car Class\" we talked about, with the generic methods all cars would have. This is called the **Super Class**.\n",
    "\n",
    "#### Some vocab: protected is so that the attribute isn't affected by outside modifiers."
   ]
  },
  {
   "cell_type": "code",
   "execution_count": null,
   "metadata": {},
   "outputs": [],
   "source": [
    "public class Car {\n",
    "    protected String carName;\n",
    "}"
   ]
  }
 ],
 "metadata": {
  "kernelspec": {
   "display_name": "Java",
   "language": "java",
   "name": "java"
  },
  "language_info": {
   "name": "java",
   "version": "3.10.5"
  },
  "orig_nbformat": 4,
  "vscode": {
   "interpreter": {
    "hash": "aee8b7b246df8f9039afb4144a1f6fd8d2ca17a180786b69acc140d282b71a49"
   }
  }
 },
 "nbformat": 4,
 "nbformat_minor": 2
}
