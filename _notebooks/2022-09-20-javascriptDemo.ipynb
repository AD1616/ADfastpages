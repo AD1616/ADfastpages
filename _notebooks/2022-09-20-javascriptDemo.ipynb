{
 "cells": [
  {
   "cell_type": "code",
   "execution_count": 1,
   "id": "1a822871",
   "metadata": {},
   "outputs": [
    {
     "name": "stdout",
     "output_type": "stream",
     "text": [
      "hello world\n"
     ]
    }
   ],
   "source": [
    "console.log(\"hello world\");"
   ]
  },
  {
   "cell_type": "code",
   "execution_count": 2,
   "id": "0ecc2ea9",
   "metadata": {},
   "outputs": [
    {
     "name": "stdout",
     "output_type": "stream",
     "text": [
      "hello\n"
     ]
    }
   ],
   "source": [
    "var msg = \"hello\";\n",
    "console.log(msg);"
   ]
  },
  {
   "cell_type": "code",
   "execution_count": 3,
   "id": "f9aaa53d",
   "metadata": {},
   "outputs": [
    {
     "name": "stdout",
     "output_type": "stream",
     "text": [
      "11\n"
     ]
    }
   ],
   "source": [
    "function add(x1, x2) {\n",
    "    var sum = x1 + x2;\n",
    "    console.log(sum);\n",
    "}\n",
    "\n",
    "add(5, 6);"
   ]
  },
  {
   "cell_type": "code",
   "execution_count": 4,
   "id": "13c7b3a7",
   "metadata": {},
   "outputs": [
    {
     "name": "stdout",
     "output_type": "stream",
     "text": [
      "56\n"
     ]
    }
   ],
   "source": [
    "add(19, 37);"
   ]
  },
  {
   "cell_type": "code",
   "execution_count": 4,
   "id": "0f6a00d0",
   "metadata": {},
   "outputs": [
    {
     "name": "stdout",
     "output_type": "stream",
     "text": [
      "string ; hello\n",
      "number ; 2020\n",
      "object ; [ 1, 2, 3 ]\n"
     ]
    }
   ],
   "source": [
    "function logItType(output) {\n",
    "    console.log(typeof output, \";\", output);\n",
    "}\n",
    "logItType(\"hello\"); \n",
    "logItType(2020);   \n",
    "logItType([1, 2, 3]);"
   ]
  },
  {
   "cell_type": "code",
   "execution_count": 2,
   "id": "b9af8091",
   "metadata": {},
   "outputs": [
    {
     "data": {
      "text/html": [
       "Hello World"
      ]
     },
     "execution_count": 2,
     "metadata": {},
     "output_type": "execute_result"
    }
   ],
   "source": [
    "var testHTML = \"Hello World\";\n",
    "\n",
    "$$.html(testHTML);"
   ]
  },
  {
   "cell_type": "code",
   "execution_count": 12,
   "id": "320b2893",
   "metadata": {},
   "outputs": [
    {
     "name": "stdout",
     "output_type": "stream",
     "text": [
      "object ; Person { name: 'Sahil', ghID: 'AD1616', group: 'Bread' }\n",
      "string ; {\"name\":\"Sahil\",\"ghID\":\"AD1616\",\"group\":\"Bread\"}\n"
     ]
    }
   ],
   "source": [
    "// define a function to hold data for a Person\n",
    "function Person(name, ghID) {\n",
    "    this.name = name;\n",
    "    this.ghID = ghID;\n",
    "    this.group = \"\";\n",
    "}\n",
    "\n",
    "// define a setter for role in Person data\n",
    "Person.prototype.setGroup = function(group) {\n",
    "    this.group = group;\n",
    "}\n",
    "\n",
    "// define a JSON conversion \"method\" associated with Person\n",
    "Person.prototype.toJSON = function() {\n",
    "    const obj = {name: this.name, ghID: this.ghID, group: this.group};\n",
    "    const json = JSON.stringify(obj);  // json/string is useful when passing data on internet\n",
    "    return json;\n",
    "}\n",
    "\n",
    "var me = new Person(\"Sahil\", \"AD1616\");\n",
    "me.setGroup(\"Bread\");\n",
    "logItType(me);\n",
    "logItType(me.toJSON());"
   ]
  },
  {
   "cell_type": "code",
   "execution_count": null,
   "id": "370e362f",
   "metadata": {},
   "outputs": [],
   "source": []
  }
 ],
 "metadata": {
  "kernelspec": {
   "display_name": "JavaScript (Node.js)",
   "language": "javascript",
   "name": "javascript"
  },
  "language_info": {
   "file_extension": ".js",
   "mimetype": "application/javascript",
   "name": "javascript",
   "version": "16.13.1"
  }
 },
 "nbformat": 4,
 "nbformat_minor": 5
}
