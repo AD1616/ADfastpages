{
 "cells": [
  {
   "cell_type": "code",
   "execution_count": 1,
   "id": "1a822871",
   "metadata": {},
   "outputs": [
    {
     "name": "stdout",
     "output_type": "stream",
     "text": [
      "hello world\n"
     ]
    }
   ],
   "source": [
    "console.log(\"hello world\");"
   ]
  },
  {
   "cell_type": "code",
   "execution_count": 2,
   "id": "0ecc2ea9",
   "metadata": {},
   "outputs": [
    {
     "name": "stdout",
     "output_type": "stream",
     "text": [
      "hello\n"
     ]
    }
   ],
   "source": [
    "var msg = \"hello\";\n",
    "console.log(msg);"
   ]
  },
  {
   "cell_type": "code",
   "execution_count": 3,
   "id": "f9aaa53d",
   "metadata": {},
   "outputs": [
    {
     "name": "stdout",
     "output_type": "stream",
     "text": [
      "11\n"
     ]
    }
   ],
   "source": [
    "function add(x1, x2) {\n",
    "    var sum = x1 + x2;\n",
    "    console.log(sum);\n",
    "}\n",
    "\n",
    "add(5, 6);"
   ]
  },
  {
   "cell_type": "code",
   "execution_count": 4,
   "id": "13c7b3a7",
   "metadata": {},
   "outputs": [
    {
     "name": "stdout",
     "output_type": "stream",
     "text": [
      "56\n"
     ]
    }
   ],
   "source": [
    "add(19, 37);"
   ]
  },
  {
   "cell_type": "code",
   "execution_count": 4,
   "id": "0f6a00d0",
   "metadata": {},
   "outputs": [
    {
     "name": "stdout",
     "output_type": "stream",
     "text": [
      "string ; hello\n",
      "number ; 2020\n",
      "object ; [ 1, 2, 3 ]\n"
     ]
    }
   ],
   "source": [
    "function logItType(output) {\n",
    "    console.log(typeof output, \";\", output);\n",
    "}\n",
    "logItType(\"hello\"); \n",
    "logItType(2020);   \n",
    "logItType([1, 2, 3]);"
   ]
  },
  {
   "cell_type": "code",
   "execution_count": 2,
   "id": "b9af8091",
   "metadata": {},
   "outputs": [
    {
     "data": {
      "text/html": [
       "Hello World"
      ]
     },
     "execution_count": 2,
     "metadata": {},
     "output_type": "execute_result"
    }
   ],
   "source": [
    "var testHTML = \"Hello World\";\n",
    "\n",
    "$$.html(testHTML);"
   ]
  },
  {
   "cell_type": "code",
   "execution_count": 13,
   "id": "320b2893",
   "metadata": {},
   "outputs": [
    {
     "name": "stdout",
     "output_type": "stream",
     "text": [
      "object ; Person { name: 'Sahil', ghID: 'AD1616', group: 'Bread' }\n",
      "string ; {\"name\":\"Sahil\",\"ghID\":\"AD1616\",\"group\":\"Bread\"}\n"
     ]
    }
   ],
   "source": [
    "// define a function to hold data for a Person\n",
    "function Person(name, ghID) {\n",
    "    this.name = name;\n",
    "    this.ghID = ghID;\n",
    "    this.group = \"\";\n",
    "}\n",
    "\n",
    "// define a setter for role in Person data\n",
    "Person.prototype.setGroup = function(group) {\n",
    "    this.group = group;\n",
    "}\n",
    "\n",
    "// define a JSON conversion \"method\" associated with Person\n",
    "Person.prototype.toJSON = function() {\n",
    "    const obj = {name: this.name, ghID: this.ghID, group: this.group};\n",
    "    const json = JSON.stringify(obj);  // json/string is useful when passing data on internet\n",
    "    return json;\n",
    "}\n",
    "\n",
    "var me = new Person(\"Sahil\", \"AD1616\");\n",
    "me.setGroup(\"Bread\");\n",
    "logItType(me);\n",
    "logItType(me.toJSON());"
   ]
  },
  {
   "cell_type": "code",
   "execution_count": 18,
   "id": "fedb0779",
   "metadata": {},
   "outputs": [
    {
     "name": "stdout",
     "output_type": "stream",
     "text": [
      "object ; [\n",
      "  Person { name: 'Sahil', ghID: 'AD1616', group: 'Bread' },\n",
      "  Person { name: 'Nathan', ghID: 'NathanShih04', group: 'Bread' },\n",
      "  Person { name: 'Rohit', ghID: 'rohitd3', group: 'Bread' },\n",
      "  Person { name: 'Kurtis', ghID: 'kkwan0', group: 'Bread' }\n",
      "]\n"
     ]
    }
   ],
   "source": [
    "var group1 = [\n",
    "    new Person(\"Sahil\", \"AD1616\"),\n",
    "    new Person(\"Nathan\", \"NathanShih04\"),\n",
    "    new Person(\"Rohit\", \"rohitd3\"),\n",
    "    new Person(\"Kurtis\", \"kkwan0\")\n",
    "];\n",
    "\n",
    "function Group(members, groupName) {\n",
    "    this.group = [];\n",
    "    this.members = members;\n",
    "    this.members.forEach(member => {member.setGroup(groupName); this.group.push(member); });\n",
    "    this.json = [];\n",
    "    this.group.forEach(person => this.json.push(person.toJSON()));\n",
    "}\n",
    "\n",
    "bread = new Group(group1, \"Bread\");\n",
    "logItType(bread.group);"
   ]
  },
  {
   "cell_type": "code",
   "execution_count": 20,
   "id": "a0813546",
   "metadata": {},
   "outputs": [
    {
     "data": {
      "text/html": [
       "<div style='display:inline-block;border: 2px solid grey;box-shadow: 0.8em 0.4em 0.4em grey;'><table><tr><th><mark>Name</mark></th><th><mark>GitHub ID</mark></th><th><mark>Group</mark></th></tr><tr><td>Sahil</td><td>AD1616</td><td>Bread</td><tr><tr><td>Nathan</td><td>NathanShih04</td><td>Bread</td><tr><tr><td>Rohit</td><td>rohitd3</td><td>Bread</td><tr><tr><td>Kurtis</td><td>kkwan0</td><td>Bread</td><tr></table></div>"
      ]
     },
     "execution_count": 20,
     "metadata": {},
     "output_type": "execute_result"
    }
   ],
   "source": [
    "// define an HTML conversion \"method\" associated with Classroom\n",
    "Group.prototype._toHtml = function() {\n",
    "  // HTML Style is build using inline structure\n",
    "  var style = (\n",
    "    \"display:inline-block;\" +\n",
    "    \"border: 2px solid grey;\" +\n",
    "    \"box-shadow: 0.8em 0.4em 0.4em grey;\"\n",
    "  );\n",
    "\n",
    "  // HTML Body of Table is build as a series of concatenations (+=)\n",
    "  var body = \"\";\n",
    "  // Heading for Array Columns\n",
    "  body += \"<tr>\";\n",
    "  body += \"<th><mark>\" + \"Name\" + \"</mark></th>\";\n",
    "  body += \"<th><mark>\" + \"GitHub ID\" + \"</mark></th>\";\n",
    "  body += \"<th><mark>\" + \"Group\" + \"</mark></th>\";\n",
    "  body += \"</tr>\";\n",
    "  // Data of Array, iterate through each row of compsci.classroom \n",
    "  for (var row in bread.group) {\n",
    "    // tr for each row, a new line\n",
    "    body += \"<tr>\";\n",
    "    // td for each column of data\n",
    "    body += \"<td>\" + bread.group[row].name + \"</td>\";\n",
    "    body += \"<td>\" + bread.group[row].ghID + \"</td>\";\n",
    "    body += \"<td>\" + bread.group[row].group + \"</td>\";\n",
    "    // tr to end line\n",
    "    body += \"<tr>\";\n",
    "  }\n",
    "\n",
    "   // Build and HTML fragment of div, table, table body\n",
    "  return (\n",
    "    \"<div style='\" + style + \"'>\" +\n",
    "      \"<table>\" +\n",
    "        body +\n",
    "      \"</table>\" +\n",
    "    \"</div>\"\n",
    "  );\n",
    "\n",
    "};\n",
    "\n",
    "// IJavaScript HTML processor receive parameter of defined HTML fragment\n",
    "$$.html(bread._toHtml());"
   ]
  },
  {
   "cell_type": "code",
   "execution_count": null,
   "id": "e73a2b47",
   "metadata": {},
   "outputs": [],
   "source": []
  }
 ],
 "metadata": {
  "kernelspec": {
   "display_name": "JavaScript (Node.js)",
   "language": "javascript",
   "name": "javascript"
  },
  "language_info": {
   "file_extension": ".js",
   "mimetype": "application/javascript",
   "name": "javascript",
   "version": "16.13.1"
  }
 },
 "nbformat": 4,
 "nbformat_minor": 5
}
