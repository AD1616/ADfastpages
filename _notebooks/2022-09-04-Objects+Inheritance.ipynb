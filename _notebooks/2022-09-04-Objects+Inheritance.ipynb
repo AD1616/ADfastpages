{
 "cells": [
  {
   "cell_type": "markdown",
   "metadata": {},
   "source": [
    "# Java Objects and Inheritance\n",
    "> Explaining objects and inheritance.\n",
    "\n",
    "- title: Java Objects and Inheritance\n",
    "- toc: true\n",
    "- comments: true\n",
    "- categories: [java]"
   ]
  },
  {
   "cell_type": "markdown",
   "metadata": {},
   "source": [
    "# Introduction\n",
    "\n",
    "This notebook goes over Objects and Inheritance."
   ]
  },
  {
   "cell_type": "markdown",
   "metadata": {},
   "source": [
    "### The Superclass\n",
    "\n",
    "Also called the parent class, this is the base class that child classes inherit properties from. The superclass in this example is a Person class. It has the properties of name and age. It has two methods, which are both getters, and one template method which is a CustomNumber method."
   ]
  },
  {
   "cell_type": "code",
   "execution_count": 28,
   "metadata": {
    "vscode": {
     "languageId": "java"
    }
   },
   "outputs": [],
   "source": [
    "public class Person {\n",
    "    public String name;\n",
    "    public int age;\n",
    "\n",
    "    public Person (String name, int age) {\n",
    "        this.name = name;\n",
    "        this.age = age;\n",
    "    }\n",
    "\n",
    "    public Person () {\n",
    "        this.name = \"-1\";\n",
    "        this.age = -1;\n",
    "    }\n",
    "\n",
    "    public String GetName () {\n",
    "        return this.name;\n",
    "    }\n",
    "\n",
    "    public int GetAge() {\n",
    "        return this.age;\n",
    "    }\n",
    "\n",
    "    public int CustomNumber() {\n",
    "        return 0;\n",
    "    }\n",
    "}"
   ]
  },
  {
   "cell_type": "markdown",
   "metadata": {},
   "source": [
    "### The child class\n",
    "\n",
    "Now we have a student class. A student is also a person, and therefore the student \"inherits\" from the person class. This concept is called inheritance, and is implemented in java through the \"extends\" keyword. What this means is that the student class, by default, will have the same properties as the Person class and the same methods. \n",
    "\n",
    "But the student will have some more properties than a default person. So, we can add the proerties of grade and id. We can also give the template method, CustomNumber, functionality now. We do this by using the \"@Override\" keyword. This means that we can essentially redefine this method to do something different. Here, we return the id with this method.\n",
    "\n",
    "As shown, all of the methods and properties of the Person class are still present. But there's now more methods and properties!"
   ]
  },
  {
   "cell_type": "code",
   "execution_count": 30,
   "metadata": {
    "vscode": {
     "languageId": "java"
    }
   },
   "outputs": [
    {
     "name": "stdout",
     "output_type": "stream",
     "text": [
      "Sahil\n",
      "16\n",
      "12\n",
      "1234567\n"
     ]
    }
   ],
   "source": [
    "public class Student extends Person {\n",
    "\n",
    "    public int grade;\n",
    "    public int id;\n",
    "\n",
    "    public Student (String name, int age, int grade, int id) {\n",
    "        this.name = name;\n",
    "        this.age = age;\n",
    "        this.grade = grade;\n",
    "        this.id = id;\n",
    "    }\n",
    "\n",
    "    public Student () {\n",
    "        this.name = \"-1\";\n",
    "        this.age = -1;\n",
    "        this.grade = -1;\n",
    "        this.id = 0;\n",
    "    }\n",
    "\n",
    "    public int GetGrade() {\n",
    "        return this.grade;\n",
    "    }\n",
    "\n",
    "    // Overriding the template method, CustomNumber\n",
    "    @Override public int CustomNumber () {\n",
    "        return this.id;\n",
    "    }\n",
    "\n",
    "    public static void main(String[] args) {\n",
    "        // Creating an object of the Student class and assigning it properties.\n",
    "        Student student1 = new Student(\"Sahil\", 16, 12, 1234567);\n",
    "\n",
    "        // Printing out values to show that all properties and methods are preserved from base class, and new ones are there from child class.\n",
    "        System.out.println(student1.GetName());\n",
    "        System.out.println(student1.GetAge());\n",
    "        System.out.println(student1.GetGrade());\n",
    "        System.out.println(student1.CustomNumber());\n",
    "\n",
    "    }\n",
    "\n",
    "}\n",
    "Student.main(null);"
   ]
  }
 ],
 "metadata": {
  "kernelspec": {
   "display_name": "Java",
   "language": "java",
   "name": "java"
  },
  "language_info": {
   "codemirror_mode": "java",
   "file_extension": ".jshell",
   "mimetype": "text/x-java-source",
   "name": "Java",
   "pygments_lexer": "java",
   "version": "18.0.2+9-61"
  },
  "orig_nbformat": 4
 },
 "nbformat": 4,
 "nbformat_minor": 2
}
