{
 "cells": [
  {
   "cell_type": "markdown",
   "id": "826fb949",
   "metadata": {},
   "source": [
    "# 2018 FRQ1\n",
    "> FRQ 1 on the 2018 AP Exam\n",
    "\n",
    "- title: 2018 FRQ1\n",
    "- toc: true\n",
    "- comments: true\n",
    "- categories: [frq]"
   ]
  },
  {
   "cell_type": "markdown",
   "id": "409c721c",
   "metadata": {},
   "source": [
    "This question involves reasoning about a simulation of a frog hopping in a straight line. The frog attempts to hop to a goal within a specified number of hops. The simulation is encapsulated in the following *FrogSimulation* class. You will write two of the methods in this class. "
   ]
  },
  {
   "cell_type": "markdown",
   "id": "8240e114",
   "metadata": {},
   "source": [
    "# Part A\n",
    "\n",
    "Write the *simulate* method, which simulates the frog attempting to hop in a straight line to a goal from the frog's starting position of 0 within a maximum number of hops. The method returns true if the frog successfully reached the goal within the maximum number of hops; otherwise, the method returns false.\n",
    "\n",
    "The *FrogSimulation* class provides a method called *hopDistance* that returns an integer representing the distance (positive or negative) to be moved when the frog hops. A positive distance represents a move toward the goal. A negative distance represents a move away from the goal. The returned distance may vary from call to call. Each time the frog hops, its position is adjusted by the value returned by\n",
    "a call to the hopDistance method.\n",
    "\n",
    "The frog hops until one of the following conditions becomes true:\n",
    "\n",
    "• The frog has reached or passed the goal.\n",
    "\n",
    "• The frog has reached a negative position.\n",
    "\n",
    "• The frog has taken the maximum number of hops without reaching the goal. "
   ]
  },
  {
   "cell_type": "code",
   "execution_count": null,
   "id": "ada99bef",
   "metadata": {},
   "outputs": [],
   "source": [
    "// Code Segment for Part A \n",
    "\n",
    "/** Simulates a frog attempting to reach the goal as described in part (a).\n",
    "* Returns true if the frog successfully reached or passed the goal during the simulation;\n",
    "* false otherwise.\n",
    "*/\n",
    "public boolean simulate() { /* to be implemented in part (a) */ \n",
    "    int distanceCovered = 0;\n",
    "    for (int i=0; i<maxHops; i++) {\n",
    "        int temp = this.hopDistance();\n",
    "        distanceCovered += temp;\n",
    "        \n",
    "        if (distanceCovered >= goalDistance) {\n",
    "            return true;\n",
    "        }\n",
    "        else if (distanceCovered < 0) {\n",
    "            return false;\n",
    "        }\n",
    "    }\n",
    "    return false;\n",
    "}"
   ]
  },
  {
   "cell_type": "markdown",
   "id": "ea8a1277",
   "metadata": {},
   "source": [
    "# Part B\n",
    "\n",
    "Write the *runSimulations* method, which performs a given number of simulations and returns the proportion of simulations in which the frog successfully reached or passed the goal. For example, if the parameter passed to runSimulations is 400, and 100 of the 400 simulate method calls returned true, then the runSimulations method should return 0.25. "
   ]
  },
  {
   "cell_type": "code",
   "execution_count": null,
   "id": "74daf812",
   "metadata": {},
   "outputs": [],
   "source": [
    "// Code Segment for Part B\n",
    "\n",
    "/** Runs num simulations and returns the proportion of simulations in which the frog\n",
    "* successfully reached or passed the goal.\n",
    "* Precondition: num > 0\n",
    "*/\n",
    "public double runSimulations(int num) { \n",
    "    /* to be implemented in part (b) */ \n",
    "    double total = 0;\n",
    "    for (int i = 0; i<num; i++) {\n",
    "        boolean currentSimulation = this.simulate();\n",
    "        if (currentSimulation) {\n",
    "            total += 1;\n",
    "        }\n",
    "    }\n",
    "    double proportion = total / num;\n",
    "    return proportion;\n",
    "}\n"
   ]
  },
  {
   "cell_type": "markdown",
   "id": "f6245293",
   "metadata": {},
   "source": [
    "# Completed Code"
   ]
  },
  {
   "cell_type": "code",
   "execution_count": 3,
   "id": "5178aa36",
   "metadata": {},
   "outputs": [],
   "source": [
    "public class FrogSimulation {\n",
    "\n",
    "    /** Distance, in inches, from the starting position to the goal. */\n",
    "    private int goalDistance;\n",
    "    /** Maximum number of hops allowed to reach the goal. */\n",
    "    private int maxHops;\n",
    "    /** Constructs a FrogSimulation where dist is the distance, in inches, from the starting\n",
    "    * position to the goal, and numHops is the maximum number of hops allowed to reach the goal.\n",
    "    * Precondition: dist > 0; numHops > 0\n",
    "    */\n",
    "\n",
    "    public FrogSimulation(int dist, int numHops){\n",
    "        goalDistance = dist;\n",
    "        maxHops = numHops;\n",
    "    }\n",
    "    \n",
    "    /** Returns an integer representing the distance, in inches, to be moved when the frog hops.\n",
    "     */\n",
    "    private int hopDistance() { \n",
    "    /* implementation not shown */ \n",
    "        // Place Holder so the code can run\n",
    "        return 0;\n",
    "    }\n",
    "    \n",
    "    /** Simulates a frog attempting to reach the goal as described in part (a).\n",
    "    * Returns true if the frog successfully reached or passed the goal during the simulation;\n",
    "    * false otherwise.\n",
    "    */\n",
    "     public boolean simulate() { /* to be implemented in part (a) */ \n",
    "         int distanceCovered = 0;\n",
    "         for (int i=0; i<maxHops; i++) {\n",
    "             int temp = this.hopDistance();\n",
    "             distanceCovered += temp;\n",
    "             \n",
    "             if (distanceCovered >= goalDistance) {\n",
    "                 return true;\n",
    "             }\n",
    "             else if (distanceCovered < 0) {\n",
    "                 return false;\n",
    "             }\n",
    "         }\n",
    "         return false;\n",
    "     }\n",
    "    \n",
    "     /** Runs num simulations and returns the proportion of simulations in which the frog\n",
    "    * successfully reached or passed the goal.\n",
    "    * Precondition: num > 0\n",
    "    */\n",
    "     public double runSimulations(int num) { \n",
    "         /* to be implemented in part (b) */ \n",
    "         double total = 0;\n",
    "         for (int i = 0; i<num; i++) {\n",
    "             boolean currentSimulation = this.simulate();\n",
    "             if (currentSimulation) {\n",
    "                 total += 1;\n",
    "             }\n",
    "         }\n",
    "         double proportion = total / num;\n",
    "         return proportion;\n",
    "     }\n",
    "} "
   ]
  },
  {
   "cell_type": "code",
   "execution_count": null,
   "id": "7cb7b7a6",
   "metadata": {},
   "outputs": [],
   "source": []
  }
 ],
 "metadata": {
  "kernelspec": {
   "display_name": "Java",
   "language": "java",
   "name": "java"
  },
  "language_info": {
   "codemirror_mode": "java",
   "file_extension": ".jshell",
   "mimetype": "text/x-java-source",
   "name": "java",
   "pygments_lexer": "java",
   "version": "18.0.2+9-61"
  }
 },
 "nbformat": 4,
 "nbformat_minor": 5
}
