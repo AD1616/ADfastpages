{
 "cells": [
  {
   "cell_type": "markdown",
   "metadata": {},
   "source": [
    "# Sahil: A Reflection on Computer Science\n",
    "> Article about my joruney.\n",
    "\n",
    "- title: Sahil: A Reflection on Computer Science\n",
    "- toc: true\n",
    "- comments: true\n",
    "- categories: [markdown]"
   ]
  },
  {
   "cell_type": "markdown",
   "metadata": {},
   "source": [
    "### Sahil: Starting Out\n",
    "\n",
    "Hey, I'm Sahil Samar. I'm currently a senior at Del Norte, in the graduating class of 2023. \n",
    "\n",
    "My computer science journey started out in around 8th grade when I got interested in game development. But game development was a super hard thing to start with! Unity uses a language called C#, and I didn't have any idea how to use it. I didn't really understand the architecture of Unity or C# at first; I just kind of dove in and started making projects. I would look up what I didn't know, and just copy paste in code to get things working. Even this was hard, because when something went wrong I had no idea how to fix it. But with way too many hours, I was able to make some projects. It isn't easy to get started getting into coding! By the time I got to AP CSP, I still had a lot to learn about the coding mindset.\n",
    "\n",
    "My very first game, 3D Pong"
   ]
  },
  {
   "cell_type": "markdown",
   "metadata": {},
   "source": [
    "### Sahil: AP CSP\n",
    "\n",
    "When I got to AP CSP, I still didn't really have an idea of how coding worked. I just knew how to find code and paste it into my project. But slowly, I began moving away from this. I met Anthony Vo, who you just read a little bit about, in my first trimester. Whenever I didn't understand something, he would always help me out. He wouldn't give me code to copy paste though. He would actually explain the code to me, so I could do it myself. This was huge for me, since I actually began to think about my code and be able to develop things on my own. Mr. Mortensen guided me through countless problems, but everytime I asked him for help I walked away with some new understanding of how to debug my code. At the start of the trimester, I would go up to Mr. Mortensen or Anthony as soon as I had a problem. But by the end of the year, I only used them as a last resort, after I had truly tried everything. At that point, I just needed a pair of fresh eyes, and not someone to guide me through the whole process. Moral of the story: you aren't expected to come in an expert at coding! But, if you use your resources properly, you can use this year to grow. You can develop the mindset of a programmer and learn how to create cool projects and debug your issues when things don't work out. "
   ]
  },
  {
   "cell_type": "markdown",
   "metadata": {},
   "source": [
    "### Sahil: After AP CSP\n",
    "\n",
    "AP CSP shaped me to be the coder I am today; but you only get out of it what you put into it. If you work hard, then it can completely change your mindset (if you are a new coder), and teach you plenty of skills. After AP CSP, I was able to land a summer internship working in CS at the San Diego Supercomputer Center. During this internship, I worked with huge supercomputers and began to understand what servers really were and how they worked. Our project was called ICICLE. If you want to learn more about it, you could watch this short video: https://www.youtube.com/watch?v=gNFk5tDTtoU. I developed sophisticated authentication methods, and did a lot of \"firsts\" in the project. I went from having to be guided through basic code in CSP to creating things that had never been done before. It's possible! After doing a lot of stuff behind the scenes, we got to test our system on massive knowledge graphs and run some machine learning algorithms. \n",
    "\n",
    "Picture of one of the computers I worked with, called Expanse:\n",
    "\n",
    "\n",
    "Knowledge Graph of Asteroids, classified using a neural network on being hazarous or not:\n",
    "\n",
    "\n",
    "I also never gave up on making games! But now, I don't really need to follow tutorials anymore. I can architect a solution on my own, and when I do need to look something up I learn from it and implement it rather than just copying it. When something goes wrong, I'm not stuck; I know what to do, and I have confidence because I know that every problem has a solution. Here's a peek at one of the games I'm working on now:\n",
    "\n"
   ]
  },
  {
   "cell_type": "markdown",
   "metadata": {},
   "source": []
  }
 ],
 "metadata": {
  "kernelspec": {
   "display_name": "Python 3.10.5 64-bit",
   "language": "python",
   "name": "python3"
  },
  "language_info": {
   "codemirror_mode": {
    "name": "ipython",
    "version": 3
   },
   "file_extension": ".py",
   "mimetype": "text/x-python",
   "name": "python",
   "nbconvert_exporter": "python",
   "pygments_lexer": "ipython3",
   "version": "3.10.5"
  },
  "orig_nbformat": 4,
  "vscode": {
   "interpreter": {
    "hash": "aee8b7b246df8f9039afb4144a1f6fd8d2ca17a180786b69acc140d282b71a49"
   }
  }
 },
 "nbformat": 4,
 "nbformat_minor": 2
}
