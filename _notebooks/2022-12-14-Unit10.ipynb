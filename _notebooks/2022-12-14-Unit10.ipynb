{
 "cells": [
  {
   "cell_type": "markdown",
   "id": "216b7508",
   "metadata": {},
   "source": [
    "# Unit 10 Work\n",
    "> Unit 10 CB\n",
    "\n",
    "- title: Unit 10 Work\n",
    "- toc: true\n",
    "- comments: true\n",
    "- categories: [cb]"
   ]
  },
  {
   "cell_type": "markdown",
   "id": "4729b99a",
   "metadata": {},
   "source": [
    "# Recursion"
   ]
  },
  {
   "cell_type": "markdown",
   "id": "ea3479ff",
   "metadata": {},
   "source": [
    "Method that calls itself. Must have two parts: a base case and a recursive call."
   ]
  },
  {
   "cell_type": "markdown",
   "id": "a32e4441",
   "metadata": {},
   "source": [
    "# Binary Search"
   ]
  },
  {
   "cell_type": "markdown",
   "id": "9a6576c0",
   "metadata": {},
   "source": [
    "Requires data to be in sorted order to use."
   ]
  },
  {
   "cell_type": "markdown",
   "id": "17c35d83",
   "metadata": {},
   "source": [
    "The actual algorithm coninuously halvea data until the value is found"
   ]
  },
  {
   "cell_type": "markdown",
   "id": "c903b30d",
   "metadata": {},
   "source": [
    "More efficient than linear search. In terms of **Big O Notation**, it is O(log2n) vs O(n)."
   ]
  },
  {
   "cell_type": "code",
   "execution_count": null,
   "id": "d51714fd",
   "metadata": {},
   "outputs": [],
   "source": []
  }
 ],
 "metadata": {
  "kernelspec": {
   "display_name": "Python 3 (ipykernel)",
   "language": "python",
   "name": "python3"
  },
  "language_info": {
   "codemirror_mode": {
    "name": "ipython",
    "version": 3
   },
   "file_extension": ".py",
   "mimetype": "text/x-python",
   "name": "python",
   "nbconvert_exporter": "python",
   "pygments_lexer": "ipython3",
   "version": "3.10.5"
  }
 },
 "nbformat": 4,
 "nbformat_minor": 5
}
