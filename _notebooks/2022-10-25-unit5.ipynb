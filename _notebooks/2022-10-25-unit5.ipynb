{
 "cells": [
  {
   "cell_type": "markdown",
   "metadata": {},
   "source": [
    "# Unit 5 Work\n",
    "> Unit 5 CB\n",
    "\n",
    "- title: Unit 5 Work\n",
    "- toc: true\n",
    "- comments: true\n",
    "- categories: [cb]"
   ]
  },
  {
   "cell_type": "markdown",
   "metadata": {},
   "source": [
    "# Key Learnings\n",
    "\n",
    "Object's state: Attributes of an object and their values at a given time.\n",
    "\n",
    "Static variables and methods belong to a class, not to a specific object."
   ]
  },
  {
   "cell_type": "markdown",
   "metadata": {},
   "source": [
    "# 2019 FRQ Q2"
   ]
  },
  {
   "cell_type": "code",
   "execution_count": 1,
   "metadata": {
    "vscode": {
     "languageId": "java"
    }
   },
   "outputs": [
    {
     "name": "stdout",
     "output_type": "stream",
     "text": [
      "0\n",
      "0.0\n",
      "9000.0\n",
      "1\n"
     ]
    }
   ],
   "source": [
    "public class StepTracker {\n",
    "    private int lowerBound;\n",
    "    private int steps;\n",
    "    private int totalDays;\n",
    "    private int activeDays;\n",
    "\n",
    "    public StepTracker(int minSteps) {\n",
    "        lowerBound = minSteps;\n",
    "        steps = 0;\n",
    "        totalDays = 0;\n",
    "        activeDays = 0;\n",
    "    }\n",
    "\n",
    "    public void addDailySteps(int newSteps) {\n",
    "        steps += newSteps;\n",
    "        totalDays += 1;\n",
    "        if (newSteps >= lowerBound) {\n",
    "            activeDays += 1;\n",
    "        }\n",
    "    }\n",
    "\n",
    "    public int activeDays(){\n",
    "        return activeDays;\n",
    "    }\n",
    "\n",
    "    public double averageSteps() {\n",
    "        if (totalDays == 0) {\n",
    "            return (double) totalDays;\n",
    "        }\n",
    "        else {\n",
    "            return (double) steps / totalDays;\n",
    "        }\n",
    "    }\n",
    "\n",
    "    public static void main(String[] args){\n",
    "\n",
    "        StepTracker tr = new StepTracker(10000);\n",
    "        System.out.println(tr.activeDays());\n",
    "        System.out.println(tr.averageSteps());\n",
    "        tr.addDailySteps(9000);\n",
    "        System.out.println(tr.averageSteps());\n",
    "        tr.addDailySteps(23000);\n",
    "        System.out.println(tr.activeDays());\n",
    "    }\n",
    "}\n",
    "StepTracker.main(null);"
   ]
  },
  {
   "cell_type": "code",
   "execution_count": null,
   "metadata": {
    "vscode": {
     "languageId": "java"
    }
   },
   "outputs": [],
   "source": []
  }
 ],
 "metadata": {
  "kernelspec": {
   "display_name": "Java",
   "language": "java",
   "name": "java"
  },
  "language_info": {
   "codemirror_mode": "java",
   "file_extension": ".jshell",
   "mimetype": "text/x-java-source",
   "name": "Java",
   "pygments_lexer": "java",
   "version": "18.0.2+9-61"
  },
  "orig_nbformat": 4,
  "vscode": {
   "interpreter": {
    "hash": "aee8b7b246df8f9039afb4144a1f6fd8d2ca17a180786b69acc140d282b71a49"
   }
  }
 },
 "nbformat": 4,
 "nbformat_minor": 2
}
