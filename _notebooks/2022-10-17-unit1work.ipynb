{
 "cells": [
  {
   "cell_type": "markdown",
   "metadata": {},
   "source": [
    "# Unit 1 Work\n",
    "> Java grade calculator implementing primitives.\n",
    "\n",
    "- title: Unit 1 Work\n",
    "- toc: true\n",
    "- comments: true\n",
    "- categories: [cb]"
   ]
  },
  {
   "cell_type": "code",
   "execution_count": 2,
   "metadata": {},
   "outputs": [
    {
     "name": "stdout",
     "output_type": "stream",
     "text": [
      "Final is part of the test category? true or false\n",
      "Current grade:\n",
      "What percent of your grade is the tests category?\n",
      "Your current grade (in tests category)?\n",
      "Total points in tests category currently?\n",
      "Amount of points:\n",
      "The grade you want:\n",
      "You need a 40.0 on the final.\n"
     ]
    }
   ],
   "source": [
    "import java.util.*;\n",
    "\n",
    "\n",
    "public class gradecalc {\n",
    "    \n",
    "    public static void main(String[] args) {\n",
    "        Scanner sc = new Scanner(System.in);\n",
    "        System.out.println(\"Final is part of the test category? true or false\");\n",
    "        boolean finalIsTest = sc.nextBoolean();\n",
    "        \n",
    "        if (finalIsTest) {\n",
    "            System.out.println(\"Current grade:\");\n",
    "            double grade = sc.nextDouble();\n",
    "            \n",
    "            System.out.println(\"What percent of your grade is the tests category?\");\n",
    "            int testsPercent = sc.nextInt();\n",
    "            \n",
    "            System.out.println(\"Your current grade (in tests category)?\");\n",
    "            double testsGrade = sc.nextDouble();\n",
    "            \n",
    "            System.out.println(\"Total points in tests category currently?\");\n",
    "            int testsPoints = sc.nextInt();\n",
    "            \n",
    "            System.out.println(\"Amount of points:\");\n",
    "            int finalPoints = sc.nextInt();\n",
    "            \n",
    "            System.out.println(\"The grade you want:\");\n",
    "            double finalgrade = sc.nextDouble();\n",
    "            \n",
    "            double percentReq = finalgrade - (grade - testsGrade * testsPercent/100.0);\n",
    "            double testPointsNeeded = (percentReq/testsPercent) * (testsPoints + finalPoints);\n",
    "            double finalPointsNeeded = testPointsNeeded - testsPoints;\n",
    "            System.out.println(\"You need a \" + finalPointsNeeded + \" on the final.\");\n",
    "            \n",
    "        } else {\n",
    "            System.out.println(\"What is your current grade?\");\n",
    "            double grade = sc.nextDouble();\n",
    "            System.out.println(\"How much percent of your grade is the final?\");\n",
    "            int finalPercent = sc.nextInt();\n",
    "            System.out.println(\"What is your desired grade?\");\n",
    "            double target = sc.nextDouble();\n",
    "            \n",
    "            double percentReq = target - (grade/100.0)*(100.0-finalPercent);\n",
    "            double gradeNeeded = 100.0 * (percentReq/finalPercent);\n",
    "            System.out.println(\"You need a \" + gradeNeeded + \" on the test.\");\n",
    "        }\n",
    "    }\n",
    "}\n",
    "gradecalc.main(null);"
   ]
  },
  {
   "cell_type": "code",
   "execution_count": null,
   "metadata": {},
   "outputs": [],
   "source": []
  }
 ],
 "metadata": {
  "kernelspec": {
   "display_name": "Java",
   "language": "java",
   "name": "java"
  },
  "language_info": {
   "codemirror_mode": "java",
   "file_extension": ".jshell",
   "mimetype": "text/x-java-source",
   "name": "java",
   "pygments_lexer": "java",
   "version": "18.0.2+9-61"
  },
  "orig_nbformat": 4,
  "vscode": {
   "interpreter": {
    "hash": "aee8b7b246df8f9039afb4144a1f6fd8d2ca17a180786b69acc140d282b71a49"
   }
  }
 },
 "nbformat": 4,
 "nbformat_minor": 2
}
