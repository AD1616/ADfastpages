{
 "cells": [
  {
   "cell_type": "markdown",
   "id": "9296edfb",
   "metadata": {},
   "source": [
    "# Data Types\n",
    "> Data types\n",
    "\n",
    "- title: Data Types\n",
    "- toc: true\n",
    "- comments: true\n",
    "- categories: [tri3]"
   ]
  },
  {
   "cell_type": "markdown",
   "id": "d783413e",
   "metadata": {},
   "source": [
    "## Java Binary Addition"
   ]
  },
  {
   "cell_type": "code",
   "execution_count": 2,
   "id": "e75e462a",
   "metadata": {},
   "outputs": [
    {
     "data": {
      "text/plain": [
       "10"
      ]
     },
     "execution_count": 2,
     "metadata": {},
     "output_type": "execute_result"
    }
   ],
   "source": [
    " public static String addBinary(){\n",
    " \n",
    "    String num1 = \"1\";\n",
    "    String num2 = \"1\";\n",
    "\n",
    "    int num1Binary = Integer.parseInt(num1, 2);\n",
    "    int num2Binary = Integer.parseInt(num2, 2);\n",
    "\n",
    "    int sum =  + num1Binary + num1Binary;\n",
    "    return Integer.toBinaryString(sum); \n",
    "}\n",
    "\n",
    "addBinary();"
   ]
  },
  {
   "cell_type": "markdown",
   "id": "a30fa187",
   "metadata": {},
   "source": [
    "## Primitive Types and Pass by Value"
   ]
  },
  {
   "cell_type": "code",
   "execution_count": 12,
   "id": "8d79b05e",
   "metadata": {},
   "outputs": [
    {
     "name": "stdout",
     "output_type": "stream",
     "text": [
      "Integer is: 5\n",
      "Double is: 10.5\n",
      "Boolean is: false\n",
      "Char is: d\n",
      "\n",
      "Changed Integer is: 6\n",
      "Changed Double is: 11.5\n",
      "Changed Boolean is: true\n",
      "Changed Char is: z\n",
      "\n",
      "Duplicated Integer is: 5\n",
      "Duplicated Double is: 10.5\n",
      "Duplicated Boolean is: false\n",
      "Duplicated Char is: d\n"
     ]
    }
   ],
   "source": [
    "public class PrimitiveTypes {\n",
    "    \n",
    "    public int a;\n",
    "    public double b;\n",
    "    public boolean c;\n",
    "    public char d;\n",
    "    \n",
    "    public PrimitiveTypes(int a, double b, boolean c, char d) {\n",
    "        this.a = a;\n",
    "        this.b = b;\n",
    "        this.c = c;\n",
    "        this.d = d;\n",
    "    }\n",
    "    \n",
    "    public void ChangePrimitiveTypes(int newInt, double newDouble, boolean newBool, char newChar) {\n",
    "        this.a = newInt + 1;\n",
    "        this.b = newDouble + 1;\n",
    "        this.c = !newBool;\n",
    "        this.d = 'z';\n",
    "    }\n",
    "    \n",
    "\n",
    "    public static void main(String[] args) {\n",
    "        \n",
    "        \n",
    "        \n",
    "        PrimitiveTypes PT = new PrimitiveTypes(5, 10.5, false, 'd');\n",
    "        \n",
    "        int aDuplicate = PT.a;\n",
    "        double bDuplicate = PT.b;\n",
    "        boolean cDuplicate = PT.c;\n",
    "        char dDuplicate = PT.d;\n",
    "        \n",
    "        System.out.println(\"Integer is: \" + PT.a);\n",
    "        System.out.println(\"Double is: \" + PT.b);\n",
    "        System.out.println(\"Boolean is: \" + PT.c);\n",
    "        System.out.println(\"Char is: \" + PT.d);\n",
    "        \n",
    "        System.out.println();\n",
    "        \n",
    "        PT.ChangePrimitiveTypes(PT.a, PT.b, PT.c, PT.d);\n",
    "        \n",
    "        System.out.println(\"Changed Integer is: \" + PT.a);\n",
    "        System.out.println(\"Changed Double is: \" + PT.b);\n",
    "        System.out.println(\"Changed Boolean is: \" + PT.c);\n",
    "        System.out.println(\"Changed Char is: \" + PT.d);\n",
    "        \n",
    "        System.out.println();\n",
    "        \n",
    "        System.out.println(\"Duplicated Integer is: \" + aDuplicate);\n",
    "        System.out.println(\"Duplicated Double is: \" + bDuplicate);\n",
    "        System.out.println(\"Duplicated Boolean is: \" + cDuplicate);\n",
    "        System.out.println(\"Duplicated Char is: \" + dDuplicate);\n",
    "        \n",
    "    }\n",
    "}\n",
    "PrimitiveTypes.main(null);"
   ]
  },
  {
   "cell_type": "markdown",
   "id": "e94d8bec",
   "metadata": {},
   "source": [
    "Above, we see an integer, double, boolean, and char all being defined in a Java class and assigned values through the constructor. We pass in these values to the **ChangePrimitiveTypes** function, which modifies each value. In Java, primitive types are **passed by value**, which means that the variable stores an actual value. We can visualize this through the above class. After we assign initial values to the variables in the class, we create 4 new variables and assign their values to be the same as the values of the variables in the class. Now, we print the original values of the 4 variables in the class. Then, we change all of the values of the variables in the class, and print the variables again. We see that the new values are printed. However, when we print the 4 new variables we created at the start, they still contain the original values we assigned. This is because these 4 variables contained actual values, and since we never modified those variables the values never changed. "
   ]
  },
  {
   "cell_type": "code",
   "execution_count": 14,
   "id": "809c57c2",
   "metadata": {},
   "outputs": [
    {
     "name": "stdout",
     "output_type": "stream",
     "text": [
      "Arr1 original: [1, 2, 3, 4]\n",
      "Arr2 original: [1, 2, 3, 4]\n",
      "\n",
      "Arr1 Changed: [5, 2, 3, 4]\n",
      "Arr2 Changed: [5, 2, 3, 4]\n",
      "\n",
      "ArrayList: [5, 2, 3, 4]"
     ]
    }
   ],
   "source": [
    "import java.util.ArrayList;\n",
    "public class ReferenceTypes {\n",
    "\n",
    "\n",
    "    public static void main(String[] args) {\n",
    "        \n",
    "        int[] arr1 = {1, 2, 3, 4};\n",
    "        int[] arr2 = arr1; \n",
    "\n",
    "        \n",
    "        System.out.print(\"Arr1 original: \");\n",
    "        System.out.println(Arrays.toString(arr1));  \n",
    "        System.out.print(\"Arr2 original: \");\n",
    "        System.out.println(Arrays.toString(arr2));  \n",
    "\n",
    "        arr1[0] = 5;\n",
    "        System.out.println();\n",
    "\n",
    "        System.out.print(\"Arr1 Changed: \");\n",
    "        System.out.println(Arrays.toString(arr1));  \n",
    "        System.out.print(\"Arr2 Changed: \");\n",
    "        System.out.println(Arrays.toString(arr2));  \n",
    "        \n",
    "        ArrayList<Integer> list = new ArrayList<>();\n",
    "        \n",
    "        for (int i : arr1) {\n",
    "            list.add(i);\n",
    "        }\n",
    "        \n",
    "        System.out.println();\n",
    "        \n",
    "        System.out.print(\"ArrayList: \");\n",
    "        \n",
    "        System.out.print(list.toString());\n",
    "        \n",
    "\n",
    "        \n",
    "        \n",
    "\n",
    "        \n",
    "        \n",
    "    }\n",
    "}\n",
    "ReferenceTypes.main(null);"
   ]
  },
  {
   "cell_type": "markdown",
   "id": "b64ac40b",
   "metadata": {},
   "source": [
    "While int is a primitive type, Integer is a wrapper class for integer and is a reference type. In the above class, we see this wrapper class being necessary to pass in primitive type values to an array list.\n",
    "\n",
    "We also visualize the behavior of reference types in the above class. Arr1 is assigned to a value, and Arr2 is assigned to Arr1. Both Arr1 and Arr2 are different variables, but they both point to the same address in memory for the value of the array. Therefore, when Arr1 is changed, Arr2 also appears to change, because they reference the same value.\n",
    "\n",
    "Note: For Strings, although they are considered reference types, this behavior is not seen. The reason for this is that Strings are immutable in Java."
   ]
  },
  {
   "cell_type": "markdown",
   "id": "654fba6d",
   "metadata": {},
   "source": [
    "## Methods and Control Structures"
   ]
  },
  {
   "cell_type": "markdown",
   "id": "fbb0280e",
   "metadata": {},
   "source": [
    "* Methods in overall coding are blocks of code that can be called upon and reused when needed within anywhere of the code.\n",
    "* When defining methods, one should be aware of the variable type that the method would return, parameters it takes in, of course the code, and then its implementation in calling."
   ]
  },
  {
   "cell_type": "markdown",
   "id": "54f2106a",
   "metadata": {},
   "source": [
    "## Looking at the Diverse Arrays/Matrix\n"
   ]
  },
  {
   "cell_type": "markdown",
   "id": "4be88591",
   "metadata": {},
   "source": [
    "* 2D Arrays are slightly tricky - the outer int[][] array is considered a non-primitive data type, meaning that values like null can be stored. However, within each array only primitive data types of the respective variable type can be stored.\n",
    "\n",
    "* Within Mort's code he defines various methods within the Diverse array class, beginning with the arraySum method. It takes in an array, and finds the sum of the integers in the array.\n",
    "\n",
    "public class DiverseArray {\n",
    "  public static int arraySum(int[] arr) {\n",
    "      int sum = 0;    \n",
    "\n",
    "      for (int num : arr) {\n",
    "          sum += num;\n",
    "          System.out.print(num + \"\\t\"); \n",
    "      }\n",
    "\n",
    "      return sum;\n",
    "  }\n",
    "  \n",
    "* Next, he creates the sum of 2d arrays. Within the method he uses the other method defined previously to return a list of the sums of each row of the 2d array.\n",
    "\n",
    "public static int[] rowSums(int[][] arr2D) {\n",
    "    int rows = arr2D.length;        \n",
    "    int[] sumList = new int[rows];  \n",
    "\n",
    "    for (int i = 0; i < rows; i++) {\n",
    "        sumList[i] = arraySum(arr2D[i]);\n",
    "        System.out.println(\"= \\t\" + sumList[i]);  // debug\n",
    "    }\n",
    "\n",
    "    return sumList;\n",
    "}\n",
    "z\n",
    "* The final method simply checks if the rows are similar to each other"
   ]
  },
  {
   "cell_type": "markdown",
   "id": "146a80ed",
   "metadata": {},
   "source": [
    "## Math.random"
   ]
  },
  {
   "cell_type": "markdown",
   "id": "598cbbfa",
   "metadata": {},
   "source": [
    "* Math.random generates a random value from 0 to 1. When multiplied by a range it generates a value in that range.\n",
    "* In Number.java, it is used like so\n",
    "\n",
    "public Number() {\n",
    "\n",
    "      int SIZE = 36; int MIN = 3; int RANGE = SIZE - MIN + 1;  // constants for initialization\n",
    "  \n",
    "      this.number = (int)(Math.random()*RANGE) + MIN;  // observe RANGE calculation and MIN offset\n",
    "  \n",
    "      this.index = Number.COUNT++;    // observe use of Class variable COUNT and post increment\n",
    "  \n",
    "}\n",
    "\n",
    "* Here a range is set with variables so that it could be easily altered. Also be sure to cast the number as an integer so that a decimal value doesn't occur."
   ]
  },
  {
   "cell_type": "markdown",
   "id": "4dc3362a",
   "metadata": {},
   "source": [
    "## DoNothingByValue.java\n"
   ]
  },
  {
   "cell_type": "markdown",
   "id": "c5ccab62",
   "metadata": {},
   "source": [
    "* Overall, the DoNothingByValue demonstrates several methods of passing arguments.\n",
    "\n",
    "* The DoNothings method does nothing, it just shows how to pass in arguments\n",
    "\n",
    "* Within the changeIt method, functions are done locally to the variables, however in the end, the arr outside the method is not altered, and thus is not changed.\n",
    "\n",
    "public static void changeIt(int [] arr, int val, String word) { \n",
    "\n",
    "    arr = new int[5]; val = 0; word = word.substring(0, 5);\n",
    "\n",
    "    System.out.print(\"changeIt: \"); // added for (int k = 0; k < arr.length; k++) {\n",
    "\n",
    "    arr[k] = 0;\n",
    "    System.out.print(arr[k] + \" \"); // added\n",
    "    \n",
    "} System.out.println(word); // added\n",
    "\n",
    "}\n",
    "\n",
    "* The changeIt2 demonstrates the creation of non primitive data type, even though the data type has the same name, they can be referred differently with different alterations to the array while still keeping its original values in a seperate one. If you print 'arr' it will be the original list.\n",
    "\n",
    "public static void changeIt2(int [] nums, int value, String name) { \n",
    "\n",
    "    nums = new int[5]; // new creates new memory address value = 0; // primitives are pass by value \n",
    "    name = name.substring(0, 5); // all wrapper classes have automatic \"new\", same as word = new String(word.substring(0, 5));\n",
    "\n",
    "    // this loop changes nums locally\n",
    "    System.out.print(\"changeIt2: \");\n",
    "    for (int k = 0; k < nums.length; k++) {\n",
    "        nums[k] = 0;\n",
    "        System.out.print(nums[k] + \" \");\n",
    "    }\n",
    "    System.out.println(name);\n",
    "\n",
    "}\n",
    "\n",
    "* In changeIt3 'arr' is actually modified, and the original is modified. However, since a new string object for word was created, the original 'word' will not be modified because now it is a localized variable to the method.\n",
    "\n",
    "public static String changeIt3(int [] arr, String word) { \n",
    "\n",
    "    word = new String(word.substring(0, 5)); // wrapper class does a \"new\" on any assignment\n",
    "\n",
    "    System.out.print(\"changeIt3: \");\n",
    "    for (int k = 0; k < arr.length; k++) {\n",
    "        arr[k] = 0;                          // int array is initialized to 0's, not needed\n",
    "        System.out.print(arr[k] + \" \");\n",
    "\n",
    "    }\n",
    "    System.out.println(word);\n",
    "\n",
    "    return word;\n",
    "}\n",
    "\n",
    "* For changeIt4, first the Triple type should be explained. Simply put, Triple can store three values within the data structure, each can be with a different data type. They are referred by left, middle, and right.\n",
    "* This simply shows how to modify an object passed by parameter.\n",
    "\n",
    "public static Triple<int[], Integer, String> changeIt4(Triple<int[], Integer, String> T) { \n",
    "\n",
    "    T.setOne(new int[5]); T.setTwo(0); // primitives are pass by value \n",
    "    T.setThree(T.getThree().substring(0, 5)); // all wrapper classes have automatic \"new\", same as word = new String(word.substring(0, 5));\n",
    "\n",
    "    // this loop changes nums locally\n",
    "    System.out.print(\"changeIt4: \");\n",
    "    for (int i : T.getOne()) {\n",
    "        System.out.print(i + \" \");\n",
    "    }\n",
    "    System.out.println(T.getThree());\n",
    "\n",
    "    return T;\n",
    "}"
   ]
  },
  {
   "cell_type": "markdown",
   "id": "160498ec",
   "metadata": {},
   "source": [
    "## Java Methods\n"
   ]
  },
  {
   "cell_type": "markdown",
   "id": "a1ec49bb",
   "metadata": {},
   "source": [
    "* a method is a block of code that performs a specific task and can be called by other parts of the program\n",
    "\n",
    "* a method consists of a method signature, which includes the method name, return type, and parameter list, and a method body, which contains the code that is executed when the method is called"
   ]
  },
  {
   "cell_type": "code",
   "execution_count": 5,
   "id": "8bf4921c",
   "metadata": {},
   "outputs": [
    {
     "name": "stdout",
     "output_type": "stream",
     "text": [
      "30\n"
     ]
    }
   ],
   "source": [
    "public int addNumbers(int num1, int num2) {\n",
    "    int sum = num1 + num2;\n",
    "    return sum;\n",
    "}\n",
    "System.out.println(addNumbers(10, 20));"
   ]
  },
  {
   "cell_type": "markdown",
   "id": "42c86292",
   "metadata": {},
   "source": [
    "## Java Control Structures\n"
   ]
  },
  {
   "cell_type": "markdown",
   "id": "3894b07d",
   "metadata": {},
   "source": [
    "* control structures are constructs that allow you to control the flow of execution in a program\n",
    "\n",
    "* they let you execute specific statements or blocks of code based on certain conditions\n",
    "\n",
    "* some examples: if-else, for loop, while loop, switch case"
   ]
  },
  {
   "cell_type": "markdown",
   "id": "e89afccd",
   "metadata": {},
   "source": [
    "## IntByReference\n"
   ]
  },
  {
   "cell_type": "markdown",
   "id": "6925a354",
   "metadata": {},
   "source": [
    "* The IntByReference class uses the integer primitive and its function is swapping the two inputted numbers, if the first is greater than the second\n",
    "\n",
    "* A wrapper class is used to change a primitive int into an Integer object\n",
    "\n",
    "* the Integer object is turned back into a primitive type \"tmp\" to switch values"
   ]
  },
  {
   "cell_type": "code",
   "execution_count": 2,
   "id": "d6ae2636",
   "metadata": {},
   "outputs": [
    {
     "name": "stdout",
     "output_type": "stream",
     "text": [
      "Before: 21 16\n",
      "After: 16 21\n",
      "\n",
      "Before: 16 21\n",
      "After: 16 21\n",
      "\n",
      "Before: 16 -1\n",
      "After: -1 16\n",
      "\n"
     ]
    }
   ],
   "source": [
    "public class IntByReference {\n",
    "    // sets primitive\n",
    "    private int value;\n",
    "    //wrapper class\n",
    "    public IntByReference(Integer value) {\n",
    "        this.value = value;\n",
    "    }\n",
    "\n",
    "    public String toString() {\n",
    "        return (String.format(\"%d\", this.value));\n",
    "    }\n",
    "    // function to swap the values\n",
    "    public void swapToLowHighOrder(IntByReference i) {\n",
    "    // if first value larger than second, then swap\n",
    "        if (this.value > i.value) {\n",
    "            //sets the first value back to a primitive type\n",
    "            int tmp = this.value;\n",
    "            this.value = i.value;\n",
    "            i.value = tmp;\n",
    "        }\n",
    "    }\n",
    "\n",
    "    public static void swapper(int n0, int n1) {\n",
    "        IntByReference a = new IntByReference(n0); // creates objects with wrapper class using primitive int\n",
    "        IntByReference b = new IntByReference(n1);\n",
    "        System.out.println(\"Before: \" + a + \" \" + b);\n",
    "        a.swapToLowHighOrder(b); //calls method\n",
    "        System.out.println(\"After: \" + a + \" \" + b);\n",
    "        System.out.println();\n",
    "    }\n",
    "\n",
    "    public static void main(String[] ags) {\n",
    "        IntByReference.swapper(21, 16);\n",
    "        IntByReference.swapper(16, 21);\n",
    "        IntByReference.swapper(16, -1);\n",
    "    }\n",
    "\n",
    "}\n",
    "IntByReference.main(null);"
   ]
  },
  {
   "cell_type": "code",
   "execution_count": null,
   "id": "051b4f10",
   "metadata": {},
   "outputs": [],
   "source": []
  }
 ],
 "metadata": {
  "kernelspec": {
   "display_name": "Java",
   "language": "java",
   "name": "java"
  },
  "language_info": {
   "codemirror_mode": "java",
   "file_extension": ".jshell",
   "mimetype": "text/x-java-source",
   "name": "Java",
   "pygments_lexer": "java",
   "version": "18.0.2+9-61"
  }
 },
 "nbformat": 4,
 "nbformat_minor": 5
}
