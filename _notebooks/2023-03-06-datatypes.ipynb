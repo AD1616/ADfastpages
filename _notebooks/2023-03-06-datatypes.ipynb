{
 "cells": [
  {
   "cell_type": "markdown",
   "id": "9296edfb",
   "metadata": {},
   "source": [
    "# Data Types\n",
    "> Data types\n",
    "\n",
    "- title: Data Types\n",
    "- toc: true\n",
    "- comments: true\n",
    "- categories: [tri3]"
   ]
  },
  {
   "cell_type": "markdown",
   "id": "d783413e",
   "metadata": {},
   "source": [
    "## Java Binary Addition"
   ]
  },
  {
   "cell_type": "code",
   "execution_count": 2,
   "id": "e75e462a",
   "metadata": {},
   "outputs": [
    {
     "data": {
      "text/plain": [
       "10"
      ]
     },
     "execution_count": 2,
     "metadata": {},
     "output_type": "execute_result"
    }
   ],
   "source": [
    " public static String addBinary(){\n",
    " \n",
    "    String num1 = \"1\";\n",
    "    String num2 = \"1\";\n",
    "\n",
    "    int num1Binary = Integer.parseInt(num1, 2);\n",
    "    int num2Binary = Integer.parseInt(num2, 2);\n",
    "\n",
    "    int sum =  + num1Binary + num1Binary;\n",
    "    return Integer.toBinaryString(sum); \n",
    "}\n",
    "\n",
    "addBinary();"
   ]
  },
  {
   "cell_type": "markdown",
   "id": "a30fa187",
   "metadata": {},
   "source": [
    "## Primitive Types and Pass by Value"
   ]
  },
  {
   "cell_type": "code",
   "execution_count": 14,
   "id": "8d79b05e",
   "metadata": {},
   "outputs": [
    {
     "name": "stdout",
     "output_type": "stream",
     "text": [
      "Integer is: 5\n",
      "Double is: 10.5\n",
      "Boolean is: false\n",
      "Char is: d\n",
      "Changed Integer is: 6\n",
      "Changed Double is: 11.5\n",
      "Changed Boolean is: true\n",
      "Changed Char is: z\n",
      "Duplicated Integer is: 5\n",
      "Duplicated Double is: 10.5\n",
      "Duplicated Boolean is: false\n",
      "Duplicated Char is: d\n"
     ]
    }
   ],
   "source": [
    "public class PrimitiveTypes {\n",
    "    \n",
    "    public int a;\n",
    "    public double b;\n",
    "    public boolean c;\n",
    "    public char d;\n",
    "    \n",
    "    public PrimitiveTypes(int a, double b, boolean c, char d) {\n",
    "        this.a = a;\n",
    "        this.b = b;\n",
    "        this.c = c;\n",
    "        this.d = d;\n",
    "    }\n",
    "    \n",
    "    public void ChangePrimitiveTypes(int newInt, double newDouble, boolean newBool, char newChar) {\n",
    "        this.a = newInt + 1;\n",
    "        this.b = newDouble + 1;\n",
    "        this.c = !newBool;\n",
    "        this.d = 'z';\n",
    "    }\n",
    "    \n",
    "\n",
    "    public static void main(String[] args) {\n",
    "        \n",
    "        \n",
    "        \n",
    "        PrimitiveTypes PT = new PrimitiveTypes(5, 10.5, false, 'd');\n",
    "        \n",
    "        int aDuplicate = PT.a;\n",
    "        double bDuplicate = PT.b;\n",
    "        boolean cDuplicate = PT.c;\n",
    "        char dDuplicate = PT.d;\n",
    "        \n",
    "        System.out.println(\"Integer is: \" + PT.a);\n",
    "        System.out.println(\"Double is: \" + PT.b);\n",
    "        System.out.println(\"Boolean is: \" + PT.c);\n",
    "        System.out.println(\"Char is: \" + PT.d);\n",
    "        \n",
    "        PT.ChangePrimitiveTypes(PT.a, PT.b, PT.c, PT.d);\n",
    "        \n",
    "        System.out.println(\"Changed Integer is: \" + PT.a);\n",
    "        System.out.println(\"Changed Double is: \" + PT.b);\n",
    "        System.out.println(\"Changed Boolean is: \" + PT.c);\n",
    "        System.out.println(\"Changed Char is: \" + PT.d);\n",
    "        \n",
    "        \n",
    "        System.out.println(\"Duplicated Integer is: \" + aDuplicate);\n",
    "        System.out.println(\"Duplicated Double is: \" + bDuplicate);\n",
    "        System.out.println(\"Duplicated Boolean is: \" + cDuplicate);\n",
    "        System.out.println(\"Duplicated Char is: \" + dDuplicate);\n",
    "        \n",
    "    }\n",
    "}\n",
    "PrimitiveTypes.main(null);"
   ]
  },
  {
   "cell_type": "markdown",
   "id": "e94d8bec",
   "metadata": {},
   "source": [
    "Above, we see an integer, double, boolean, and char all being defined in a Java class and assigned values through the constructor. We pass in these values to the **ChangePrimitiveTypes** function, which modifies each value. In Java, primitive types are **passed by value**, which means that the variable stores an actual value. We can visualize this through the above class. After we assign initial values to the variables in the class, we create 4 new variables and assign their values to be the same as the values of the variables in the class. Now, we print the original values of the 4 variables in the class. Then, we change all of the values of the variables in the class, and print the variables again. We see that the new values are printed. However, when we print the 4 new variables we created at the start, they still contain the original values we assigned. This is because these 4 variables contained actual values, and since we never modified those variables the values never changed. "
   ]
  },
  {
   "cell_type": "code",
   "execution_count": 32,
   "id": "809c57c2",
   "metadata": {},
   "outputs": [
    {
     "name": "stdout",
     "output_type": "stream",
     "text": [
      "[1, 2, 3, 4]\n",
      "[1, 2, 3, 4]\n",
      "[5, 2, 3, 4]\n",
      "[5, 2, 3, 4]\n"
     ]
    }
   ],
   "source": [
    "public class ReferenceTypes {\n",
    "\n",
    "\n",
    "    public static void main(String[] args) {\n",
    "        \n",
    "        int[] arr1 = {1, 2, 3, 4};\n",
    "        int[] arr2 = arr1; \n",
    "\n",
    "        System.out.println(Arrays.toString(arr1));  \n",
    "        System.out.println(Arrays.toString(arr2));  \n",
    "\n",
    "        arr1[0] = 5;\n",
    "\n",
    "        System.out.println(Arrays.toString(arr1));  \n",
    "        System.out.println(Arrays.toString(arr2));  \n",
    "\n",
    "        \n",
    "        \n",
    "\n",
    "        \n",
    "        \n",
    "    }\n",
    "}\n",
    "ReferenceTypes.main(null);"
   ]
  },
  {
   "cell_type": "code",
   "execution_count": null,
   "id": "11ad4055",
   "metadata": {},
   "outputs": [],
   "source": []
  },
  {
   "cell_type": "code",
   "execution_count": null,
   "id": "c55394c7",
   "metadata": {},
   "outputs": [],
   "source": []
  }
 ],
 "metadata": {
  "kernelspec": {
   "display_name": "Java",
   "language": "java",
   "name": "java"
  },
  "language_info": {
   "codemirror_mode": "java",
   "file_extension": ".jshell",
   "mimetype": "text/x-java-source",
   "name": "Java",
   "pygments_lexer": "java",
   "version": "18.0.2+9-61"
  }
 },
 "nbformat": 4,
 "nbformat_minor": 5
}
