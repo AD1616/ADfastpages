{
 "cells": [
  {
   "cell_type": "markdown",
   "id": "9296edfb",
   "metadata": {},
   "source": [
    "# Data Types\n",
    "> Data types\n",
    "\n",
    "- title: Data Types\n",
    "- toc: true\n",
    "- comments: true\n",
    "- categories: [tri3]"
   ]
  },
  {
   "cell_type": "markdown",
   "id": "d783413e",
   "metadata": {},
   "source": [
    "## Java Binary Addition"
   ]
  },
  {
   "cell_type": "code",
   "execution_count": 3,
   "id": "e75e462a",
   "metadata": {},
   "outputs": [
    {
     "data": {
      "text/plain": [
       "10"
      ]
     },
     "execution_count": 3,
     "metadata": {},
     "output_type": "execute_result"
    }
   ],
   "source": [
    " public static String addBinary(){\n",
    " \n",
    "    String input0 = \"1\";\n",
    "    String input1 = \"1\";\n",
    "\n",
    "    int number0 = Integer.parseInt(input0, 2);\n",
    "    int number1 = Integer.parseInt(input1, 2);\n",
    "\n",
    "    int sum = number0 + number1;\n",
    "    return Integer.toBinaryString(sum); \n",
    "}\n",
    "\n",
    "addBinary();"
   ]
  },
  {
   "cell_type": "code",
   "execution_count": null,
   "id": "8d79b05e",
   "metadata": {},
   "outputs": [],
   "source": []
  }
 ],
 "metadata": {
  "kernelspec": {
   "display_name": "Java",
   "language": "java",
   "name": "java"
  },
  "language_info": {
   "codemirror_mode": "java",
   "file_extension": ".jshell",
   "mimetype": "text/x-java-source",
   "name": "Java",
   "pygments_lexer": "java",
   "version": "18.0.2+9-61"
  }
 },
 "nbformat": 4,
 "nbformat_minor": 5
}
