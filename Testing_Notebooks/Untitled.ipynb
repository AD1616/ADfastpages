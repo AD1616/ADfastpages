{
 "cells": [
  {
   "cell_type": "code",
   "execution_count": 3,
   "id": "ba522624",
   "metadata": {},
   "outputs": [
    {
     "name": "stdout",
     "output_type": "stream",
     "text": [
      "[1, 2, 3, 4, 5, 7]\n"
     ]
    }
   ],
   "source": [
    "import java.util.LinkedList;\n",
    "import java.util.Queue;\n",
    "\n",
    "public class QueueSort {\n",
    "    public static Queue<Integer> sort(Queue<Integer> q) {\n",
    "        if (q.size() < 2) {\n",
    "            return q;\n",
    "        }\n",
    "\n",
    "        int pivot = q.peek();\n",
    "        Queue<Integer> leftQ = new LinkedList<>();\n",
    "        Queue<Integer> rightQ = new LinkedList<>();\n",
    "\n",
    "        q.remove(); // remove the pivot element\n",
    "\n",
    "        while (!q.isEmpty()) {\n",
    "            int item = q.remove();\n",
    "            if (item < pivot) {\n",
    "                leftQ.add(item);\n",
    "            } else {\n",
    "                rightQ.add(item);\n",
    "            }\n",
    "        }\n",
    "\n",
    "        Queue<Integer> sortedLeftQ = sort(leftQ);\n",
    "        Queue<Integer> sortedRightQ = sort(rightQ);\n",
    "\n",
    "        Queue<Integer> sortedQ = new LinkedList<>();\n",
    "        while (!sortedLeftQ.isEmpty()) {\n",
    "            sortedQ.add(sortedLeftQ.remove());\n",
    "        }\n",
    "        sortedQ.add(pivot);\n",
    "        while (!sortedRightQ.isEmpty()) {\n",
    "            sortedQ.add(sortedRightQ.remove());\n",
    "        }\n",
    "\n",
    "        return sortedQ;\n",
    "    }\n",
    "    \n",
    "    public static void main(String[] args) {\n",
    "        Queue<Integer> q = new LinkedList<>();\n",
    "        q.add(5);\n",
    "        q.add(1);\n",
    "        q.add(4);\n",
    "        q.add(3);\n",
    "        q.add(7);\n",
    "        q.add(2);\n",
    "\n",
    "        Queue<Integer> sortedQ = QueueSort.sort(q);\n",
    "\n",
    "        System.out.println(sortedQ); // prints [1, 2, 3, 4]\n",
    "    }\n",
    "}\n",
    "\n",
    "QueueSort.main(null);"
   ]
  },
  {
   "cell_type": "code",
   "execution_count": null,
   "id": "edf39963",
   "metadata": {},
   "outputs": [],
   "source": []
  }
 ],
 "metadata": {
  "kernelspec": {
   "display_name": "Java",
   "language": "java",
   "name": "java"
  },
  "language_info": {
   "codemirror_mode": "java",
   "file_extension": ".jshell",
   "mimetype": "text/x-java-source",
   "name": "Java",
   "pygments_lexer": "java",
   "version": "18.0.2+9-61"
  }
 },
 "nbformat": 4,
 "nbformat_minor": 5
}
